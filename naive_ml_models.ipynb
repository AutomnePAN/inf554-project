{
 "cells": [
  {
   "cell_type": "code",
   "execution_count": 1,
   "metadata": {},
   "outputs": [],
   "source": [
    "# Load the modules used\n",
    "\n",
    "from collections import defaultdict\n",
    "import numpy as np\n",
    "import pandas as pd\n",
    "import tensorflow as tf\n",
    "import tensorflow\n",
    "import tensorflow_hub as hub\n",
    "from matplotlib import pyplot as plt\n",
    "\n",
    "from datetime import datetime\n",
    "import time\n",
    "\n",
    "from sklearn import preprocessing\n",
    "from sklearn.metrics.pairwise import cosine_similarity\n",
    "from sklearn.metrics import f1_score\n",
    "from sklearn.metrics import mean_absolute_error\n",
    "from sklearn.model_selection import train_test_split\n",
    "from sklearn.metrics import confusion_matrix\n",
    "from sklearn.svm import SVC\n",
    "from sklearn import preprocessing\n",
    "from sklearn.preprocessing import StandardScaler\n",
    "\n",
    "import tensorflow_hub as hub\n",
    "from verstack.stratified_continuous_split import scsplit\n",
    "from sklearn.metrics import f1_score\n",
    "from sklearn.metrics import accuracy_score\n"
   ]
  },
  {
   "cell_type": "markdown",
   "metadata": {},
   "source": [
    "## Processing the data"
   ]
  },
  {
   "cell_type": "code",
   "execution_count": 2,
   "metadata": {},
   "outputs": [],
   "source": [
    "def word_cut(word):\n",
    "    if pd.isna(word):\n",
    "        return []\n",
    "    word_array = np.array([])\n",
    "    l = 0\n",
    "    for i,s in enumerate(word):\n",
    "        if s == ',':\n",
    "            word_array = np.append(word_array, word[l:i])\n",
    "            l = i+1\n",
    "    word_array = np.append(word_array, word[l::])\n",
    "    return word_array"
   ]
  },
  {
   "cell_type": "code",
   "execution_count": 3,
   "metadata": {},
   "outputs": [],
   "source": [
    "def counter(word):\n",
    "    if pd.isna(word):\n",
    "        return 0\n",
    "    number = 1\n",
    "    for s in word:\n",
    "        if s == ',':\n",
    "            number += 1\n",
    "    return number"
   ]
  },
  {
   "cell_type": "code",
   "execution_count": 4,
   "metadata": {},
   "outputs": [],
   "source": [
    "def data_preprocess(df):\n",
    "    df = pd.read_csv(\"data/train.csv\")\n",
    "    df[\"user_verified\"] = df[\"user_verified\"].astype(int)\n",
    "    df['date']  =(df['timestamp']).astype(np.int64) // 10**3\n",
    "    df[\"user_verified\"] = df[\"user_verified\"].astype(int)\n",
    "    df['date']= pd.to_datetime(df['date'], unit='s')\n",
    "    df[\"hour\"] = df[\"date\"].dt.hour\n",
    "    df[\"day\"] = df[\"date\"].dt.day\n",
    "    df[\"month\"] = df[\"date\"].dt.month\n",
    "\n",
    "    # 0 for Monday\n",
    "    df[\"weekday\"] = df[\"date\"].dt.weekday\n",
    "\n",
    "    # If the day is a weekend or not\n",
    "    df[\"weekend\"] = np.where(np.logical_or(df[\"weekday\"] == 5, df[\"weekday\"] == 6), 1, 0)\n",
    "    df[\"friends_followers_ratio\"] = df[\"user_friends_count\"]/df[\"user_followers_count\"]\n",
    "    df[\"has_hashtags\"] = np.where(pd.notnull(df[\"hashtags\"]), 1, 0)\n",
    "    df[\"has_mentions\"] = np.where(pd.notnull(df[\"user_mentions\"]), 1, 0)\n",
    "    df[\"has_urls\"] = np.where(pd.notnull(df[\"urls\"]), 1, 0)\n",
    "\n",
    "    df[\"number_of_urls\"] = df[\"urls\"].apply(counter)\n",
    "    df[\"number_of_mentions\"] = df[\"user_mentions\"].apply(counter)\n",
    "    df[\"number_of_hashtags\"] = df[\"hashtags\"].apply(counter)\n",
    "    return df"
   ]
  },
  {
   "cell_type": "markdown",
   "metadata": {},
   "source": [
    "## Load the Processed Data"
   ]
  },
  {
   "cell_type": "code",
   "execution_count": 4,
   "metadata": {},
   "outputs": [],
   "source": [
    "train_data_raw = pd.read_csv(\"./data/partially_treated_train_data.csv\" )"
   ]
  },
  {
   "cell_type": "code",
   "execution_count": 5,
   "metadata": {},
   "outputs": [],
   "source": [
    "train_data_original = pd.read_csv(\"./data/train.csv\")"
   ]
  },
  {
   "cell_type": "code",
   "execution_count": 5,
   "metadata": {
    "scrolled": true
   },
   "outputs": [
    {
     "data": {
      "text/html": [
       "<div>\n",
       "<style scoped>\n",
       "    .dataframe tbody tr th:only-of-type {\n",
       "        vertical-align: middle;\n",
       "    }\n",
       "\n",
       "    .dataframe tbody tr th {\n",
       "        vertical-align: top;\n",
       "    }\n",
       "\n",
       "    .dataframe thead th {\n",
       "        text-align: right;\n",
       "    }\n",
       "</style>\n",
       "<table border=\"1\" class=\"dataframe\">\n",
       "  <thead>\n",
       "    <tr style=\"text-align: right;\">\n",
       "      <th></th>\n",
       "      <th>id</th>\n",
       "      <th>timestamp</th>\n",
       "      <th>retweet_count</th>\n",
       "      <th>user_verified</th>\n",
       "      <th>user_statuses_count</th>\n",
       "      <th>user_followers_count</th>\n",
       "      <th>user_friends_count</th>\n",
       "      <th>user_mentions</th>\n",
       "      <th>urls</th>\n",
       "      <th>hashtags</th>\n",
       "      <th>...</th>\n",
       "      <th>has_mentions</th>\n",
       "      <th>has_urls</th>\n",
       "      <th>number_of_urls</th>\n",
       "      <th>number_of_mentions</th>\n",
       "      <th>number_of_hashtags</th>\n",
       "      <th>urls_popularity</th>\n",
       "      <th>hashtags_popularity</th>\n",
       "      <th>mentions_popularity</th>\n",
       "      <th>mentions_max_followers</th>\n",
       "      <th>mentions_max_friends</th>\n",
       "    </tr>\n",
       "  </thead>\n",
       "  <tbody>\n",
       "    <tr>\n",
       "      <th>0</th>\n",
       "      <td>0</td>\n",
       "      <td>1588696955143</td>\n",
       "      <td>0.0</td>\n",
       "      <td>0</td>\n",
       "      <td>68460</td>\n",
       "      <td>1101</td>\n",
       "      <td>1226</td>\n",
       "      <td>NaN</td>\n",
       "      <td>NaN</td>\n",
       "      <td>NaN</td>\n",
       "      <td>...</td>\n",
       "      <td>0</td>\n",
       "      <td>0</td>\n",
       "      <td>0</td>\n",
       "      <td>0</td>\n",
       "      <td>0</td>\n",
       "      <td>0</td>\n",
       "      <td>0</td>\n",
       "      <td>0</td>\n",
       "      <td>NaN</td>\n",
       "      <td>NaN</td>\n",
       "    </tr>\n",
       "    <tr>\n",
       "      <th>1</th>\n",
       "      <td>1</td>\n",
       "      <td>1588464948124</td>\n",
       "      <td>0.0</td>\n",
       "      <td>0</td>\n",
       "      <td>309</td>\n",
       "      <td>51</td>\n",
       "      <td>202</td>\n",
       "      <td>NaN</td>\n",
       "      <td>NaN</td>\n",
       "      <td>NaN</td>\n",
       "      <td>...</td>\n",
       "      <td>0</td>\n",
       "      <td>0</td>\n",
       "      <td>0</td>\n",
       "      <td>0</td>\n",
       "      <td>0</td>\n",
       "      <td>0</td>\n",
       "      <td>0</td>\n",
       "      <td>0</td>\n",
       "      <td>NaN</td>\n",
       "      <td>NaN</td>\n",
       "    </tr>\n",
       "    <tr>\n",
       "      <th>2</th>\n",
       "      <td>2</td>\n",
       "      <td>1588634673360</td>\n",
       "      <td>0.0</td>\n",
       "      <td>0</td>\n",
       "      <td>3241</td>\n",
       "      <td>1675</td>\n",
       "      <td>2325</td>\n",
       "      <td>NaN</td>\n",
       "      <td>NaN</td>\n",
       "      <td>NaN</td>\n",
       "      <td>...</td>\n",
       "      <td>0</td>\n",
       "      <td>0</td>\n",
       "      <td>0</td>\n",
       "      <td>0</td>\n",
       "      <td>0</td>\n",
       "      <td>0</td>\n",
       "      <td>0</td>\n",
       "      <td>0</td>\n",
       "      <td>NaN</td>\n",
       "      <td>NaN</td>\n",
       "    </tr>\n",
       "    <tr>\n",
       "      <th>3</th>\n",
       "      <td>3</td>\n",
       "      <td>1588433158672</td>\n",
       "      <td>0.0</td>\n",
       "      <td>0</td>\n",
       "      <td>32327</td>\n",
       "      <td>667</td>\n",
       "      <td>304</td>\n",
       "      <td>NaN</td>\n",
       "      <td>NaN</td>\n",
       "      <td>NaN</td>\n",
       "      <td>...</td>\n",
       "      <td>0</td>\n",
       "      <td>0</td>\n",
       "      <td>0</td>\n",
       "      <td>0</td>\n",
       "      <td>0</td>\n",
       "      <td>0</td>\n",
       "      <td>0</td>\n",
       "      <td>0</td>\n",
       "      <td>NaN</td>\n",
       "      <td>NaN</td>\n",
       "    </tr>\n",
       "    <tr>\n",
       "      <th>4</th>\n",
       "      <td>4</td>\n",
       "      <td>1588582751599</td>\n",
       "      <td>0.0</td>\n",
       "      <td>0</td>\n",
       "      <td>581</td>\n",
       "      <td>42</td>\n",
       "      <td>127</td>\n",
       "      <td>NaN</td>\n",
       "      <td>NaN</td>\n",
       "      <td>NaN</td>\n",
       "      <td>...</td>\n",
       "      <td>0</td>\n",
       "      <td>0</td>\n",
       "      <td>0</td>\n",
       "      <td>0</td>\n",
       "      <td>0</td>\n",
       "      <td>0</td>\n",
       "      <td>0</td>\n",
       "      <td>0</td>\n",
       "      <td>NaN</td>\n",
       "      <td>NaN</td>\n",
       "    </tr>\n",
       "  </tbody>\n",
       "</table>\n",
       "<p>5 rows × 28 columns</p>\n",
       "</div>"
      ],
      "text/plain": [
       "   id      timestamp  retweet_count  user_verified  user_statuses_count  \\\n",
       "0   0  1588696955143            0.0              0                68460   \n",
       "1   1  1588464948124            0.0              0                  309   \n",
       "2   2  1588634673360            0.0              0                 3241   \n",
       "3   3  1588433158672            0.0              0                32327   \n",
       "4   4  1588582751599            0.0              0                  581   \n",
       "\n",
       "   user_followers_count  user_friends_count user_mentions urls hashtags  ...  \\\n",
       "0                  1101                1226           NaN  NaN      NaN  ...   \n",
       "1                    51                 202           NaN  NaN      NaN  ...   \n",
       "2                  1675                2325           NaN  NaN      NaN  ...   \n",
       "3                   667                 304           NaN  NaN      NaN  ...   \n",
       "4                    42                 127           NaN  NaN      NaN  ...   \n",
       "\n",
       "  has_mentions  has_urls  number_of_urls  number_of_mentions  \\\n",
       "0            0         0               0                   0   \n",
       "1            0         0               0                   0   \n",
       "2            0         0               0                   0   \n",
       "3            0         0               0                   0   \n",
       "4            0         0               0                   0   \n",
       "\n",
       "   number_of_hashtags  urls_popularity  hashtags_popularity  \\\n",
       "0                   0                0                    0   \n",
       "1                   0                0                    0   \n",
       "2                   0                0                    0   \n",
       "3                   0                0                    0   \n",
       "4                   0                0                    0   \n",
       "\n",
       "   mentions_popularity  mentions_max_followers  mentions_max_friends  \n",
       "0                    0                     NaN                   NaN  \n",
       "1                    0                     NaN                   NaN  \n",
       "2                    0                     NaN                   NaN  \n",
       "3                    0                     NaN                   NaN  \n",
       "4                    0                     NaN                   NaN  \n",
       "\n",
       "[5 rows x 28 columns]"
      ]
     },
     "execution_count": 5,
     "metadata": {},
     "output_type": "execute_result"
    }
   ],
   "source": [
    "train_data_raw.head()"
   ]
  },
  {
   "cell_type": "code",
   "execution_count": 6,
   "metadata": {},
   "outputs": [],
   "source": [
    "train_data = data_preprocess(train_data_original)"
   ]
  },
  {
   "cell_type": "code",
   "execution_count": 7,
   "metadata": {
    "scrolled": true
   },
   "outputs": [
    {
     "data": {
      "text/html": [
       "<div>\n",
       "<style scoped>\n",
       "    .dataframe tbody tr th:only-of-type {\n",
       "        vertical-align: middle;\n",
       "    }\n",
       "\n",
       "    .dataframe tbody tr th {\n",
       "        vertical-align: top;\n",
       "    }\n",
       "\n",
       "    .dataframe thead th {\n",
       "        text-align: right;\n",
       "    }\n",
       "</style>\n",
       "<table border=\"1\" class=\"dataframe\">\n",
       "  <thead>\n",
       "    <tr style=\"text-align: right;\">\n",
       "      <th></th>\n",
       "      <th>id</th>\n",
       "      <th>timestamp</th>\n",
       "      <th>retweet_count</th>\n",
       "      <th>user_verified</th>\n",
       "      <th>user_statuses_count</th>\n",
       "      <th>user_followers_count</th>\n",
       "      <th>user_friends_count</th>\n",
       "      <th>user_mentions</th>\n",
       "      <th>urls</th>\n",
       "      <th>hashtags</th>\n",
       "      <th>...</th>\n",
       "      <th>month</th>\n",
       "      <th>weekday</th>\n",
       "      <th>weekend</th>\n",
       "      <th>friends_followers_ratio</th>\n",
       "      <th>has_hashtags</th>\n",
       "      <th>has_mentions</th>\n",
       "      <th>has_urls</th>\n",
       "      <th>number_of_urls</th>\n",
       "      <th>number_of_mentions</th>\n",
       "      <th>number_of_hashtags</th>\n",
       "    </tr>\n",
       "  </thead>\n",
       "  <tbody>\n",
       "    <tr>\n",
       "      <th>0</th>\n",
       "      <td>0</td>\n",
       "      <td>1588696955143</td>\n",
       "      <td>0</td>\n",
       "      <td>0</td>\n",
       "      <td>68460</td>\n",
       "      <td>1101</td>\n",
       "      <td>1226</td>\n",
       "      <td>NaN</td>\n",
       "      <td>NaN</td>\n",
       "      <td>NaN</td>\n",
       "      <td>...</td>\n",
       "      <td>5</td>\n",
       "      <td>1</td>\n",
       "      <td>0</td>\n",
       "      <td>1.113533</td>\n",
       "      <td>0</td>\n",
       "      <td>0</td>\n",
       "      <td>0</td>\n",
       "      <td>0</td>\n",
       "      <td>0</td>\n",
       "      <td>0</td>\n",
       "    </tr>\n",
       "    <tr>\n",
       "      <th>1</th>\n",
       "      <td>1</td>\n",
       "      <td>1588464948124</td>\n",
       "      <td>0</td>\n",
       "      <td>0</td>\n",
       "      <td>309</td>\n",
       "      <td>51</td>\n",
       "      <td>202</td>\n",
       "      <td>NaN</td>\n",
       "      <td>NaN</td>\n",
       "      <td>NaN</td>\n",
       "      <td>...</td>\n",
       "      <td>5</td>\n",
       "      <td>6</td>\n",
       "      <td>1</td>\n",
       "      <td>3.960784</td>\n",
       "      <td>0</td>\n",
       "      <td>0</td>\n",
       "      <td>0</td>\n",
       "      <td>0</td>\n",
       "      <td>0</td>\n",
       "      <td>0</td>\n",
       "    </tr>\n",
       "    <tr>\n",
       "      <th>2</th>\n",
       "      <td>2</td>\n",
       "      <td>1588634673360</td>\n",
       "      <td>0</td>\n",
       "      <td>0</td>\n",
       "      <td>3241</td>\n",
       "      <td>1675</td>\n",
       "      <td>2325</td>\n",
       "      <td>NaN</td>\n",
       "      <td>NaN</td>\n",
       "      <td>NaN</td>\n",
       "      <td>...</td>\n",
       "      <td>5</td>\n",
       "      <td>0</td>\n",
       "      <td>0</td>\n",
       "      <td>1.388060</td>\n",
       "      <td>0</td>\n",
       "      <td>0</td>\n",
       "      <td>0</td>\n",
       "      <td>0</td>\n",
       "      <td>0</td>\n",
       "      <td>0</td>\n",
       "    </tr>\n",
       "    <tr>\n",
       "      <th>3</th>\n",
       "      <td>3</td>\n",
       "      <td>1588433158672</td>\n",
       "      <td>0</td>\n",
       "      <td>0</td>\n",
       "      <td>32327</td>\n",
       "      <td>667</td>\n",
       "      <td>304</td>\n",
       "      <td>NaN</td>\n",
       "      <td>NaN</td>\n",
       "      <td>NaN</td>\n",
       "      <td>...</td>\n",
       "      <td>5</td>\n",
       "      <td>5</td>\n",
       "      <td>1</td>\n",
       "      <td>0.455772</td>\n",
       "      <td>0</td>\n",
       "      <td>0</td>\n",
       "      <td>0</td>\n",
       "      <td>0</td>\n",
       "      <td>0</td>\n",
       "      <td>0</td>\n",
       "    </tr>\n",
       "    <tr>\n",
       "      <th>4</th>\n",
       "      <td>4</td>\n",
       "      <td>1588582751599</td>\n",
       "      <td>0</td>\n",
       "      <td>0</td>\n",
       "      <td>581</td>\n",
       "      <td>42</td>\n",
       "      <td>127</td>\n",
       "      <td>NaN</td>\n",
       "      <td>NaN</td>\n",
       "      <td>NaN</td>\n",
       "      <td>...</td>\n",
       "      <td>5</td>\n",
       "      <td>0</td>\n",
       "      <td>0</td>\n",
       "      <td>3.023810</td>\n",
       "      <td>0</td>\n",
       "      <td>0</td>\n",
       "      <td>0</td>\n",
       "      <td>0</td>\n",
       "      <td>0</td>\n",
       "      <td>0</td>\n",
       "    </tr>\n",
       "  </tbody>\n",
       "</table>\n",
       "<p>5 rows × 24 columns</p>\n",
       "</div>"
      ],
      "text/plain": [
       "   id      timestamp  retweet_count  user_verified  user_statuses_count  \\\n",
       "0   0  1588696955143              0              0                68460   \n",
       "1   1  1588464948124              0              0                  309   \n",
       "2   2  1588634673360              0              0                 3241   \n",
       "3   3  1588433158672              0              0                32327   \n",
       "4   4  1588582751599              0              0                  581   \n",
       "\n",
       "   user_followers_count  user_friends_count user_mentions urls hashtags  ...  \\\n",
       "0                  1101                1226           NaN  NaN      NaN  ...   \n",
       "1                    51                 202           NaN  NaN      NaN  ...   \n",
       "2                  1675                2325           NaN  NaN      NaN  ...   \n",
       "3                   667                 304           NaN  NaN      NaN  ...   \n",
       "4                    42                 127           NaN  NaN      NaN  ...   \n",
       "\n",
       "  month weekday  weekend  friends_followers_ratio  has_hashtags  has_mentions  \\\n",
       "0     5       1        0                 1.113533             0             0   \n",
       "1     5       6        1                 3.960784             0             0   \n",
       "2     5       0        0                 1.388060             0             0   \n",
       "3     5       5        1                 0.455772             0             0   \n",
       "4     5       0        0                 3.023810             0             0   \n",
       "\n",
       "   has_urls  number_of_urls  number_of_mentions  number_of_hashtags  \n",
       "0         0               0                   0                   0  \n",
       "1         0               0                   0                   0  \n",
       "2         0               0                   0                   0  \n",
       "3         0               0                   0                   0  \n",
       "4         0               0                   0                   0  \n",
       "\n",
       "[5 rows x 24 columns]"
      ]
     },
     "execution_count": 7,
     "metadata": {},
     "output_type": "execute_result"
    }
   ],
   "source": [
    "train_data.head()"
   ]
  },
  {
   "cell_type": "markdown",
   "metadata": {},
   "source": [
    "## Select the training features"
   ]
  },
  {
   "cell_type": "code",
   "execution_count": 7,
   "metadata": {
    "scrolled": true
   },
   "outputs": [
    {
     "data": {
      "text/plain": [
       "Index(['id', 'timestamp', 'retweet_count', 'user_verified',\n",
       "       'user_statuses_count', 'user_followers_count', 'user_friends_count',\n",
       "       'user_mentions', 'urls', 'hashtags', 'date', 'hour', 'day', 'month',\n",
       "       'weekday', 'weekend', 'friends_followers_ratio', 'has_hashtags',\n",
       "       'has_mentions', 'has_urls', 'number_of_urls', 'number_of_mentions',\n",
       "       'number_of_hashtags', 'urls_popularity', 'hashtags_popularity',\n",
       "       'mentions_popularity', 'mentions_max_followers',\n",
       "       'mentions_max_friends'],\n",
       "      dtype='object')"
      ]
     },
     "execution_count": 7,
     "metadata": {},
     "output_type": "execute_result"
    }
   ],
   "source": [
    "train_data_raw.columns"
   ]
  },
  {
   "cell_type": "code",
   "execution_count": 15,
   "metadata": {
    "scrolled": false
   },
   "outputs": [],
   "source": [
    "training_features = [ 'retweet_count', 'user_verified',\n",
    "                       'user_statuses_count', 'user_followers_count', 'user_friends_count','hour', 'day', 'month',\n",
    "                       'weekday', 'weekend', 'friends_followers_ratio', 'has_hashtags',\n",
    "                       'has_mentions', 'has_urls', 'number_of_urls', 'number_of_mentions',\n",
    "                       'number_of_hashtags', 'urls_popularity', 'hashtags_popularity',\n",
    "                       'mentions_popularity', 'mentions_max_followers',\n",
    "                       'mentions_max_friends' ]"
   ]
  },
  {
   "cell_type": "code",
   "execution_count": 16,
   "metadata": {
    "scrolled": true
   },
   "outputs": [],
   "source": [
    "train_data = train_data_raw[training_features]"
   ]
  },
  {
   "cell_type": "code",
   "execution_count": 19,
   "metadata": {
    "scrolled": true
   },
   "outputs": [],
   "source": [
    "train_data = train_data.replace([np.inf, np.inf], 0)\n",
    "train_data = train_data.fillna(0)"
   ]
  },
  {
   "cell_type": "code",
   "execution_count": 11,
   "metadata": {
    "scrolled": true
   },
   "outputs": [
    {
     "data": {
      "text/html": [
       "<div>\n",
       "<style scoped>\n",
       "    .dataframe tbody tr th:only-of-type {\n",
       "        vertical-align: middle;\n",
       "    }\n",
       "\n",
       "    .dataframe tbody tr th {\n",
       "        vertical-align: top;\n",
       "    }\n",
       "\n",
       "    .dataframe thead th {\n",
       "        text-align: right;\n",
       "    }\n",
       "</style>\n",
       "<table border=\"1\" class=\"dataframe\">\n",
       "  <thead>\n",
       "    <tr style=\"text-align: right;\">\n",
       "      <th></th>\n",
       "      <th>retweet_count</th>\n",
       "      <th>user_verified</th>\n",
       "      <th>user_statuses_count</th>\n",
       "      <th>user_followers_count</th>\n",
       "      <th>user_friends_count</th>\n",
       "      <th>hour</th>\n",
       "      <th>day</th>\n",
       "      <th>month</th>\n",
       "      <th>weekday</th>\n",
       "      <th>weekend</th>\n",
       "      <th>...</th>\n",
       "      <th>has_mentions</th>\n",
       "      <th>has_urls</th>\n",
       "      <th>number_of_urls</th>\n",
       "      <th>number_of_mentions</th>\n",
       "      <th>number_of_hashtags</th>\n",
       "      <th>urls_popularity</th>\n",
       "      <th>hashtags_popularity</th>\n",
       "      <th>mentions_popularity</th>\n",
       "      <th>mentions_max_followers</th>\n",
       "      <th>mentions_max_friends</th>\n",
       "    </tr>\n",
       "  </thead>\n",
       "  <tbody>\n",
       "    <tr>\n",
       "      <th>count</th>\n",
       "      <td>665777.000000</td>\n",
       "      <td>665777.000000</td>\n",
       "      <td>6.657770e+05</td>\n",
       "      <td>6.657770e+05</td>\n",
       "      <td>6.657770e+05</td>\n",
       "      <td>665777.000000</td>\n",
       "      <td>665777.000000</td>\n",
       "      <td>665777.000000</td>\n",
       "      <td>665777.000000</td>\n",
       "      <td>665777.000000</td>\n",
       "      <td>...</td>\n",
       "      <td>665777.000000</td>\n",
       "      <td>665777.000000</td>\n",
       "      <td>665777.000000</td>\n",
       "      <td>665777.000000</td>\n",
       "      <td>665777.000000</td>\n",
       "      <td>665777.000000</td>\n",
       "      <td>665777.000000</td>\n",
       "      <td>665777.000000</td>\n",
       "      <td>5.429100e+04</td>\n",
       "      <td>5.429100e+04</td>\n",
       "    </tr>\n",
       "    <tr>\n",
       "      <th>mean</th>\n",
       "      <td>147.687398</td>\n",
       "      <td>0.133294</td>\n",
       "      <td>4.167295e+04</td>\n",
       "      <td>2.329881e+05</td>\n",
       "      <td>2.743131e+03</td>\n",
       "      <td>12.646503</td>\n",
       "      <td>4.067243</td>\n",
       "      <td>4.959878</td>\n",
       "      <td>2.983509</td>\n",
       "      <td>0.286012</td>\n",
       "      <td>...</td>\n",
       "      <td>0.081545</td>\n",
       "      <td>0.321549</td>\n",
       "      <td>0.330758</td>\n",
       "      <td>0.129498</td>\n",
       "      <td>0.192219</td>\n",
       "      <td>62055.176618</td>\n",
       "      <td>888.411818</td>\n",
       "      <td>8.950151</td>\n",
       "      <td>7.029292e+06</td>\n",
       "      <td>2.747307e+03</td>\n",
       "    </tr>\n",
       "    <tr>\n",
       "      <th>std</th>\n",
       "      <td>2972.051181</td>\n",
       "      <td>0.339892</td>\n",
       "      <td>9.848516e+04</td>\n",
       "      <td>2.442260e+06</td>\n",
       "      <td>1.725410e+04</td>\n",
       "      <td>7.030982</td>\n",
       "      <td>5.507782</td>\n",
       "      <td>0.196244</td>\n",
       "      <td>2.206916</td>\n",
       "      <td>0.451895</td>\n",
       "      <td>...</td>\n",
       "      <td>0.273671</td>\n",
       "      <td>0.467071</td>\n",
       "      <td>0.490239</td>\n",
       "      <td>0.558951</td>\n",
       "      <td>0.694312</td>\n",
       "      <td>105870.928890</td>\n",
       "      <td>4271.525566</td>\n",
       "      <td>118.361516</td>\n",
       "      <td>2.085563e+07</td>\n",
       "      <td>2.518922e+04</td>\n",
       "    </tr>\n",
       "    <tr>\n",
       "      <th>min</th>\n",
       "      <td>0.000000</td>\n",
       "      <td>0.000000</td>\n",
       "      <td>0.000000e+00</td>\n",
       "      <td>0.000000e+00</td>\n",
       "      <td>0.000000e+00</td>\n",
       "      <td>0.000000</td>\n",
       "      <td>1.000000</td>\n",
       "      <td>4.000000</td>\n",
       "      <td>0.000000</td>\n",
       "      <td>0.000000</td>\n",
       "      <td>...</td>\n",
       "      <td>0.000000</td>\n",
       "      <td>0.000000</td>\n",
       "      <td>0.000000</td>\n",
       "      <td>0.000000</td>\n",
       "      <td>0.000000</td>\n",
       "      <td>0.000000</td>\n",
       "      <td>0.000000</td>\n",
       "      <td>0.000000</td>\n",
       "      <td>0.000000e+00</td>\n",
       "      <td>0.000000e+00</td>\n",
       "    </tr>\n",
       "    <tr>\n",
       "      <th>25%</th>\n",
       "      <td>0.000000</td>\n",
       "      <td>0.000000</td>\n",
       "      <td>2.352000e+03</td>\n",
       "      <td>2.060000e+02</td>\n",
       "      <td>2.290000e+02</td>\n",
       "      <td>7.000000</td>\n",
       "      <td>1.000000</td>\n",
       "      <td>5.000000</td>\n",
       "      <td>1.000000</td>\n",
       "      <td>0.000000</td>\n",
       "      <td>...</td>\n",
       "      <td>0.000000</td>\n",
       "      <td>0.000000</td>\n",
       "      <td>0.000000</td>\n",
       "      <td>0.000000</td>\n",
       "      <td>0.000000</td>\n",
       "      <td>0.000000</td>\n",
       "      <td>0.000000</td>\n",
       "      <td>0.000000</td>\n",
       "      <td>0.000000e+00</td>\n",
       "      <td>0.000000e+00</td>\n",
       "    </tr>\n",
       "    <tr>\n",
       "      <th>50%</th>\n",
       "      <td>0.000000</td>\n",
       "      <td>0.000000</td>\n",
       "      <td>1.080400e+04</td>\n",
       "      <td>1.002000e+03</td>\n",
       "      <td>6.390000e+02</td>\n",
       "      <td>14.000000</td>\n",
       "      <td>3.000000</td>\n",
       "      <td>5.000000</td>\n",
       "      <td>4.000000</td>\n",
       "      <td>0.000000</td>\n",
       "      <td>...</td>\n",
       "      <td>0.000000</td>\n",
       "      <td>0.000000</td>\n",
       "      <td>0.000000</td>\n",
       "      <td>0.000000</td>\n",
       "      <td>0.000000</td>\n",
       "      <td>0.000000</td>\n",
       "      <td>0.000000</td>\n",
       "      <td>0.000000</td>\n",
       "      <td>0.000000e+00</td>\n",
       "      <td>0.000000e+00</td>\n",
       "    </tr>\n",
       "    <tr>\n",
       "      <th>75%</th>\n",
       "      <td>2.000000</td>\n",
       "      <td>0.000000</td>\n",
       "      <td>3.809900e+04</td>\n",
       "      <td>6.012000e+03</td>\n",
       "      <td>1.746000e+03</td>\n",
       "      <td>19.000000</td>\n",
       "      <td>5.000000</td>\n",
       "      <td>5.000000</td>\n",
       "      <td>5.000000</td>\n",
       "      <td>1.000000</td>\n",
       "      <td>...</td>\n",
       "      <td>0.000000</td>\n",
       "      <td>1.000000</td>\n",
       "      <td>1.000000</td>\n",
       "      <td>0.000000</td>\n",
       "      <td>0.000000</td>\n",
       "      <td>242936.000000</td>\n",
       "      <td>0.000000</td>\n",
       "      <td>0.000000</td>\n",
       "      <td>7.892020e+05</td>\n",
       "      <td>7.020000e+02</td>\n",
       "    </tr>\n",
       "    <tr>\n",
       "      <th>max</th>\n",
       "      <td>942572.000000</td>\n",
       "      <td>1.000000</td>\n",
       "      <td>7.203222e+06</td>\n",
       "      <td>1.170640e+08</td>\n",
       "      <td>4.399078e+06</td>\n",
       "      <td>23.000000</td>\n",
       "      <td>30.000000</td>\n",
       "      <td>5.000000</td>\n",
       "      <td>6.000000</td>\n",
       "      <td>1.000000</td>\n",
       "      <td>...</td>\n",
       "      <td>1.000000</td>\n",
       "      <td>1.000000</td>\n",
       "      <td>5.000000</td>\n",
       "      <td>13.000000</td>\n",
       "      <td>18.000000</td>\n",
       "      <td>242936.000000</td>\n",
       "      <td>25490.000000</td>\n",
       "      <td>2239.000000</td>\n",
       "      <td>1.267528e+08</td>\n",
       "      <td>1.392825e+06</td>\n",
       "    </tr>\n",
       "  </tbody>\n",
       "</table>\n",
       "<p>8 rows × 22 columns</p>\n",
       "</div>"
      ],
      "text/plain": [
       "       retweet_count  user_verified  user_statuses_count  \\\n",
       "count  665777.000000  665777.000000         6.657770e+05   \n",
       "mean      147.687398       0.133294         4.167295e+04   \n",
       "std      2972.051181       0.339892         9.848516e+04   \n",
       "min         0.000000       0.000000         0.000000e+00   \n",
       "25%         0.000000       0.000000         2.352000e+03   \n",
       "50%         0.000000       0.000000         1.080400e+04   \n",
       "75%         2.000000       0.000000         3.809900e+04   \n",
       "max    942572.000000       1.000000         7.203222e+06   \n",
       "\n",
       "       user_followers_count  user_friends_count           hour            day  \\\n",
       "count          6.657770e+05        6.657770e+05  665777.000000  665777.000000   \n",
       "mean           2.329881e+05        2.743131e+03      12.646503       4.067243   \n",
       "std            2.442260e+06        1.725410e+04       7.030982       5.507782   \n",
       "min            0.000000e+00        0.000000e+00       0.000000       1.000000   \n",
       "25%            2.060000e+02        2.290000e+02       7.000000       1.000000   \n",
       "50%            1.002000e+03        6.390000e+02      14.000000       3.000000   \n",
       "75%            6.012000e+03        1.746000e+03      19.000000       5.000000   \n",
       "max            1.170640e+08        4.399078e+06      23.000000      30.000000   \n",
       "\n",
       "               month        weekday        weekend  ...   has_mentions  \\\n",
       "count  665777.000000  665777.000000  665777.000000  ...  665777.000000   \n",
       "mean        4.959878       2.983509       0.286012  ...       0.081545   \n",
       "std         0.196244       2.206916       0.451895  ...       0.273671   \n",
       "min         4.000000       0.000000       0.000000  ...       0.000000   \n",
       "25%         5.000000       1.000000       0.000000  ...       0.000000   \n",
       "50%         5.000000       4.000000       0.000000  ...       0.000000   \n",
       "75%         5.000000       5.000000       1.000000  ...       0.000000   \n",
       "max         5.000000       6.000000       1.000000  ...       1.000000   \n",
       "\n",
       "            has_urls  number_of_urls  number_of_mentions  number_of_hashtags  \\\n",
       "count  665777.000000   665777.000000       665777.000000       665777.000000   \n",
       "mean        0.321549        0.330758            0.129498            0.192219   \n",
       "std         0.467071        0.490239            0.558951            0.694312   \n",
       "min         0.000000        0.000000            0.000000            0.000000   \n",
       "25%         0.000000        0.000000            0.000000            0.000000   \n",
       "50%         0.000000        0.000000            0.000000            0.000000   \n",
       "75%         1.000000        1.000000            0.000000            0.000000   \n",
       "max         1.000000        5.000000           13.000000           18.000000   \n",
       "\n",
       "       urls_popularity  hashtags_popularity  mentions_popularity  \\\n",
       "count    665777.000000        665777.000000        665777.000000   \n",
       "mean      62055.176618           888.411818             8.950151   \n",
       "std      105870.928890          4271.525566           118.361516   \n",
       "min           0.000000             0.000000             0.000000   \n",
       "25%           0.000000             0.000000             0.000000   \n",
       "50%           0.000000             0.000000             0.000000   \n",
       "75%      242936.000000             0.000000             0.000000   \n",
       "max      242936.000000         25490.000000          2239.000000   \n",
       "\n",
       "       mentions_max_followers  mentions_max_friends  \n",
       "count            5.429100e+04          5.429100e+04  \n",
       "mean             7.029292e+06          2.747307e+03  \n",
       "std              2.085563e+07          2.518922e+04  \n",
       "min              0.000000e+00          0.000000e+00  \n",
       "25%              0.000000e+00          0.000000e+00  \n",
       "50%              0.000000e+00          0.000000e+00  \n",
       "75%              7.892020e+05          7.020000e+02  \n",
       "max              1.267528e+08          1.392825e+06  \n",
       "\n",
       "[8 rows x 22 columns]"
      ]
     },
     "execution_count": 11,
     "metadata": {},
     "output_type": "execute_result"
    }
   ],
   "source": [
    "train_data.describe()"
   ]
  },
  {
   "cell_type": "code",
   "execution_count": 20,
   "metadata": {
    "scrolled": true
   },
   "outputs": [
    {
     "data": {
      "text/html": [
       "<div>\n",
       "<style scoped>\n",
       "    .dataframe tbody tr th:only-of-type {\n",
       "        vertical-align: middle;\n",
       "    }\n",
       "\n",
       "    .dataframe tbody tr th {\n",
       "        vertical-align: top;\n",
       "    }\n",
       "\n",
       "    .dataframe thead th {\n",
       "        text-align: right;\n",
       "    }\n",
       "</style>\n",
       "<table border=\"1\" class=\"dataframe\">\n",
       "  <thead>\n",
       "    <tr style=\"text-align: right;\">\n",
       "      <th></th>\n",
       "      <th>retweet_count</th>\n",
       "      <th>user_verified</th>\n",
       "      <th>user_statuses_count</th>\n",
       "      <th>user_followers_count</th>\n",
       "      <th>user_friends_count</th>\n",
       "      <th>hour</th>\n",
       "      <th>day</th>\n",
       "      <th>month</th>\n",
       "      <th>weekday</th>\n",
       "      <th>weekend</th>\n",
       "      <th>...</th>\n",
       "      <th>has_mentions</th>\n",
       "      <th>has_urls</th>\n",
       "      <th>number_of_urls</th>\n",
       "      <th>number_of_mentions</th>\n",
       "      <th>number_of_hashtags</th>\n",
       "      <th>urls_popularity</th>\n",
       "      <th>hashtags_popularity</th>\n",
       "      <th>mentions_popularity</th>\n",
       "      <th>mentions_max_followers</th>\n",
       "      <th>mentions_max_friends</th>\n",
       "    </tr>\n",
       "  </thead>\n",
       "  <tbody>\n",
       "    <tr>\n",
       "      <th>0</th>\n",
       "      <td>0.0</td>\n",
       "      <td>0</td>\n",
       "      <td>68460</td>\n",
       "      <td>1101</td>\n",
       "      <td>1226</td>\n",
       "      <td>16</td>\n",
       "      <td>5</td>\n",
       "      <td>5</td>\n",
       "      <td>1</td>\n",
       "      <td>0</td>\n",
       "      <td>...</td>\n",
       "      <td>0</td>\n",
       "      <td>0</td>\n",
       "      <td>0</td>\n",
       "      <td>0</td>\n",
       "      <td>0</td>\n",
       "      <td>0</td>\n",
       "      <td>0</td>\n",
       "      <td>0</td>\n",
       "      <td>0.0</td>\n",
       "      <td>0.0</td>\n",
       "    </tr>\n",
       "    <tr>\n",
       "      <th>1</th>\n",
       "      <td>0.0</td>\n",
       "      <td>0</td>\n",
       "      <td>309</td>\n",
       "      <td>51</td>\n",
       "      <td>202</td>\n",
       "      <td>0</td>\n",
       "      <td>3</td>\n",
       "      <td>5</td>\n",
       "      <td>6</td>\n",
       "      <td>1</td>\n",
       "      <td>...</td>\n",
       "      <td>0</td>\n",
       "      <td>0</td>\n",
       "      <td>0</td>\n",
       "      <td>0</td>\n",
       "      <td>0</td>\n",
       "      <td>0</td>\n",
       "      <td>0</td>\n",
       "      <td>0</td>\n",
       "      <td>0.0</td>\n",
       "      <td>0.0</td>\n",
       "    </tr>\n",
       "    <tr>\n",
       "      <th>2</th>\n",
       "      <td>0.0</td>\n",
       "      <td>0</td>\n",
       "      <td>3241</td>\n",
       "      <td>1675</td>\n",
       "      <td>2325</td>\n",
       "      <td>23</td>\n",
       "      <td>4</td>\n",
       "      <td>5</td>\n",
       "      <td>0</td>\n",
       "      <td>0</td>\n",
       "      <td>...</td>\n",
       "      <td>0</td>\n",
       "      <td>0</td>\n",
       "      <td>0</td>\n",
       "      <td>0</td>\n",
       "      <td>0</td>\n",
       "      <td>0</td>\n",
       "      <td>0</td>\n",
       "      <td>0</td>\n",
       "      <td>0.0</td>\n",
       "      <td>0.0</td>\n",
       "    </tr>\n",
       "    <tr>\n",
       "      <th>3</th>\n",
       "      <td>0.0</td>\n",
       "      <td>0</td>\n",
       "      <td>32327</td>\n",
       "      <td>667</td>\n",
       "      <td>304</td>\n",
       "      <td>15</td>\n",
       "      <td>2</td>\n",
       "      <td>5</td>\n",
       "      <td>5</td>\n",
       "      <td>1</td>\n",
       "      <td>...</td>\n",
       "      <td>0</td>\n",
       "      <td>0</td>\n",
       "      <td>0</td>\n",
       "      <td>0</td>\n",
       "      <td>0</td>\n",
       "      <td>0</td>\n",
       "      <td>0</td>\n",
       "      <td>0</td>\n",
       "      <td>0.0</td>\n",
       "      <td>0.0</td>\n",
       "    </tr>\n",
       "    <tr>\n",
       "      <th>4</th>\n",
       "      <td>0.0</td>\n",
       "      <td>0</td>\n",
       "      <td>581</td>\n",
       "      <td>42</td>\n",
       "      <td>127</td>\n",
       "      <td>8</td>\n",
       "      <td>4</td>\n",
       "      <td>5</td>\n",
       "      <td>0</td>\n",
       "      <td>0</td>\n",
       "      <td>...</td>\n",
       "      <td>0</td>\n",
       "      <td>0</td>\n",
       "      <td>0</td>\n",
       "      <td>0</td>\n",
       "      <td>0</td>\n",
       "      <td>0</td>\n",
       "      <td>0</td>\n",
       "      <td>0</td>\n",
       "      <td>0.0</td>\n",
       "      <td>0.0</td>\n",
       "    </tr>\n",
       "  </tbody>\n",
       "</table>\n",
       "<p>5 rows × 22 columns</p>\n",
       "</div>"
      ],
      "text/plain": [
       "   retweet_count  user_verified  user_statuses_count  user_followers_count  \\\n",
       "0            0.0              0                68460                  1101   \n",
       "1            0.0              0                  309                    51   \n",
       "2            0.0              0                 3241                  1675   \n",
       "3            0.0              0                32327                   667   \n",
       "4            0.0              0                  581                    42   \n",
       "\n",
       "   user_friends_count  hour  day  month  weekday  weekend  ...  has_mentions  \\\n",
       "0                1226    16    5      5        1        0  ...             0   \n",
       "1                 202     0    3      5        6        1  ...             0   \n",
       "2                2325    23    4      5        0        0  ...             0   \n",
       "3                 304    15    2      5        5        1  ...             0   \n",
       "4                 127     8    4      5        0        0  ...             0   \n",
       "\n",
       "   has_urls  number_of_urls  number_of_mentions  number_of_hashtags  \\\n",
       "0         0               0                   0                   0   \n",
       "1         0               0                   0                   0   \n",
       "2         0               0                   0                   0   \n",
       "3         0               0                   0                   0   \n",
       "4         0               0                   0                   0   \n",
       "\n",
       "   urls_popularity  hashtags_popularity  mentions_popularity  \\\n",
       "0                0                    0                    0   \n",
       "1                0                    0                    0   \n",
       "2                0                    0                    0   \n",
       "3                0                    0                    0   \n",
       "4                0                    0                    0   \n",
       "\n",
       "   mentions_max_followers  mentions_max_friends  \n",
       "0                     0.0                   0.0  \n",
       "1                     0.0                   0.0  \n",
       "2                     0.0                   0.0  \n",
       "3                     0.0                   0.0  \n",
       "4                     0.0                   0.0  \n",
       "\n",
       "[5 rows x 22 columns]"
      ]
     },
     "execution_count": 20,
     "metadata": {},
     "output_type": "execute_result"
    }
   ],
   "source": [
    "train_data.head()"
   ]
  },
  {
   "cell_type": "code",
   "execution_count": 21,
   "metadata": {
    "scrolled": true
   },
   "outputs": [
    {
     "data": {
      "text/html": [
       "<div>\n",
       "<style scoped>\n",
       "    .dataframe tbody tr th:only-of-type {\n",
       "        vertical-align: middle;\n",
       "    }\n",
       "\n",
       "    .dataframe tbody tr th {\n",
       "        vertical-align: top;\n",
       "    }\n",
       "\n",
       "    .dataframe thead th {\n",
       "        text-align: right;\n",
       "    }\n",
       "</style>\n",
       "<table border=\"1\" class=\"dataframe\">\n",
       "  <thead>\n",
       "    <tr style=\"text-align: right;\">\n",
       "      <th></th>\n",
       "      <th>retweet_count</th>\n",
       "      <th>user_verified</th>\n",
       "      <th>user_statuses_count</th>\n",
       "      <th>user_followers_count</th>\n",
       "      <th>user_friends_count</th>\n",
       "      <th>hour</th>\n",
       "      <th>day</th>\n",
       "      <th>month</th>\n",
       "      <th>weekday</th>\n",
       "      <th>weekend</th>\n",
       "      <th>...</th>\n",
       "      <th>has_mentions</th>\n",
       "      <th>has_urls</th>\n",
       "      <th>number_of_urls</th>\n",
       "      <th>number_of_mentions</th>\n",
       "      <th>number_of_hashtags</th>\n",
       "      <th>urls_popularity</th>\n",
       "      <th>hashtags_popularity</th>\n",
       "      <th>mentions_popularity</th>\n",
       "      <th>mentions_max_followers</th>\n",
       "      <th>mentions_max_friends</th>\n",
       "    </tr>\n",
       "  </thead>\n",
       "  <tbody>\n",
       "    <tr>\n",
       "      <th>546442</th>\n",
       "      <td>942572.0</td>\n",
       "      <td>1</td>\n",
       "      <td>12256</td>\n",
       "      <td>25441659</td>\n",
       "      <td>133</td>\n",
       "      <td>13</td>\n",
       "      <td>4</td>\n",
       "      <td>5</td>\n",
       "      <td>0</td>\n",
       "      <td>0</td>\n",
       "      <td>...</td>\n",
       "      <td>0</td>\n",
       "      <td>0</td>\n",
       "      <td>0</td>\n",
       "      <td>0</td>\n",
       "      <td>0</td>\n",
       "      <td>0</td>\n",
       "      <td>0</td>\n",
       "      <td>0</td>\n",
       "      <td>0.0</td>\n",
       "      <td>0.0</td>\n",
       "    </tr>\n",
       "  </tbody>\n",
       "</table>\n",
       "<p>1 rows × 22 columns</p>\n",
       "</div>"
      ],
      "text/plain": [
       "        retweet_count  user_verified  user_statuses_count  \\\n",
       "546442       942572.0              1                12256   \n",
       "\n",
       "        user_followers_count  user_friends_count  hour  day  month  weekday  \\\n",
       "546442              25441659                 133    13    4      5        0   \n",
       "\n",
       "        weekend  ...  has_mentions  has_urls  number_of_urls  \\\n",
       "546442        0  ...             0         0               0   \n",
       "\n",
       "        number_of_mentions  number_of_hashtags  urls_popularity  \\\n",
       "546442                   0                   0                0   \n",
       "\n",
       "        hashtags_popularity  mentions_popularity  mentions_max_followers  \\\n",
       "546442                    0                    0                     0.0   \n",
       "\n",
       "        mentions_max_friends  \n",
       "546442                   0.0  \n",
       "\n",
       "[1 rows x 22 columns]"
      ]
     },
     "execution_count": 21,
     "metadata": {},
     "output_type": "execute_result"
    }
   ],
   "source": [
    "train_data[train_data['retweet_count'] > 900000]"
   ]
  },
  {
   "cell_type": "code",
   "execution_count": 22,
   "metadata": {
    "scrolled": true
   },
   "outputs": [
    {
     "data": {
      "text/plain": [
       "retweet_count              0\n",
       "user_verified              0\n",
       "user_statuses_count        0\n",
       "user_followers_count       0\n",
       "user_friends_count         0\n",
       "hour                       0\n",
       "day                        0\n",
       "month                      0\n",
       "weekday                    0\n",
       "weekend                    0\n",
       "friends_followers_ratio    0\n",
       "has_hashtags               0\n",
       "has_mentions               0\n",
       "has_urls                   0\n",
       "number_of_urls             0\n",
       "number_of_mentions         0\n",
       "number_of_hashtags         0\n",
       "urls_popularity            0\n",
       "hashtags_popularity        0\n",
       "mentions_popularity        0\n",
       "mentions_max_followers     0\n",
       "mentions_max_friends       0\n",
       "dtype: int64"
      ]
     },
     "execution_count": 22,
     "metadata": {},
     "output_type": "execute_result"
    }
   ],
   "source": [
    "train_data.isna().sum()"
   ]
  },
  {
   "cell_type": "markdown",
   "metadata": {},
   "source": [
    "### drop the rows with `NaN`"
   ]
  },
  {
   "cell_type": "code",
   "execution_count": 23,
   "metadata": {},
   "outputs": [
    {
     "data": {
      "text/plain": [
       "Index(['retweet_count', 'user_verified', 'user_statuses_count',\n",
       "       'user_followers_count', 'user_friends_count', 'hour', 'day', 'month',\n",
       "       'weekday', 'weekend', 'friends_followers_ratio', 'has_hashtags',\n",
       "       'has_mentions', 'has_urls', 'number_of_urls', 'number_of_mentions',\n",
       "       'number_of_hashtags', 'urls_popularity', 'hashtags_popularity',\n",
       "       'mentions_popularity', 'mentions_max_followers',\n",
       "       'mentions_max_friends'],\n",
       "      dtype='object')"
      ]
     },
     "execution_count": 23,
     "metadata": {},
     "output_type": "execute_result"
    }
   ],
   "source": [
    "train_data.columns"
   ]
  },
  {
   "cell_type": "code",
   "execution_count": 17,
   "metadata": {},
   "outputs": [
    {
     "data": {
      "text/html": [
       "<div>\n",
       "<style scoped>\n",
       "    .dataframe tbody tr th:only-of-type {\n",
       "        vertical-align: middle;\n",
       "    }\n",
       "\n",
       "    .dataframe tbody tr th {\n",
       "        vertical-align: top;\n",
       "    }\n",
       "\n",
       "    .dataframe thead th {\n",
       "        text-align: right;\n",
       "    }\n",
       "</style>\n",
       "<table border=\"1\" class=\"dataframe\">\n",
       "  <thead>\n",
       "    <tr style=\"text-align: right;\">\n",
       "      <th></th>\n",
       "      <th>retweet_count</th>\n",
       "      <th>user_verified</th>\n",
       "      <th>user_statuses_count</th>\n",
       "      <th>user_followers_count</th>\n",
       "      <th>user_friends_count</th>\n",
       "      <th>hour</th>\n",
       "      <th>day</th>\n",
       "      <th>month</th>\n",
       "      <th>weekday</th>\n",
       "      <th>weekend</th>\n",
       "      <th>friends_followers_ratio</th>\n",
       "      <th>has_hashtags</th>\n",
       "      <th>has_mentions</th>\n",
       "      <th>has_urls</th>\n",
       "      <th>number_of_urls</th>\n",
       "      <th>number_of_mentions</th>\n",
       "      <th>number_of_hashtags</th>\n",
       "    </tr>\n",
       "  </thead>\n",
       "  <tbody>\n",
       "    <tr>\n",
       "      <th>count</th>\n",
       "      <td>664949.000000</td>\n",
       "      <td>664949.000000</td>\n",
       "      <td>6.649490e+05</td>\n",
       "      <td>6.649490e+05</td>\n",
       "      <td>6.649490e+05</td>\n",
       "      <td>664949.000000</td>\n",
       "      <td>664949.000000</td>\n",
       "      <td>664949.000000</td>\n",
       "      <td>664949.000000</td>\n",
       "      <td>664949.000000</td>\n",
       "      <td>664949.000000</td>\n",
       "      <td>664949.000000</td>\n",
       "      <td>664949.000000</td>\n",
       "      <td>664949.000000</td>\n",
       "      <td>664949.000000</td>\n",
       "      <td>664949.000000</td>\n",
       "      <td>664949.000000</td>\n",
       "    </tr>\n",
       "    <tr>\n",
       "      <th>mean</th>\n",
       "      <td>147.864854</td>\n",
       "      <td>0.133460</td>\n",
       "      <td>4.172351e+04</td>\n",
       "      <td>2.332783e+05</td>\n",
       "      <td>2.746547e+03</td>\n",
       "      <td>12.647690</td>\n",
       "      <td>4.068020</td>\n",
       "      <td>4.959848</td>\n",
       "      <td>2.983378</td>\n",
       "      <td>0.285923</td>\n",
       "      <td>2.196596</td>\n",
       "      <td>0.108908</td>\n",
       "      <td>0.081600</td>\n",
       "      <td>0.321817</td>\n",
       "      <td>0.331013</td>\n",
       "      <td>0.129583</td>\n",
       "      <td>0.192349</td>\n",
       "    </tr>\n",
       "    <tr>\n",
       "      <th>std</th>\n",
       "      <td>2973.892555</td>\n",
       "      <td>0.340071</td>\n",
       "      <td>9.853563e+04</td>\n",
       "      <td>2.443767e+06</td>\n",
       "      <td>1.726456e+04</td>\n",
       "      <td>7.030958</td>\n",
       "      <td>5.509663</td>\n",
       "      <td>0.196316</td>\n",
       "      <td>2.206798</td>\n",
       "      <td>0.451853</td>\n",
       "      <td>7.568688</td>\n",
       "      <td>0.311523</td>\n",
       "      <td>0.273755</td>\n",
       "      <td>0.467174</td>\n",
       "      <td>0.490283</td>\n",
       "      <td>0.559090</td>\n",
       "      <td>0.694441</td>\n",
       "    </tr>\n",
       "    <tr>\n",
       "      <th>min</th>\n",
       "      <td>0.000000</td>\n",
       "      <td>0.000000</td>\n",
       "      <td>1.000000e+00</td>\n",
       "      <td>0.000000e+00</td>\n",
       "      <td>0.000000e+00</td>\n",
       "      <td>0.000000</td>\n",
       "      <td>1.000000</td>\n",
       "      <td>4.000000</td>\n",
       "      <td>0.000000</td>\n",
       "      <td>0.000000</td>\n",
       "      <td>0.000000</td>\n",
       "      <td>0.000000</td>\n",
       "      <td>0.000000</td>\n",
       "      <td>0.000000</td>\n",
       "      <td>0.000000</td>\n",
       "      <td>0.000000</td>\n",
       "      <td>0.000000</td>\n",
       "    </tr>\n",
       "    <tr>\n",
       "      <th>25%</th>\n",
       "      <td>0.000000</td>\n",
       "      <td>0.000000</td>\n",
       "      <td>2.368000e+03</td>\n",
       "      <td>2.070000e+02</td>\n",
       "      <td>2.300000e+02</td>\n",
       "      <td>7.000000</td>\n",
       "      <td>1.000000</td>\n",
       "      <td>5.000000</td>\n",
       "      <td>1.000000</td>\n",
       "      <td>0.000000</td>\n",
       "      <td>0.238071</td>\n",
       "      <td>0.000000</td>\n",
       "      <td>0.000000</td>\n",
       "      <td>0.000000</td>\n",
       "      <td>0.000000</td>\n",
       "      <td>0.000000</td>\n",
       "      <td>0.000000</td>\n",
       "    </tr>\n",
       "    <tr>\n",
       "      <th>50%</th>\n",
       "      <td>0.000000</td>\n",
       "      <td>0.000000</td>\n",
       "      <td>1.083500e+04</td>\n",
       "      <td>1.006000e+03</td>\n",
       "      <td>6.410000e+02</td>\n",
       "      <td>14.000000</td>\n",
       "      <td>3.000000</td>\n",
       "      <td>5.000000</td>\n",
       "      <td>4.000000</td>\n",
       "      <td>0.000000</td>\n",
       "      <td>0.932579</td>\n",
       "      <td>0.000000</td>\n",
       "      <td>0.000000</td>\n",
       "      <td>0.000000</td>\n",
       "      <td>0.000000</td>\n",
       "      <td>0.000000</td>\n",
       "      <td>0.000000</td>\n",
       "    </tr>\n",
       "    <tr>\n",
       "      <th>75%</th>\n",
       "      <td>2.000000</td>\n",
       "      <td>0.000000</td>\n",
       "      <td>3.815400e+04</td>\n",
       "      <td>6.031000e+03</td>\n",
       "      <td>1.749000e+03</td>\n",
       "      <td>19.000000</td>\n",
       "      <td>5.000000</td>\n",
       "      <td>5.000000</td>\n",
       "      <td>5.000000</td>\n",
       "      <td>1.000000</td>\n",
       "      <td>1.900338</td>\n",
       "      <td>0.000000</td>\n",
       "      <td>0.000000</td>\n",
       "      <td>1.000000</td>\n",
       "      <td>1.000000</td>\n",
       "      <td>0.000000</td>\n",
       "      <td>0.000000</td>\n",
       "    </tr>\n",
       "    <tr>\n",
       "      <th>max</th>\n",
       "      <td>942572.000000</td>\n",
       "      <td>1.000000</td>\n",
       "      <td>7.203222e+06</td>\n",
       "      <td>1.170640e+08</td>\n",
       "      <td>4.399078e+06</td>\n",
       "      <td>23.000000</td>\n",
       "      <td>30.000000</td>\n",
       "      <td>5.000000</td>\n",
       "      <td>6.000000</td>\n",
       "      <td>1.000000</td>\n",
       "      <td>1915.000000</td>\n",
       "      <td>1.000000</td>\n",
       "      <td>1.000000</td>\n",
       "      <td>1.000000</td>\n",
       "      <td>5.000000</td>\n",
       "      <td>13.000000</td>\n",
       "      <td>18.000000</td>\n",
       "    </tr>\n",
       "  </tbody>\n",
       "</table>\n",
       "</div>"
      ],
      "text/plain": [
       "       retweet_count  user_verified  user_statuses_count  \\\n",
       "count  664949.000000  664949.000000         6.649490e+05   \n",
       "mean      147.864854       0.133460         4.172351e+04   \n",
       "std      2973.892555       0.340071         9.853563e+04   \n",
       "min         0.000000       0.000000         1.000000e+00   \n",
       "25%         0.000000       0.000000         2.368000e+03   \n",
       "50%         0.000000       0.000000         1.083500e+04   \n",
       "75%         2.000000       0.000000         3.815400e+04   \n",
       "max    942572.000000       1.000000         7.203222e+06   \n",
       "\n",
       "       user_followers_count  user_friends_count           hour            day  \\\n",
       "count          6.649490e+05        6.649490e+05  664949.000000  664949.000000   \n",
       "mean           2.332783e+05        2.746547e+03      12.647690       4.068020   \n",
       "std            2.443767e+06        1.726456e+04       7.030958       5.509663   \n",
       "min            0.000000e+00        0.000000e+00       0.000000       1.000000   \n",
       "25%            2.070000e+02        2.300000e+02       7.000000       1.000000   \n",
       "50%            1.006000e+03        6.410000e+02      14.000000       3.000000   \n",
       "75%            6.031000e+03        1.749000e+03      19.000000       5.000000   \n",
       "max            1.170640e+08        4.399078e+06      23.000000      30.000000   \n",
       "\n",
       "               month        weekday        weekend  friends_followers_ratio  \\\n",
       "count  664949.000000  664949.000000  664949.000000            664949.000000   \n",
       "mean        4.959848       2.983378       0.285923                 2.196596   \n",
       "std         0.196316       2.206798       0.451853                 7.568688   \n",
       "min         4.000000       0.000000       0.000000                 0.000000   \n",
       "25%         5.000000       1.000000       0.000000                 0.238071   \n",
       "50%         5.000000       4.000000       0.000000                 0.932579   \n",
       "75%         5.000000       5.000000       1.000000                 1.900338   \n",
       "max         5.000000       6.000000       1.000000              1915.000000   \n",
       "\n",
       "        has_hashtags   has_mentions       has_urls  number_of_urls  \\\n",
       "count  664949.000000  664949.000000  664949.000000   664949.000000   \n",
       "mean        0.108908       0.081600       0.321817        0.331013   \n",
       "std         0.311523       0.273755       0.467174        0.490283   \n",
       "min         0.000000       0.000000       0.000000        0.000000   \n",
       "25%         0.000000       0.000000       0.000000        0.000000   \n",
       "50%         0.000000       0.000000       0.000000        0.000000   \n",
       "75%         0.000000       0.000000       1.000000        1.000000   \n",
       "max         1.000000       1.000000       1.000000        5.000000   \n",
       "\n",
       "       number_of_mentions  number_of_hashtags  \n",
       "count       664949.000000       664949.000000  \n",
       "mean             0.129583            0.192349  \n",
       "std              0.559090            0.694441  \n",
       "min              0.000000            0.000000  \n",
       "25%              0.000000            0.000000  \n",
       "50%              0.000000            0.000000  \n",
       "75%              0.000000            0.000000  \n",
       "max             13.000000           18.000000  "
      ]
     },
     "execution_count": 17,
     "metadata": {},
     "output_type": "execute_result"
    }
   ],
   "source": [
    "train_data.describe()"
   ]
  },
  {
   "cell_type": "code",
   "execution_count": 14,
   "metadata": {
    "scrolled": true
   },
   "outputs": [],
   "source": [
    "for col in train_data.columns:\n",
    "    train_data = train_data[ pd.to_numeric(train_data[col], errors='coerce').notnull() ]"
   ]
  },
  {
   "cell_type": "markdown",
   "metadata": {},
   "source": [
    "### Transform to `numpy.array`"
   ]
  },
  {
   "cell_type": "code",
   "execution_count": 24,
   "metadata": {},
   "outputs": [],
   "source": [
    "data = np.array(train_data).astype(np.float)"
   ]
  },
  {
   "cell_type": "code",
   "execution_count": 25,
   "metadata": {},
   "outputs": [
    {
     "data": {
      "text/plain": [
       "(665777, 22)"
      ]
     },
     "execution_count": 25,
     "metadata": {},
     "output_type": "execute_result"
    }
   ],
   "source": [
    "data.shape"
   ]
  },
  {
   "cell_type": "code",
   "execution_count": 26,
   "metadata": {},
   "outputs": [],
   "source": [
    "X = data[:, 1:]\n",
    "y = data[:, 0]"
   ]
  },
  {
   "cell_type": "code",
   "execution_count": 28,
   "metadata": {},
   "outputs": [
    {
     "data": {
      "image/png": "[encoded data removed]",
      "text/plain": [
       "<Figure size 432x288 with 1 Axes>"
      ]
     },
     "metadata": {
      "needs_background": "light"
     },
     "output_type": "display_data"
    }
   ],
   "source": [
    "plt.hist(y[y<100], bins=90)\n",
    "plt.show()"
   ]
  },
  {
   "cell_type": "code",
   "execution_count": 29,
   "metadata": {},
   "outputs": [
    {
     "data": {
      "image/png": "[encoded data removed]",
      "text/plain": [
       "<Figure size 432x288 with 1 Axes>"
      ]
     },
     "metadata": {
      "needs_background": "light"
     },
     "output_type": "display_data"
    }
   ],
   "source": [
    "plt.hist(y[(0<y)*(y<10)], bins=10)\n",
    "plt.show()"
   ]
  },
  {
   "cell_type": "code",
   "execution_count": 30,
   "metadata": {},
   "outputs": [
    {
     "data": {
      "image/png": "[encoded data removed]",
      "text/plain": [
       "<Figure size 432x288 with 1 Axes>"
      ]
     },
     "metadata": {
      "needs_background": "light"
     },
     "output_type": "display_data"
    }
   ],
   "source": [
    "plt.hist(y[(10<y)*(y<100)], bins=90)\n",
    "plt.show()"
   ]
  },
  {
   "cell_type": "markdown",
   "metadata": {},
   "source": [
    "### Study of `y`: the retweet count"
   ]
  },
  {
   "cell_type": "code",
   "execution_count": 31,
   "metadata": {},
   "outputs": [
    {
     "data": {
      "text/plain": [
       "(665777,)"
      ]
     },
     "execution_count": 31,
     "metadata": {},
     "output_type": "execute_result"
    }
   ],
   "source": [
    "y.shape"
   ]
  },
  {
   "cell_type": "code",
   "execution_count": 32,
   "metadata": {},
   "outputs": [
    {
     "data": {
      "text/plain": [
       "942572.0"
      ]
     },
     "execution_count": 32,
     "metadata": {},
     "output_type": "execute_result"
    }
   ],
   "source": [
    "y.max()"
   ]
  },
  {
   "cell_type": "code",
   "execution_count": 26,
   "metadata": {},
   "outputs": [
    {
     "data": {
      "text/plain": [
       "0.0"
      ]
     },
     "execution_count": 26,
     "metadata": {},
     "output_type": "execute_result"
    }
   ],
   "source": [
    "y.min()"
   ]
  },
  {
   "cell_type": "code",
   "execution_count": 33,
   "metadata": {},
   "outputs": [
    {
     "data": {
      "text/plain": [
       "2972.0489492028046"
      ]
     },
     "execution_count": 33,
     "metadata": {},
     "output_type": "execute_result"
    }
   ],
   "source": [
    "y.std()"
   ]
  },
  {
   "cell_type": "code",
   "execution_count": 34,
   "metadata": {},
   "outputs": [
    {
     "data": {
      "text/plain": [
       "147.6873983330755"
      ]
     },
     "execution_count": 34,
     "metadata": {},
     "output_type": "execute_result"
    }
   ],
   "source": [
    "y.mean()"
   ]
  },
  {
   "cell_type": "code",
   "execution_count": 35,
   "metadata": {},
   "outputs": [
    {
     "name": "stdout",
     "output_type": "stream",
     "text": [
      "the count of y == 0:  422803\n"
     ]
    }
   ],
   "source": [
    "print(\"the count of y == 0: \", (y==0).sum())"
   ]
  },
  {
   "cell_type": "code",
   "execution_count": 36,
   "metadata": {},
   "outputs": [
    {
     "name": "stdout",
     "output_type": "stream",
     "text": [
      "the count of y in ]0, 10]:  142546\n"
     ]
    }
   ],
   "source": [
    "print(\"the count of y in ]0, 10]: \", ((0 <  y) * (y < 10)).sum())"
   ]
  },
  {
   "cell_type": "code",
   "execution_count": 37,
   "metadata": {},
   "outputs": [
    {
     "name": "stdout",
     "output_type": "stream",
     "text": [
      "the count of y in ]10, 100]:  59400\n"
     ]
    }
   ],
   "source": [
    "print(\"the count of y in ]10, 100]: \", ((10 <  y) * (y < 100)).sum())"
   ]
  },
  {
   "cell_type": "code",
   "execution_count": 38,
   "metadata": {},
   "outputs": [
    {
     "name": "stdout",
     "output_type": "stream",
     "text": [
      "the count of y in ]100, inf]:  37163\n"
     ]
    }
   ],
   "source": [
    "print(\"the count of y in ]100, inf]: \", ((y > 100)).sum())"
   ]
  },
  {
   "cell_type": "code",
   "execution_count": 257,
   "metadata": {},
   "outputs": [
    {
     "name": "stdout",
     "output_type": "stream",
     "text": [
      "the count of y in ]1000, inf]:  10240\n"
     ]
    }
   ],
   "source": [
    "print(\"the count of y in ]1000, inf]: \", ((y > 1000)).sum())"
   ]
  },
  {
   "cell_type": "markdown",
   "metadata": {},
   "source": [
    "## Benchmark\n",
    "\n",
    "- baseline: MAE ~ 280\n",
    "- all zero prediction: MAE ~ 150"
   ]
  },
  {
   "cell_type": "markdown",
   "metadata": {},
   "source": [
    "# Classification"
   ]
  },
  {
   "cell_type": "code",
   "execution_count": 46,
   "metadata": {},
   "outputs": [],
   "source": [
    "clf_zoo = {  }"
   ]
  },
  {
   "cell_type": "markdown",
   "metadata": {},
   "source": [
    "## Random Forest"
   ]
  },
  {
   "cell_type": "code",
   "execution_count": 39,
   "metadata": {},
   "outputs": [],
   "source": [
    "y0 = (y > 0)"
   ]
  },
  {
   "cell_type": "code",
   "execution_count": 40,
   "metadata": {},
   "outputs": [
    {
     "data": {
      "text/plain": [
       "242974"
      ]
     },
     "execution_count": 40,
     "metadata": {},
     "output_type": "execute_result"
    }
   ],
   "source": [
    "y0.sum()"
   ]
  },
  {
   "cell_type": "code",
   "execution_count": 41,
   "metadata": {},
   "outputs": [],
   "source": [
    "X_train, X_test, y_train, y_test = train_test_split(X, y, test_size=0.2, random_state=42)"
   ]
  },
  {
   "cell_type": "markdown",
   "metadata": {},
   "source": [
    "## First Model: Classification, y = 0?"
   ]
  },
  {
   "cell_type": "markdown",
   "metadata": {},
   "source": [
    "From the histgram and statistic value above, we found that the nealy 2/3 of the tweet have 0 retweet, so we want to start by trying to classify if the tweet has retweet or not."
   ]
  },
  {
   "cell_type": "code",
   "execution_count": 42,
   "metadata": {},
   "outputs": [],
   "source": [
    "y_train_0 = (y_train > 0)"
   ]
  },
  {
   "cell_type": "code",
   "execution_count": 59,
   "metadata": {},
   "outputs": [],
   "source": [
    "from sklearn.ensemble import RandomForestClassifier\n",
    "\n",
    "clf_1 = RandomForestClassifier(max_depth=20, random_state=42).fit(X_train, y_train_0)"
   ]
  },
  {
   "cell_type": "code",
   "execution_count": 60,
   "metadata": {
    "scrolled": true
   },
   "outputs": [
    {
     "data": {
      "text/plain": [
       "array([2.42011193e-02, 9.30361032e-03, 7.07755355e-02, 7.93885449e-03,\n",
       "       4.05201049e-03, 1.17956462e-03, 2.56440927e-04, 1.58138707e-03,\n",
       "       1.79875350e-03, 3.11093906e-02, 4.30955549e-02, 1.51360783e-02,\n",
       "       2.77151592e-01, 2.51995324e-01, 1.98968835e-02, 4.26249065e-02,\n",
       "       1.68936903e-01, 1.83957526e-02, 4.95158891e-03, 3.25376329e-03,\n",
       "       2.36498650e-03])"
      ]
     },
     "execution_count": 60,
     "metadata": {},
     "output_type": "execute_result"
    }
   ],
   "source": [
    "# Importance of features\n",
    "clf_1.feature_importances_"
   ]
  },
  {
   "cell_type": "code",
   "execution_count": 64,
   "metadata": {},
   "outputs": [],
   "source": [
    "clf_zoo['base'] = clf_1"
   ]
  },
  {
   "cell_type": "markdown",
   "metadata": {},
   "source": [
    "### performance on test set"
   ]
  },
  {
   "cell_type": "code",
   "execution_count": 61,
   "metadata": {},
   "outputs": [],
   "source": [
    "prediction = clf_1.predict(X_test)"
   ]
  },
  {
   "cell_type": "code",
   "execution_count": 62,
   "metadata": {},
   "outputs": [],
   "source": [
    "y_test_0 = (y_test > 0)"
   ]
  },
  {
   "cell_type": "code",
   "execution_count": 63,
   "metadata": {
    "scrolled": true
   },
   "outputs": [
    {
     "name": "stdout",
     "output_type": "stream",
     "text": [
      "f1 score:  0.9752035137343797\n",
      "accuracy:  0.9772973054162035\n"
     ]
    }
   ],
   "source": [
    "print( \"f1 score: \", f1_score(prediction, y_test_0, average=\"macro\") )\n",
    "print( \"accuracy: \", accuracy_score(prediction, y_test_0) )"
   ]
  },
  {
   "cell_type": "markdown",
   "metadata": {},
   "source": [
    "We pick the threshold 0.03"
   ]
  },
  {
   "cell_type": "markdown",
   "metadata": {},
   "source": [
    "## SVC"
   ]
  },
  {
   "cell_type": "code",
   "execution_count": 65,
   "metadata": {},
   "outputs": [],
   "source": [
    "# Too slow"
   ]
  },
  {
   "cell_type": "markdown",
   "metadata": {},
   "source": [
    "## Test the threshold"
   ]
  },
  {
   "cell_type": "code",
   "execution_count": 66,
   "metadata": {},
   "outputs": [],
   "source": [
    "threshold = 0.03\n",
    "\n",
    "prediction = clf_1.predict_proba(X_test)\n",
    "y_pred_0 = (prediction[:,1] > threshold)"
   ]
  },
  {
   "cell_type": "code",
   "execution_count": 67,
   "metadata": {},
   "outputs": [
    {
     "data": {
      "text/plain": [
       "array([[64588, 20101],\n",
       "       [  685, 47782]], dtype=int64)"
      ]
     },
     "execution_count": 67,
     "metadata": {},
     "output_type": "execute_result"
    }
   ],
   "source": [
    "confusion_matrix(y_test_0, y_pred_0)"
   ]
  },
  {
   "cell_type": "code",
   "execution_count": 74,
   "metadata": {},
   "outputs": [
    {
     "data": {
      "text/plain": [
       "65273"
      ]
     },
     "execution_count": 74,
     "metadata": {},
     "output_type": "execute_result"
    }
   ],
   "source": [
    "(y_pred_0.shape[0] - y_pred_0.sum()) "
   ]
  },
  {
   "cell_type": "markdown",
   "metadata": {},
   "source": [
    "Percentage of 0 predicted:"
   ]
  },
  {
   "cell_type": "code",
   "execution_count": 75,
   "metadata": {},
   "outputs": [
    {
     "data": {
      "text/plain": [
       "0.4901994652888341"
      ]
     },
     "execution_count": 75,
     "metadata": {},
     "output_type": "execute_result"
    }
   ],
   "source": [
    "(y_pred_0.shape[0] - y_pred_0.sum())  / y_pred_0.shape[0]"
   ]
  },
  {
   "cell_type": "markdown",
   "metadata": {},
   "source": [
    "Cost "
   ]
  },
  {
   "cell_type": "code",
   "execution_count": 69,
   "metadata": {},
   "outputs": [
    {
     "name": "stdout",
     "output_type": "stream",
     "text": [
      "141000.0\n",
      "8402.0\n",
      "1.0\n",
      "843.0\n",
      "1.0\n",
      "1.0\n",
      "36.0\n",
      "1.0\n",
      "18.0\n",
      "1.0\n",
      "7.0\n",
      "29.0\n",
      "2.0\n",
      "2.0\n",
      "4.0\n",
      "2.0\n",
      "1.0\n",
      "1.0\n",
      "1.0\n",
      "12.0\n",
      "2406.0\n",
      "1.0\n",
      "2.0\n",
      "8.0\n",
      "2.0\n",
      "4.0\n",
      "2.0\n",
      "2.0\n",
      "1.0\n",
      "1.0\n",
      "2.0\n",
      "1921.0\n",
      "1.0\n",
      "1.0\n",
      "1.0\n",
      "1.0\n",
      "1.0\n",
      "1.0\n",
      "1.0\n",
      "1.0\n",
      "2.0\n",
      "61.0\n",
      "1.0\n",
      "2.0\n",
      "8.0\n",
      "1.0\n",
      "1.0\n",
      "1.0\n",
      "45.0\n",
      "1.0\n",
      "2.0\n",
      "3.0\n",
      "5.0\n",
      "10014.0\n",
      "277.0\n",
      "5.0\n",
      "1.0\n",
      "1.0\n",
      "1106.0\n",
      "7.0\n",
      "1.0\n",
      "1.0\n",
      "1.0\n",
      "3.0\n",
      "28.0\n",
      "2.0\n",
      "1.0\n",
      "16.0\n",
      "3.0\n",
      "1.0\n",
      "5.0\n",
      "2.0\n",
      "5.0\n",
      "1.0\n",
      "6.0\n",
      "1.0\n",
      "1.0\n",
      "1.0\n",
      "1.0\n",
      "5.0\n",
      "11.0\n",
      "145.0\n",
      "1.0\n",
      "1.0\n",
      "1.0\n",
      "1.0\n",
      "1.0\n",
      "1.0\n",
      "1.0\n",
      "1.0\n",
      "1.0\n",
      "2.0\n",
      "1.0\n",
      "3.0\n",
      "3.0\n",
      "4.0\n",
      "1.0\n",
      "72.0\n",
      "1.0\n",
      "1.0\n",
      "1.0\n",
      "1.0\n",
      "1.0\n",
      "1.0\n",
      "19.0\n",
      "2.0\n",
      "1.0\n",
      "1.0\n",
      "1.0\n",
      "6.0\n",
      "1.0\n",
      "6.0\n",
      "10.0\n",
      "1.0\n",
      "1.0\n",
      "1.0\n",
      "1.0\n",
      "1.0\n",
      "1.0\n",
      "1.0\n",
      "1.0\n",
      "69.0\n",
      "1.0\n",
      "1.0\n",
      "1.0\n",
      "2.0\n",
      "2.0\n",
      "272.0\n",
      "1.0\n",
      "6.0\n",
      "1.0\n",
      "10.0\n",
      "15.0\n",
      "2.0\n",
      "1.0\n",
      "1.0\n",
      "5.0\n",
      "1.0\n",
      "1.0\n",
      "2.0\n",
      "1.0\n",
      "4.0\n",
      "2.0\n",
      "2.0\n",
      "1.0\n",
      "1.0\n",
      "2.0\n",
      "1.0\n",
      "1.0\n",
      "153.0\n",
      "1.0\n",
      "1.0\n",
      "1.0\n",
      "1.0\n",
      "4.0\n",
      "3.0\n",
      "4.0\n",
      "567.0\n",
      "1.0\n",
      "2.0\n",
      "1.0\n",
      "558.0\n",
      "1.0\n",
      "1.0\n",
      "1.0\n",
      "1.0\n",
      "1.0\n",
      "1.0\n",
      "1.0\n",
      "3.0\n",
      "1.0\n",
      "2119.0\n",
      "6.0\n",
      "13.0\n",
      "391.0\n",
      "1.0\n",
      "19.0\n",
      "1.0\n",
      "1.0\n",
      "952.0\n",
      "2.0\n",
      "1.0\n",
      "1.0\n",
      "1.0\n",
      "250.0\n",
      "1.0\n",
      "2.0\n",
      "1.0\n",
      "1.0\n",
      "1.0\n",
      "1.0\n",
      "1.0\n",
      "1.0\n",
      "1.0\n",
      "155.0\n",
      "31.0\n",
      "1.0\n",
      "4.0\n",
      "1.0\n",
      "2.0\n",
      "1.0\n",
      "2.0\n",
      "3.0\n",
      "1.0\n",
      "1.0\n",
      "1.0\n",
      "15.0\n",
      "1.0\n",
      "5.0\n",
      "3.0\n",
      "1.0\n",
      "1.0\n",
      "1.0\n",
      "1.0\n",
      "2413.0\n",
      "1.0\n",
      "1.0\n",
      "1.0\n",
      "1.0\n",
      "2.0\n",
      "781.0\n",
      "9.0\n",
      "11.0\n",
      "1.0\n",
      "1.0\n",
      "2.0\n",
      "3.0\n",
      "1.0\n",
      "2.0\n",
      "1.0\n",
      "516.0\n",
      "2.0\n",
      "1.0\n",
      "2.0\n",
      "1.0\n",
      "1.0\n",
      "1.0\n",
      "3.0\n",
      "1.0\n",
      "1.0\n",
      "7.0\n",
      "1.0\n",
      "1.0\n",
      "1.0\n",
      "1.0\n",
      "13695.0\n",
      "1.0\n",
      "1.0\n",
      "190.0\n",
      "1.0\n",
      "1.0\n",
      "1.0\n",
      "1.0\n",
      "3.0\n",
      "1.0\n",
      "175.0\n",
      "2.0\n",
      "14.0\n",
      "2.0\n",
      "2.0\n",
      "1.0\n",
      "3.0\n",
      "1.0\n",
      "3.0\n",
      "1.0\n",
      "2.0\n",
      "3.0\n",
      "2.0\n",
      "32218.0\n",
      "80.0\n",
      "1.0\n",
      "1.0\n",
      "1.0\n",
      "1.0\n",
      "1.0\n",
      "1.0\n",
      "15.0\n",
      "2.0\n",
      "1.0\n",
      "13.0\n",
      "1.0\n",
      "129.0\n",
      "1.0\n",
      "2.0\n",
      "4.0\n",
      "2.0\n",
      "1.0\n",
      "1.0\n",
      "1.0\n",
      "14903.0\n",
      "1.0\n",
      "5.0\n",
      "1.0\n",
      "1.0\n",
      "4.0\n",
      "1.0\n",
      "69.0\n",
      "6.0\n",
      "4.0\n",
      "3.0\n",
      "1.0\n",
      "1.0\n",
      "1.0\n",
      "1.0\n",
      "8.0\n",
      "25258.0\n",
      "3.0\n",
      "2.0\n",
      "1.0\n",
      "2.0\n",
      "1.0\n",
      "1.0\n",
      "6.0\n",
      "11.0\n",
      "8.0\n",
      "36591.0\n",
      "8.0\n",
      "1.0\n",
      "2.0\n",
      "3.0\n",
      "17.0\n",
      "1.0\n",
      "10.0\n",
      "71.0\n",
      "4.0\n",
      "14.0\n",
      "1078.0\n",
      "1.0\n",
      "6.0\n",
      "1.0\n",
      "5.0\n",
      "1.0\n",
      "13.0\n",
      "2.0\n",
      "197.0\n",
      "1.0\n",
      "1.0\n",
      "2.0\n",
      "1.0\n",
      "1.0\n",
      "2.0\n",
      "2.0\n",
      "2.0\n",
      "1.0\n",
      "4.0\n",
      "1.0\n",
      "1.0\n",
      "1.0\n",
      "3.0\n",
      "1.0\n",
      "6.0\n",
      "4.0\n",
      "1.0\n",
      "1.0\n",
      "1.0\n",
      "4.0\n",
      "30.0\n",
      "1.0\n",
      "11.0\n",
      "10.0\n",
      "2.0\n",
      "1.0\n",
      "45.0\n",
      "6.0\n",
      "48.0\n",
      "2.0\n",
      "17.0\n",
      "1.0\n",
      "1.0\n",
      "1.0\n",
      "214.0\n",
      "1.0\n",
      "62.0\n",
      "1.0\n",
      "1.0\n",
      "1.0\n",
      "2.0\n",
      "1.0\n",
      "6.0\n",
      "3109.0\n",
      "1.0\n",
      "1.0\n",
      "1.0\n",
      "1.0\n",
      "10.0\n",
      "1.0\n",
      "1.0\n",
      "1.0\n",
      "31984.0\n",
      "5.0\n",
      "1.0\n",
      "1.0\n",
      "2.0\n",
      "2.0\n",
      "1.0\n",
      "8.0\n",
      "6.0\n",
      "1.0\n",
      "2.0\n",
      "74.0\n",
      "1.0\n",
      "1.0\n",
      "3.0\n",
      "13171.0\n",
      "52.0\n",
      "1.0\n",
      "8.0\n",
      "1.0\n",
      "1.0\n",
      "1.0\n",
      "2.0\n",
      "1.0\n",
      "1.0\n",
      "862.0\n",
      "1.0\n",
      "1.0\n",
      "1.0\n",
      "2.0\n",
      "14.0\n",
      "1.0\n",
      "52.0\n",
      "1.0\n",
      "2.0\n",
      "600.0\n",
      "9.0\n",
      "1.0\n",
      "1.0\n",
      "1.0\n",
      "2.0\n",
      "1.0\n",
      "7.0\n",
      "1.0\n",
      "1.0\n",
      "1.0\n",
      "1.0\n",
      "1.0\n",
      "241.0\n",
      "1.0\n",
      "2.0\n",
      "710.0\n",
      "1.0\n",
      "1.0\n",
      "1.0\n",
      "2.0\n",
      "6.0\n",
      "47.0\n",
      "2.0\n",
      "1.0\n",
      "46.0\n",
      "1.0\n",
      "85592.0\n",
      "1.0\n",
      "1.0\n",
      "6.0\n",
      "16.0\n",
      "1.0\n",
      "29.0\n",
      "1.0\n",
      "1.0\n",
      "1.0\n",
      "40.0\n",
      "1.0\n",
      "4.0\n",
      "2.0\n",
      "1.0\n",
      "6.0\n",
      "2002.0\n",
      "1.0\n",
      "1.0\n",
      "2.0\n",
      "1.0\n",
      "2.0\n",
      "1.0\n",
      "1.0\n",
      "1.0\n",
      "3.0\n",
      "3.0\n",
      "535.0\n",
      "51.0\n",
      "11.0\n",
      "131.0\n",
      "1.0\n",
      "256.0\n",
      "7.0\n",
      "1988.0\n",
      "4.0\n",
      "1.0\n",
      "1.0\n",
      "2.0\n",
      "1.0\n",
      "2.0\n",
      "1.0\n",
      "7.0\n",
      "1.0\n",
      "1.0\n",
      "1.0\n",
      "8.0\n",
      "11620.0\n",
      "1.0\n",
      "3.0\n",
      "1.0\n",
      "1.0\n",
      "2.0\n",
      "3.0\n",
      "1.0\n",
      "6.0\n",
      "1.0\n",
      "5.0\n",
      "1.0\n",
      "1.0\n",
      "1.0\n",
      "1.0\n",
      "2.0\n",
      "1.0\n",
      "610.0\n",
      "1.0\n",
      "4.0\n",
      "1.0\n",
      "1.0\n",
      "2.0\n",
      "1.0\n",
      "1.0\n",
      "21.0\n",
      "1.0\n",
      "1.0\n",
      "1.0\n",
      "1.0\n",
      "2.0\n",
      "1.0\n",
      "1.0\n",
      "93.0\n",
      "43.0\n",
      "24.0\n",
      "2.0\n",
      "3.0\n",
      "2.0\n",
      "1.0\n",
      "2.0\n",
      "3.0\n",
      "1.0\n",
      "1.0\n",
      "20.0\n",
      "11.0\n",
      "2.0\n",
      "606.0\n",
      "1.0\n",
      "5.0\n",
      "4.0\n",
      "2.0\n",
      "1.0\n",
      "1.0\n",
      "2.0\n",
      "1.0\n",
      "2.0\n",
      "1.0\n",
      "1682.0\n",
      "2.0\n",
      "1441.0\n",
      "1.0\n",
      "1.0\n",
      "1.0\n",
      "8949.0\n",
      "1.0\n",
      "1.0\n",
      "8813.0\n",
      "1.0\n",
      "1.0\n",
      "19280.0\n",
      "1498.0\n",
      "2.0\n",
      "3191.0\n",
      "1.0\n",
      "24.0\n",
      "3.0\n",
      "490.0\n",
      "1.0\n",
      "1.0\n",
      "1.0\n",
      "1.0\n",
      "1.0\n",
      "1.0\n",
      "9.0\n",
      "3.0\n",
      "3.0\n",
      "3.0\n",
      "1.0\n",
      "3.0\n",
      "970.0\n",
      "3.0\n",
      "1.0\n",
      "1.0\n",
      "6.0\n",
      "43.0\n",
      "1.0\n",
      "6.0\n",
      "89.0\n",
      "8736.0\n",
      "3.0\n",
      "3.0\n",
      "1.0\n",
      "8768.0\n",
      "72.0\n",
      "1.0\n",
      "2.0\n",
      "1.0\n",
      "1.0\n",
      "1.0\n",
      "2.0\n",
      "1.0\n",
      "2.0\n",
      "6.0\n",
      "2.0\n",
      "8.0\n",
      "60.0\n",
      "2.0\n",
      "1.0\n",
      "1.0\n",
      "1.0\n",
      "1.0\n",
      "29.0\n",
      "293.0\n",
      "1.0\n",
      "2.0\n",
      "1.0\n",
      "1.0\n",
      "2.0\n",
      "1.0\n",
      "1.0\n",
      "33.0\n",
      "1.0\n",
      "158.0\n",
      "1.0\n",
      "576.0\n",
      "1.0\n",
      "2.0\n",
      "8.0\n",
      "5.0\n",
      "1.0\n",
      "1.0\n",
      "1329.0\n",
      "1.0\n",
      "3213.0\n",
      "3.0\n",
      "3.0\n",
      "1.0\n",
      "167.0\n",
      "3.0\n",
      "6.0\n",
      "7.0\n",
      "360.0\n",
      "1.0\n",
      "1.0\n",
      "1.0\n",
      "1.0\n",
      "19.0\n",
      "1.0\n",
      "1.0\n",
      "1.0\n",
      "1550.0\n",
      "2.0\n",
      "1.0\n",
      "1.0\n",
      "2.0\n",
      "1.0\n",
      "1.0\n",
      "3.0\n",
      "11.0\n",
      "1.0\n",
      "1.0\n",
      "1.0\n",
      "1.0\n",
      "1.0\n",
      "1.0\n",
      "6.0\n",
      "1.0\n",
      "1.0\n",
      "392.0\n",
      "3.0\n",
      "3.0\n",
      "8.0\n",
      "11.0\n",
      "1.0\n",
      "1.0\n",
      "1.0\n",
      "1.0\n"
     ]
    }
   ],
   "source": [
    "wrong = []\n",
    "for (pred, real) in zip(y_pred_0, y_test):\n",
    "    if pred == 0 and real > 0:\n",
    "        print(real)\n",
    "        wrong.append(real)"
   ]
  },
  {
   "cell_type": "code",
   "execution_count": 70,
   "metadata": {},
   "outputs": [],
   "source": [
    "wrong = np.array(wrong)"
   ]
  },
  {
   "cell_type": "code",
   "execution_count": 71,
   "metadata": {},
   "outputs": [
    {
     "data": {
      "text/plain": [
       "(685,)"
      ]
     },
     "execution_count": 71,
     "metadata": {},
     "output_type": "execute_result"
    }
   ],
   "source": [
    "wrong.shape"
   ]
  },
  {
   "cell_type": "code",
   "execution_count": 76,
   "metadata": {
    "scrolled": true
   },
   "outputs": [
    {
     "data": {
      "text/plain": [
       "8.103978674183812"
      ]
     },
     "execution_count": 76,
     "metadata": {},
     "output_type": "execute_result"
    }
   ],
   "source": [
    "wrong.sum() / (y_pred_0.shape[0] - y_pred_0.sum()) "
   ]
  },
  {
   "cell_type": "markdown",
   "metadata": {},
   "source": [
    "**Just MAE of 8.7 on 60\\% of data !**"
   ]
  },
  {
   "cell_type": "markdown",
   "metadata": {},
   "source": [
    "## Remove the samples with classifier one `base` 's result being 0"
   ]
  },
  {
   "cell_type": "code",
   "execution_count": 77,
   "metadata": {
    "scrolled": true
   },
   "outputs": [
    {
     "data": {
      "text/plain": [
       "(532621, 21)"
      ]
     },
     "execution_count": 77,
     "metadata": {},
     "output_type": "execute_result"
    }
   ],
   "source": [
    "X_train.shape"
   ]
  },
  {
   "cell_type": "code",
   "execution_count": 78,
   "metadata": {},
   "outputs": [],
   "source": [
    "threshold = 0.03\n",
    "\n",
    "prediction = clf_1.predict_proba(X_train)\n",
    "mask = (prediction[:,1] > threshold)"
   ]
  },
  {
   "cell_type": "code",
   "execution_count": 79,
   "metadata": {},
   "outputs": [],
   "source": [
    "y_train_1 = y_train[mask]\n",
    "X_train_1 = X_train[mask]"
   ]
  },
  {
   "cell_type": "code",
   "execution_count": 80,
   "metadata": {},
   "outputs": [
    {
     "data": {
      "text/plain": [
       "(265509, 21)"
      ]
     },
     "execution_count": 80,
     "metadata": {},
     "output_type": "execute_result"
    }
   ],
   "source": [
    "X_train_1.shape"
   ]
  },
  {
   "cell_type": "code",
   "execution_count": 81,
   "metadata": {},
   "outputs": [
    {
     "data": {
      "text/plain": [
       "298.1359426610774"
      ]
     },
     "execution_count": 81,
     "metadata": {},
     "output_type": "execute_result"
    }
   ],
   "source": [
    "y_train_1.mean()"
   ]
  },
  {
   "cell_type": "code",
   "execution_count": 82,
   "metadata": {},
   "outputs": [
    {
     "data": {
      "text/plain": [
       "942572.0"
      ]
     },
     "execution_count": 82,
     "metadata": {},
     "output_type": "execute_result"
    }
   ],
   "source": [
    "y_train_1.max()"
   ]
  },
  {
   "cell_type": "markdown",
   "metadata": {},
   "source": [
    "### Second model: int( log(y) )"
   ]
  },
  {
   "cell_type": "markdown",
   "metadata": {},
   "source": [
    "classify the tweets by the order of the retweet count by int(log(y))\n",
    "\n",
    "- 0-10: 0\n",
    "- 11-100: 1\n",
    "- 101-1000: 2\n",
    "- 1001-10000: 3\n",
    "- 10001-100000: 4\n",
    "- 100001- $\\infty$: 5"
   ]
  },
  {
   "cell_type": "code",
   "execution_count": 83,
   "metadata": {},
   "outputs": [],
   "source": [
    "y_train_log = np.array(list(map( lambda x : int(np.log10(x)) if x > 0 else 0, y_train_1 )))"
   ]
  },
  {
   "cell_type": "code",
   "execution_count": 84,
   "metadata": {},
   "outputs": [
    {
     "data": {
      "text/plain": [
       "array([1.000e+00, 1.200e+01, 2.000e+00, ..., 0.000e+00, 4.854e+03,\n",
       "       2.000e+00])"
      ]
     },
     "execution_count": 84,
     "metadata": {},
     "output_type": "execute_result"
    }
   ],
   "source": [
    "y_train_1"
   ]
  },
  {
   "cell_type": "code",
   "execution_count": 85,
   "metadata": {},
   "outputs": [
    {
     "data": {
      "text/plain": [
       "array([0, 1, 0, ..., 0, 3, 0])"
      ]
     },
     "execution_count": 85,
     "metadata": {},
     "output_type": "execute_result"
    }
   ],
   "source": [
    "y_train_log"
   ]
  },
  {
   "cell_type": "code",
   "execution_count": 86,
   "metadata": {},
   "outputs": [],
   "source": [
    "y_test_log = np.array(list(map( lambda x : int(np.log10(x)) if x > 0 else 0, y_test )))"
   ]
  },
  {
   "cell_type": "code",
   "execution_count": 87,
   "metadata": {},
   "outputs": [
    {
     "data": {
      "text/plain": [
       "5"
      ]
     },
     "execution_count": 87,
     "metadata": {},
     "output_type": "execute_result"
    }
   ],
   "source": [
    "y_train_log.max()"
   ]
  },
  {
   "cell_type": "code",
   "execution_count": 88,
   "metadata": {},
   "outputs": [
    {
     "data": {
      "text/plain": [
       "0.45181519270533205"
      ]
     },
     "execution_count": 88,
     "metadata": {},
     "output_type": "execute_result"
    }
   ],
   "source": [
    "y_train_log.mean()"
   ]
  },
  {
   "cell_type": "code",
   "execution_count": 89,
   "metadata": {},
   "outputs": [
    {
     "name": "stdout",
     "output_type": "stream",
     "text": [
      "The number of class 0 : 185174\n",
      "The number of class 1 : 50436\n",
      "The number of class 2 : 21697\n",
      "The number of class 3 : 6745\n",
      "The number of class 4 : 1389\n",
      "The number of class 5 : 68\n"
     ]
    }
   ],
   "source": [
    "for i in range(6):\n",
    "    print( \"The number of class %d :\"%i, len(y_train_log[y_train_log == i]) )"
   ]
  },
  {
   "cell_type": "markdown",
   "metadata": {},
   "source": [
    "We can see a exponential trend in the distribution "
   ]
  },
  {
   "cell_type": "markdown",
   "metadata": {},
   "source": [
    "We need balanced training features and labels"
   ]
  },
  {
   "cell_type": "code",
   "execution_count": 90,
   "metadata": {},
   "outputs": [],
   "source": [
    "def get_train_data(i):\n",
    "    X = []\n",
    "    Y = []\n",
    "    \n",
    "    pos_count = 0\n",
    "    neg_count = 0\n",
    "    \n",
    "    while pos_count < 1000:\n",
    "        for x, y in zip(X_train_1, y_train_log):\n",
    "            if y > i:\n",
    "                X.append(x)\n",
    "                Y.append(1)\n",
    "                pos_count += 1\n",
    "            elif pos_count + 1 > neg_count * 0.8 and np.random.rand() > 0.5:\n",
    "                X.append(x)\n",
    "                Y.append(0)\n",
    "                neg_count += 1\n",
    "    print(\"positive_sample: \", pos_count, \"; negative sample: \", neg_count)\n",
    "    return np.array(X), np.array(Y)"
   ]
  },
  {
   "cell_type": "markdown",
   "metadata": {},
   "source": [
    "## Random Forest"
   ]
  },
  {
   "cell_type": "code",
   "execution_count": 91,
   "metadata": {},
   "outputs": [],
   "source": [
    "max_depth = [22, 22, 20, 15, 15]"
   ]
  },
  {
   "cell_type": "code",
   "execution_count": 92,
   "metadata": {
    "scrolled": true
   },
   "outputs": [
    {
     "name": "stdout",
     "output_type": "stream",
     "text": [
      "positive_sample:  80335 ; negative sample:  92624\n",
      "F1 in the test set: \n",
      " 0.6342464605847365\n",
      "ACC in the test set: \n",
      " 0.8688455646009192\n",
      "CM in the test set: \n",
      " [[100550   4941]\n",
      " [ 12523  15142]]\n",
      "positive_sample:  29899 ; negative sample:  37375\n",
      "F1 in the test set: \n",
      " 0.4377947885254774\n",
      "ACC in the test set: \n",
      " 0.8907897503679895\n",
      "CM in the test set: \n",
      " [[112952   1777]\n",
      " [ 12765   5662]]\n",
      "positive_sample:  8202 ; negative sample:  10254\n",
      "F1 in the test set: \n",
      " 0.12112167151048622\n",
      "ACC in the test set: \n",
      " 0.8319414821712878\n",
      "CM in the test set: \n",
      " [[109236    507]\n",
      " [ 21871   1542]]\n",
      "positive_sample:  1457 ; negative sample:  1823\n",
      "F1 in the test set: \n",
      " 0.014604128021670642\n",
      "ACC in the test set: \n",
      " 0.7486632220853735\n",
      "CM in the test set: \n",
      " [[99441   105]\n",
      " [33362   248]]\n",
      "positive_sample:  1020 ; negative sample:  1277\n",
      "F1 in the test set: \n",
      " 0.0006824191759788451\n",
      "ACC in the test set: \n",
      " 0.9120204872480399\n",
      "CM in the test set: \n",
      " [[121437     15]\n",
      " [ 11700      4]]\n"
     ]
    }
   ],
   "source": [
    "for i in range(2):\n",
    "    X_train, y_train = get_train_data(i)\n",
    "    clf = RandomForestClassifier(max_depth=max_depth[i], random_state=42).fit(X_train, y_train)\n",
    "    clf_zoo[i] = clf \n",
    "    y_test_ = (y_test_log > i)\n",
    "    \n",
    "    print( \"F1 in the test set: \\n\", f1_score( clf.predict(X_test), y_test_))\n",
    "    print( \"ACC in the test set: \\n\", accuracy_score( clf.predict(X_test), y_test_))\n",
    "    print( \"CM in the test set: \\n\", confusion_matrix( clf.predict(X_test), y_test_))"
   ]
  },
  {
   "cell_type": "code",
   "execution_count": 93,
   "metadata": {},
   "outputs": [],
   "source": [
    "def get_classes_pos(x):\n",
    "    res = np.zeros(6)\n",
    "    p0 = clf_zoo['base'].predict_proba([x])[0,1]\n",
    "    if p0 < 0.03:\n",
    "        res[0] = 1\n",
    "        return res\n",
    "    for i in range(5):\n",
    "        res[i+1] = clf_zoo[i].predict_proba([x])[0,1]\n",
    "    return res"
   ]
  },
  {
   "cell_type": "code",
   "execution_count": 94,
   "metadata": {},
   "outputs": [
    {
     "data": {
      "text/plain": [
       "array([0.        , 0.16414018, 0.1817707 , 0.06142857, 0.18157475,\n",
       "       0.14      ])"
      ]
     },
     "execution_count": 94,
     "metadata": {},
     "output_type": "execute_result"
    }
   ],
   "source": [
    "get_classes_pos(X_test[0])"
   ]
  },
  {
   "cell_type": "code",
   "execution_count": 95,
   "metadata": {},
   "outputs": [
    {
     "data": {
      "text/plain": [
       "2.0"
      ]
     },
     "execution_count": 95,
     "metadata": {},
     "output_type": "execute_result"
    }
   ],
   "source": [
    "y_test[0]"
   ]
  },
  {
   "cell_type": "code",
   "execution_count": 96,
   "metadata": {},
   "outputs": [
    {
     "name": "stdout",
     "output_type": "stream",
     "text": [
      "[0.         0.96173993 0.57630779 0.28409503 0.6353251  0.07      ]\n",
      "95.0\n"
     ]
    }
   ],
   "source": [
    "print(get_classes_pos(X_test[3]))\n",
    "print(y_test[3])"
   ]
  },
  {
   "cell_type": "markdown",
   "metadata": {},
   "source": [
    "### Test the results"
   ]
  },
  {
   "cell_type": "code",
   "execution_count": 97,
   "metadata": {},
   "outputs": [],
   "source": [
    "def validate_classfication(X_val, y_val, threshold, average):\n",
    "    y_predict = np.zeros(y_val.shape[0])\n",
    "    \n",
    "    \n",
    "    for (i, x) in enumerate(X_val):\n",
    "        if (i % 2000 == 0):\n",
    "            print(\"processed: \", i)\n",
    "        p = get_classes_pos(x)\n",
    "        if p[0] > 0:\n",
    "            y_predict[i] = 0\n",
    "        else:\n",
    "            largest_class = 0\n",
    "            for j in range(5):\n",
    "                if p[j+1] >= threshold[j]:\n",
    "                    largest_class = j+1\n",
    "            y_predict[i] = 10**largest_class * average\n",
    "\n",
    "    cost = np.abs(y_val - y_predict).mean()\n",
    "    print(\"cost at \", threshold, \": \", cost)\n",
    "    return cost, y_predict\n"
   ]
  },
  {
   "cell_type": "code",
   "execution_count": 102,
   "metadata": {},
   "outputs": [],
   "source": [
    "threshold = [0.47092152, 0.55543368, 1,1,1]"
   ]
  },
  {
   "cell_type": "code",
   "execution_count": 201,
   "metadata": {},
   "outputs": [],
   "source": [
    "optimal_threshold = [0.47092152, 0.55543368, 0.868192  , 0.76829936, 0.97466098]\n",
    "optimal_cost = 142"
   ]
  },
  {
   "cell_type": "code",
   "execution_count": 101,
   "metadata": {},
   "outputs": [],
   "source": [
    "X_val = X_test[10000:20000]\n",
    "y_val = y_test[10000:20000]"
   ]
  },
  {
   "cell_type": "code",
   "execution_count": 103,
   "metadata": {},
   "outputs": [
    {
     "name": "stdout",
     "output_type": "stream",
     "text": [
      "processed:  0\n",
      "processed:  2000\n",
      "processed:  4000\n",
      "processed:  6000\n",
      "processed:  8000\n",
      "cost at  [0.47092152, 0.55543368, 1, 1, 1] :  147.88996\n"
     ]
    }
   ],
   "source": [
    "y_predict = validate_classfication(X_val, y_val, threshold, 0.3)[1]"
   ]
  },
  {
   "cell_type": "code",
   "execution_count": 105,
   "metadata": {
    "scrolled": true
   },
   "outputs": [
    {
     "data": {
      "text/plain": [
       "3.4064399999999995"
      ]
     },
     "execution_count": 105,
     "metadata": {},
     "output_type": "execute_result"
    }
   ],
   "source": [
    "y_predict.mean()"
   ]
  },
  {
   "cell_type": "code",
   "execution_count": 104,
   "metadata": {},
   "outputs": [
    {
     "data": {
      "text/plain": [
       "149.2856"
      ]
     },
     "execution_count": 104,
     "metadata": {},
     "output_type": "execute_result"
    }
   ],
   "source": [
    "y_val.mean()"
   ]
  },
  {
   "cell_type": "code",
   "execution_count": 89,
   "metadata": {
    "scrolled": true
   },
   "outputs": [
    {
     "name": "stdout",
     "output_type": "stream",
     "text": [
      "processed:  0\n",
      "processed:  2000\n",
      "processed:  4000\n",
      "processed:  6000\n",
      "processed:  8000\n",
      "cost at  [0.47       0.5        0.75483704 0.62013479 0.69677265] :  142.16107\n",
      "processed:  0\n",
      "processed:  2000\n",
      "processed:  4000\n",
      "processed:  6000\n",
      "processed:  8000\n",
      "cost at  [0.47       0.5        0.53580803 0.73569267 0.6076013 ] :  149.78367999999998\n",
      "processed:  0\n",
      "processed:  2000\n",
      "processed:  4000\n",
      "processed:  6000\n"
     ]
    },
    {
     "ename": "KeyboardInterrupt",
     "evalue": "",
     "output_type": "error",
     "traceback": [
      "\u001b[1;31m---------------------------------------------------------------------------\u001b[0m",
      "\u001b[1;31mKeyboardInterrupt\u001b[0m                         Traceback (most recent call last)",
      "\u001b[1;32m<ipython-input-89-f9b8fb0f9607>\u001b[0m in \u001b[0;36m<module>\u001b[1;34m\u001b[0m\n\u001b[0;32m      6\u001b[0m \u001b[1;31m#     threshold = optimal_threshold\u001b[0m\u001b[1;33m\u001b[0m\u001b[1;33m\u001b[0m\u001b[1;33m\u001b[0m\u001b[0m\n\u001b[0;32m      7\u001b[0m \u001b[1;33m\u001b[0m\u001b[0m\n\u001b[1;32m----> 8\u001b[1;33m     \u001b[0mcost\u001b[0m \u001b[1;33m=\u001b[0m \u001b[0mvalidate_classfication\u001b[0m\u001b[1;33m(\u001b[0m\u001b[0mX_val\u001b[0m\u001b[1;33m,\u001b[0m \u001b[0my_val\u001b[0m\u001b[1;33m,\u001b[0m \u001b[0mthreshold\u001b[0m\u001b[1;33m,\u001b[0m \u001b[1;36m0.3\u001b[0m\u001b[1;33m)\u001b[0m\u001b[1;33m[\u001b[0m\u001b[1;36m0\u001b[0m\u001b[1;33m]\u001b[0m\u001b[1;33m\u001b[0m\u001b[1;33m\u001b[0m\u001b[0m\n\u001b[0m\u001b[0;32m      9\u001b[0m \u001b[1;33m\u001b[0m\u001b[0m\n\u001b[0;32m     10\u001b[0m     \u001b[1;32mif\u001b[0m \u001b[0mcost\u001b[0m \u001b[1;33m<\u001b[0m \u001b[0moptimal_cost\u001b[0m\u001b[1;33m:\u001b[0m\u001b[1;33m\u001b[0m\u001b[1;33m\u001b[0m\u001b[0m\n",
      "\u001b[1;32m<ipython-input-77-682355dac40c>\u001b[0m in \u001b[0;36mvalidate_classfication\u001b[1;34m(X_val, y_val, threshold, average)\u001b[0m\n\u001b[0;32m      6\u001b[0m         \u001b[1;32mif\u001b[0m \u001b[1;33m(\u001b[0m\u001b[0mi\u001b[0m \u001b[1;33m%\u001b[0m \u001b[1;36m2000\u001b[0m \u001b[1;33m==\u001b[0m \u001b[1;36m0\u001b[0m\u001b[1;33m)\u001b[0m\u001b[1;33m:\u001b[0m\u001b[1;33m\u001b[0m\u001b[1;33m\u001b[0m\u001b[0m\n\u001b[0;32m      7\u001b[0m             \u001b[0mprint\u001b[0m\u001b[1;33m(\u001b[0m\u001b[1;34m\"processed: \"\u001b[0m\u001b[1;33m,\u001b[0m \u001b[0mi\u001b[0m\u001b[1;33m)\u001b[0m\u001b[1;33m\u001b[0m\u001b[1;33m\u001b[0m\u001b[0m\n\u001b[1;32m----> 8\u001b[1;33m         \u001b[0mp\u001b[0m \u001b[1;33m=\u001b[0m \u001b[0mget_classes_pos\u001b[0m\u001b[1;33m(\u001b[0m\u001b[0mx\u001b[0m\u001b[1;33m)\u001b[0m\u001b[1;33m\u001b[0m\u001b[1;33m\u001b[0m\u001b[0m\n\u001b[0m\u001b[0;32m      9\u001b[0m         \u001b[1;32mif\u001b[0m \u001b[0mp\u001b[0m\u001b[1;33m[\u001b[0m\u001b[1;36m0\u001b[0m\u001b[1;33m]\u001b[0m \u001b[1;33m>\u001b[0m \u001b[1;36m0\u001b[0m\u001b[1;33m:\u001b[0m\u001b[1;33m\u001b[0m\u001b[1;33m\u001b[0m\u001b[0m\n\u001b[0;32m     10\u001b[0m             \u001b[0my_predict\u001b[0m\u001b[1;33m[\u001b[0m\u001b[0mi\u001b[0m\u001b[1;33m]\u001b[0m \u001b[1;33m=\u001b[0m \u001b[1;36m0\u001b[0m\u001b[1;33m\u001b[0m\u001b[1;33m\u001b[0m\u001b[0m\n",
      "\u001b[1;32m<ipython-input-60-9c819923a597>\u001b[0m in \u001b[0;36mget_classes_pos\u001b[1;34m(x)\u001b[0m\n\u001b[0;32m      6\u001b[0m         \u001b[1;32mreturn\u001b[0m \u001b[0mres\u001b[0m\u001b[1;33m\u001b[0m\u001b[1;33m\u001b[0m\u001b[0m\n\u001b[0;32m      7\u001b[0m     \u001b[1;32mfor\u001b[0m \u001b[0mi\u001b[0m \u001b[1;32min\u001b[0m \u001b[0mrange\u001b[0m\u001b[1;33m(\u001b[0m\u001b[1;36m5\u001b[0m\u001b[1;33m)\u001b[0m\u001b[1;33m:\u001b[0m\u001b[1;33m\u001b[0m\u001b[1;33m\u001b[0m\u001b[0m\n\u001b[1;32m----> 8\u001b[1;33m         \u001b[0mres\u001b[0m\u001b[1;33m[\u001b[0m\u001b[0mi\u001b[0m\u001b[1;33m+\u001b[0m\u001b[1;36m1\u001b[0m\u001b[1;33m]\u001b[0m \u001b[1;33m=\u001b[0m \u001b[0mmodel_zoo\u001b[0m\u001b[1;33m[\u001b[0m \u001b[1;34m\">10**%d\"\u001b[0m\u001b[1;33m%\u001b[0m\u001b[0mi\u001b[0m\u001b[1;33m]\u001b[0m\u001b[1;33m.\u001b[0m\u001b[0mpredict_proba\u001b[0m\u001b[1;33m(\u001b[0m\u001b[1;33m[\u001b[0m\u001b[0mx\u001b[0m\u001b[1;33m]\u001b[0m\u001b[1;33m)\u001b[0m\u001b[1;33m[\u001b[0m\u001b[1;36m0\u001b[0m\u001b[1;33m,\u001b[0m\u001b[1;36m1\u001b[0m\u001b[1;33m]\u001b[0m\u001b[1;33m\u001b[0m\u001b[1;33m\u001b[0m\u001b[0m\n\u001b[0m\u001b[0;32m      9\u001b[0m     \u001b[1;32mreturn\u001b[0m \u001b[0mres\u001b[0m\u001b[1;33m\u001b[0m\u001b[1;33m\u001b[0m\u001b[0m\n",
      "\u001b[1;32m~\\AppData\\Local\\Continuum\\anaconda3\\envs\\tensorflow\\lib\\site-packages\\sklearn\\ensemble\\_forest.py\u001b[0m in \u001b[0;36mpredict_proba\u001b[1;34m(self, X)\u001b[0m\n\u001b[0;32m    667\u001b[0m             delayed(_accumulate_prediction)(e.predict_proba, X, all_proba,\n\u001b[0;32m    668\u001b[0m                                             lock)\n\u001b[1;32m--> 669\u001b[1;33m             for e in self.estimators_)\n\u001b[0m\u001b[0;32m    670\u001b[0m \u001b[1;33m\u001b[0m\u001b[0m\n\u001b[0;32m    671\u001b[0m         \u001b[1;32mfor\u001b[0m \u001b[0mproba\u001b[0m \u001b[1;32min\u001b[0m \u001b[0mall_proba\u001b[0m\u001b[1;33m:\u001b[0m\u001b[1;33m\u001b[0m\u001b[1;33m\u001b[0m\u001b[0m\n",
      "\u001b[1;32m~\\AppData\\Local\\Continuum\\anaconda3\\envs\\tensorflow\\lib\\site-packages\\joblib\\parallel.py\u001b[0m in \u001b[0;36m__call__\u001b[1;34m(self, iterable)\u001b[0m\n\u001b[0;32m   1005\u001b[0m                 \u001b[0mself\u001b[0m\u001b[1;33m.\u001b[0m\u001b[0m_iterating\u001b[0m \u001b[1;33m=\u001b[0m \u001b[0mself\u001b[0m\u001b[1;33m.\u001b[0m\u001b[0m_original_iterator\u001b[0m \u001b[1;32mis\u001b[0m \u001b[1;32mnot\u001b[0m \u001b[1;32mNone\u001b[0m\u001b[1;33m\u001b[0m\u001b[1;33m\u001b[0m\u001b[0m\n\u001b[0;32m   1006\u001b[0m \u001b[1;33m\u001b[0m\u001b[0m\n\u001b[1;32m-> 1007\u001b[1;33m             \u001b[1;32mwhile\u001b[0m \u001b[0mself\u001b[0m\u001b[1;33m.\u001b[0m\u001b[0mdispatch_one_batch\u001b[0m\u001b[1;33m(\u001b[0m\u001b[0miterator\u001b[0m\u001b[1;33m)\u001b[0m\u001b[1;33m:\u001b[0m\u001b[1;33m\u001b[0m\u001b[1;33m\u001b[0m\u001b[0m\n\u001b[0m\u001b[0;32m   1008\u001b[0m                 \u001b[1;32mpass\u001b[0m\u001b[1;33m\u001b[0m\u001b[1;33m\u001b[0m\u001b[0m\n\u001b[0;32m   1009\u001b[0m \u001b[1;33m\u001b[0m\u001b[0m\n",
      "\u001b[1;32m~\\AppData\\Local\\Continuum\\anaconda3\\envs\\tensorflow\\lib\\site-packages\\joblib\\parallel.py\u001b[0m in \u001b[0;36mdispatch_one_batch\u001b[1;34m(self, iterator)\u001b[0m\n\u001b[0;32m    833\u001b[0m                 \u001b[1;32mreturn\u001b[0m \u001b[1;32mFalse\u001b[0m\u001b[1;33m\u001b[0m\u001b[1;33m\u001b[0m\u001b[0m\n\u001b[0;32m    834\u001b[0m             \u001b[1;32melse\u001b[0m\u001b[1;33m:\u001b[0m\u001b[1;33m\u001b[0m\u001b[1;33m\u001b[0m\u001b[0m\n\u001b[1;32m--> 835\u001b[1;33m                 \u001b[0mself\u001b[0m\u001b[1;33m.\u001b[0m\u001b[0m_dispatch\u001b[0m\u001b[1;33m(\u001b[0m\u001b[0mtasks\u001b[0m\u001b[1;33m)\u001b[0m\u001b[1;33m\u001b[0m\u001b[1;33m\u001b[0m\u001b[0m\n\u001b[0m\u001b[0;32m    836\u001b[0m                 \u001b[1;32mreturn\u001b[0m \u001b[1;32mTrue\u001b[0m\u001b[1;33m\u001b[0m\u001b[1;33m\u001b[0m\u001b[0m\n\u001b[0;32m    837\u001b[0m \u001b[1;33m\u001b[0m\u001b[0m\n",
      "\u001b[1;32m~\\AppData\\Local\\Continuum\\anaconda3\\envs\\tensorflow\\lib\\site-packages\\joblib\\parallel.py\u001b[0m in \u001b[0;36m_dispatch\u001b[1;34m(self, batch)\u001b[0m\n\u001b[0;32m    752\u001b[0m         \u001b[1;32mwith\u001b[0m \u001b[0mself\u001b[0m\u001b[1;33m.\u001b[0m\u001b[0m_lock\u001b[0m\u001b[1;33m:\u001b[0m\u001b[1;33m\u001b[0m\u001b[1;33m\u001b[0m\u001b[0m\n\u001b[0;32m    753\u001b[0m             \u001b[0mjob_idx\u001b[0m \u001b[1;33m=\u001b[0m \u001b[0mlen\u001b[0m\u001b[1;33m(\u001b[0m\u001b[0mself\u001b[0m\u001b[1;33m.\u001b[0m\u001b[0m_jobs\u001b[0m\u001b[1;33m)\u001b[0m\u001b[1;33m\u001b[0m\u001b[1;33m\u001b[0m\u001b[0m\n\u001b[1;32m--> 754\u001b[1;33m             \u001b[0mjob\u001b[0m \u001b[1;33m=\u001b[0m \u001b[0mself\u001b[0m\u001b[1;33m.\u001b[0m\u001b[0m_backend\u001b[0m\u001b[1;33m.\u001b[0m\u001b[0mapply_async\u001b[0m\u001b[1;33m(\u001b[0m\u001b[0mbatch\u001b[0m\u001b[1;33m,\u001b[0m \u001b[0mcallback\u001b[0m\u001b[1;33m=\u001b[0m\u001b[0mcb\u001b[0m\u001b[1;33m)\u001b[0m\u001b[1;33m\u001b[0m\u001b[1;33m\u001b[0m\u001b[0m\n\u001b[0m\u001b[0;32m    755\u001b[0m             \u001b[1;31m# A job can complete so quickly than its callback is\u001b[0m\u001b[1;33m\u001b[0m\u001b[1;33m\u001b[0m\u001b[1;33m\u001b[0m\u001b[0m\n\u001b[0;32m    756\u001b[0m             \u001b[1;31m# called before we get here, causing self._jobs to\u001b[0m\u001b[1;33m\u001b[0m\u001b[1;33m\u001b[0m\u001b[1;33m\u001b[0m\u001b[0m\n",
      "\u001b[1;32m~\\AppData\\Local\\Continuum\\anaconda3\\envs\\tensorflow\\lib\\site-packages\\joblib\\_parallel_backends.py\u001b[0m in \u001b[0;36mapply_async\u001b[1;34m(self, func, callback)\u001b[0m\n\u001b[0;32m    207\u001b[0m     \u001b[1;32mdef\u001b[0m \u001b[0mapply_async\u001b[0m\u001b[1;33m(\u001b[0m\u001b[0mself\u001b[0m\u001b[1;33m,\u001b[0m \u001b[0mfunc\u001b[0m\u001b[1;33m,\u001b[0m \u001b[0mcallback\u001b[0m\u001b[1;33m=\u001b[0m\u001b[1;32mNone\u001b[0m\u001b[1;33m)\u001b[0m\u001b[1;33m:\u001b[0m\u001b[1;33m\u001b[0m\u001b[1;33m\u001b[0m\u001b[0m\n\u001b[0;32m    208\u001b[0m         \u001b[1;34m\"\"\"Schedule a func to be run\"\"\"\u001b[0m\u001b[1;33m\u001b[0m\u001b[1;33m\u001b[0m\u001b[0m\n\u001b[1;32m--> 209\u001b[1;33m         \u001b[0mresult\u001b[0m \u001b[1;33m=\u001b[0m \u001b[0mImmediateResult\u001b[0m\u001b[1;33m(\u001b[0m\u001b[0mfunc\u001b[0m\u001b[1;33m)\u001b[0m\u001b[1;33m\u001b[0m\u001b[1;33m\u001b[0m\u001b[0m\n\u001b[0m\u001b[0;32m    210\u001b[0m         \u001b[1;32mif\u001b[0m \u001b[0mcallback\u001b[0m\u001b[1;33m:\u001b[0m\u001b[1;33m\u001b[0m\u001b[1;33m\u001b[0m\u001b[0m\n\u001b[0;32m    211\u001b[0m             \u001b[0mcallback\u001b[0m\u001b[1;33m(\u001b[0m\u001b[0mresult\u001b[0m\u001b[1;33m)\u001b[0m\u001b[1;33m\u001b[0m\u001b[1;33m\u001b[0m\u001b[0m\n",
      "\u001b[1;32m~\\AppData\\Local\\Continuum\\anaconda3\\envs\\tensorflow\\lib\\site-packages\\joblib\\_parallel_backends.py\u001b[0m in \u001b[0;36m__init__\u001b[1;34m(self, batch)\u001b[0m\n\u001b[0;32m    588\u001b[0m         \u001b[1;31m# Don't delay the application, to avoid keeping the input\u001b[0m\u001b[1;33m\u001b[0m\u001b[1;33m\u001b[0m\u001b[1;33m\u001b[0m\u001b[0m\n\u001b[0;32m    589\u001b[0m         \u001b[1;31m# arguments in memory\u001b[0m\u001b[1;33m\u001b[0m\u001b[1;33m\u001b[0m\u001b[1;33m\u001b[0m\u001b[0m\n\u001b[1;32m--> 590\u001b[1;33m         \u001b[0mself\u001b[0m\u001b[1;33m.\u001b[0m\u001b[0mresults\u001b[0m \u001b[1;33m=\u001b[0m \u001b[0mbatch\u001b[0m\u001b[1;33m(\u001b[0m\u001b[1;33m)\u001b[0m\u001b[1;33m\u001b[0m\u001b[1;33m\u001b[0m\u001b[0m\n\u001b[0m\u001b[0;32m    591\u001b[0m \u001b[1;33m\u001b[0m\u001b[0m\n\u001b[0;32m    592\u001b[0m     \u001b[1;32mdef\u001b[0m \u001b[0mget\u001b[0m\u001b[1;33m(\u001b[0m\u001b[0mself\u001b[0m\u001b[1;33m)\u001b[0m\u001b[1;33m:\u001b[0m\u001b[1;33m\u001b[0m\u001b[1;33m\u001b[0m\u001b[0m\n",
      "\u001b[1;32m~\\AppData\\Local\\Continuum\\anaconda3\\envs\\tensorflow\\lib\\site-packages\\joblib\\parallel.py\u001b[0m in \u001b[0;36m__call__\u001b[1;34m(self)\u001b[0m\n\u001b[0;32m    254\u001b[0m         \u001b[1;32mwith\u001b[0m \u001b[0mparallel_backend\u001b[0m\u001b[1;33m(\u001b[0m\u001b[0mself\u001b[0m\u001b[1;33m.\u001b[0m\u001b[0m_backend\u001b[0m\u001b[1;33m,\u001b[0m \u001b[0mn_jobs\u001b[0m\u001b[1;33m=\u001b[0m\u001b[0mself\u001b[0m\u001b[1;33m.\u001b[0m\u001b[0m_n_jobs\u001b[0m\u001b[1;33m)\u001b[0m\u001b[1;33m:\u001b[0m\u001b[1;33m\u001b[0m\u001b[1;33m\u001b[0m\u001b[0m\n\u001b[0;32m    255\u001b[0m             return [func(*args, **kwargs)\n\u001b[1;32m--> 256\u001b[1;33m                     for func, args, kwargs in self.items]\n\u001b[0m\u001b[0;32m    257\u001b[0m \u001b[1;33m\u001b[0m\u001b[0m\n\u001b[0;32m    258\u001b[0m     \u001b[1;32mdef\u001b[0m \u001b[0m__len__\u001b[0m\u001b[1;33m(\u001b[0m\u001b[0mself\u001b[0m\u001b[1;33m)\u001b[0m\u001b[1;33m:\u001b[0m\u001b[1;33m\u001b[0m\u001b[1;33m\u001b[0m\u001b[0m\n",
      "\u001b[1;32m~\\AppData\\Local\\Continuum\\anaconda3\\envs\\tensorflow\\lib\\site-packages\\joblib\\parallel.py\u001b[0m in \u001b[0;36m<listcomp>\u001b[1;34m(.0)\u001b[0m\n\u001b[0;32m    254\u001b[0m         \u001b[1;32mwith\u001b[0m \u001b[0mparallel_backend\u001b[0m\u001b[1;33m(\u001b[0m\u001b[0mself\u001b[0m\u001b[1;33m.\u001b[0m\u001b[0m_backend\u001b[0m\u001b[1;33m,\u001b[0m \u001b[0mn_jobs\u001b[0m\u001b[1;33m=\u001b[0m\u001b[0mself\u001b[0m\u001b[1;33m.\u001b[0m\u001b[0m_n_jobs\u001b[0m\u001b[1;33m)\u001b[0m\u001b[1;33m:\u001b[0m\u001b[1;33m\u001b[0m\u001b[1;33m\u001b[0m\u001b[0m\n\u001b[0;32m    255\u001b[0m             return [func(*args, **kwargs)\n\u001b[1;32m--> 256\u001b[1;33m                     for func, args, kwargs in self.items]\n\u001b[0m\u001b[0;32m    257\u001b[0m \u001b[1;33m\u001b[0m\u001b[0m\n\u001b[0;32m    258\u001b[0m     \u001b[1;32mdef\u001b[0m \u001b[0m__len__\u001b[0m\u001b[1;33m(\u001b[0m\u001b[0mself\u001b[0m\u001b[1;33m)\u001b[0m\u001b[1;33m:\u001b[0m\u001b[1;33m\u001b[0m\u001b[1;33m\u001b[0m\u001b[0m\n",
      "\u001b[1;32m~\\AppData\\Local\\Continuum\\anaconda3\\envs\\tensorflow\\lib\\site-packages\\sklearn\\ensemble\\_forest.py\u001b[0m in \u001b[0;36m_accumulate_prediction\u001b[1;34m(predict, X, out, lock)\u001b[0m\n\u001b[0;32m    447\u001b[0m     \u001b[0mcomplains\u001b[0m \u001b[0mthat\u001b[0m \u001b[0mit\u001b[0m \u001b[0mcannot\u001b[0m \u001b[0mpickle\u001b[0m \u001b[0mit\u001b[0m \u001b[0mwhen\u001b[0m \u001b[0mplaced\u001b[0m \u001b[0mthere\u001b[0m\u001b[1;33m.\u001b[0m\u001b[1;33m\u001b[0m\u001b[1;33m\u001b[0m\u001b[0m\n\u001b[0;32m    448\u001b[0m     \"\"\"\n\u001b[1;32m--> 449\u001b[1;33m     \u001b[0mprediction\u001b[0m \u001b[1;33m=\u001b[0m \u001b[0mpredict\u001b[0m\u001b[1;33m(\u001b[0m\u001b[0mX\u001b[0m\u001b[1;33m,\u001b[0m \u001b[0mcheck_input\u001b[0m\u001b[1;33m=\u001b[0m\u001b[1;32mFalse\u001b[0m\u001b[1;33m)\u001b[0m\u001b[1;33m\u001b[0m\u001b[1;33m\u001b[0m\u001b[0m\n\u001b[0m\u001b[0;32m    450\u001b[0m     \u001b[1;32mwith\u001b[0m \u001b[0mlock\u001b[0m\u001b[1;33m:\u001b[0m\u001b[1;33m\u001b[0m\u001b[1;33m\u001b[0m\u001b[0m\n\u001b[0;32m    451\u001b[0m         \u001b[1;32mif\u001b[0m \u001b[0mlen\u001b[0m\u001b[1;33m(\u001b[0m\u001b[0mout\u001b[0m\u001b[1;33m)\u001b[0m \u001b[1;33m==\u001b[0m \u001b[1;36m1\u001b[0m\u001b[1;33m:\u001b[0m\u001b[1;33m\u001b[0m\u001b[1;33m\u001b[0m\u001b[0m\n",
      "\u001b[1;32m~\\AppData\\Local\\Continuum\\anaconda3\\envs\\tensorflow\\lib\\site-packages\\sklearn\\tree\\_classes.py\u001b[0m in \u001b[0;36mpredict_proba\u001b[1;34m(self, X, check_input)\u001b[0m\n\u001b[0;32m    904\u001b[0m         \u001b[0mcheck_is_fitted\u001b[0m\u001b[1;33m(\u001b[0m\u001b[0mself\u001b[0m\u001b[1;33m)\u001b[0m\u001b[1;33m\u001b[0m\u001b[1;33m\u001b[0m\u001b[0m\n\u001b[0;32m    905\u001b[0m         \u001b[0mX\u001b[0m \u001b[1;33m=\u001b[0m \u001b[0mself\u001b[0m\u001b[1;33m.\u001b[0m\u001b[0m_validate_X_predict\u001b[0m\u001b[1;33m(\u001b[0m\u001b[0mX\u001b[0m\u001b[1;33m,\u001b[0m \u001b[0mcheck_input\u001b[0m\u001b[1;33m)\u001b[0m\u001b[1;33m\u001b[0m\u001b[1;33m\u001b[0m\u001b[0m\n\u001b[1;32m--> 906\u001b[1;33m         \u001b[0mproba\u001b[0m \u001b[1;33m=\u001b[0m \u001b[0mself\u001b[0m\u001b[1;33m.\u001b[0m\u001b[0mtree_\u001b[0m\u001b[1;33m.\u001b[0m\u001b[0mpredict\u001b[0m\u001b[1;33m(\u001b[0m\u001b[0mX\u001b[0m\u001b[1;33m)\u001b[0m\u001b[1;33m\u001b[0m\u001b[1;33m\u001b[0m\u001b[0m\n\u001b[0m\u001b[0;32m    907\u001b[0m \u001b[1;33m\u001b[0m\u001b[0m\n\u001b[0;32m    908\u001b[0m         \u001b[1;32mif\u001b[0m \u001b[0mself\u001b[0m\u001b[1;33m.\u001b[0m\u001b[0mn_outputs_\u001b[0m \u001b[1;33m==\u001b[0m \u001b[1;36m1\u001b[0m\u001b[1;33m:\u001b[0m\u001b[1;33m\u001b[0m\u001b[1;33m\u001b[0m\u001b[0m\n",
      "\u001b[1;31mKeyboardInterrupt\u001b[0m: "
     ]
    }
   ],
   "source": [
    "experience_count = 0\n",
    "while(experience_count < 20):\n",
    "    threshold = np.array([0.47, 0.5, 0.5, 0.6, 0.6]) + \\\n",
    "                            np.array( [0 * np.random.rand(), 0 * np.random.rand(), 0.4 * np.random.rand(), 0.2 * np.random.rand(), 0.1 * np.random.rand() ])\n",
    "    y_predict = np.zeros(y_val.shape[0])\n",
    "#     threshold = optimal_threshold\n",
    "    \n",
    "    cost = validate_classfication(X_val, y_val, threshold, 0.3)[0]\n",
    "    \n",
    "    if cost < optimal_cost:\n",
    "        optimal_cost = cost\n",
    "        optimal_threshold = threshold\n",
    "        optimal_y_predict = y_predict\n",
    "    experience_count += 1"
   ]
  },
  {
   "cell_type": "markdown",
   "metadata": {},
   "source": [
    "optimal threshold value: [0.47092152, 0.55543368, 1, 1, 1]"
   ]
  },
  {
   "cell_type": "code",
   "execution_count": 373,
   "metadata": {},
   "outputs": [
    {
     "data": {
      "text/plain": [
       "array([0.47092152, 0.55543368, 0.868192  , 0.76829936, 0.97466098])"
      ]
     },
     "execution_count": 373,
     "metadata": {},
     "output_type": "execute_result"
    }
   ],
   "source": [
    "optimal_threshold"
   ]
  },
  {
   "cell_type": "code",
   "execution_count": 310,
   "metadata": {},
   "outputs": [
    {
     "data": {
      "text/plain": [
       "185.0507"
      ]
     },
     "execution_count": 310,
     "metadata": {},
     "output_type": "execute_result"
    }
   ],
   "source": [
    "np.abs(y_predict[:10000] - y_test[:10000]).mean()"
   ]
  },
  {
   "cell_type": "code",
   "execution_count": 106,
   "metadata": {},
   "outputs": [],
   "source": [
    "sample = y_predict[:10000]"
   ]
  },
  {
   "cell_type": "code",
   "execution_count": 107,
   "metadata": {},
   "outputs": [
    {
     "data": {
      "text/plain": [
       "3.4064399999999995"
      ]
     },
     "execution_count": 107,
     "metadata": {},
     "output_type": "execute_result"
    }
   ],
   "source": [
    "sample.mean()"
   ]
  },
  {
   "cell_type": "code",
   "execution_count": 108,
   "metadata": {},
   "outputs": [
    {
     "data": {
      "text/plain": [
       "array([ 0.3, 30. ,  0. ,  0. ,  0.3, 30. ,  0.3, 30. ,  0.3,  0.3,  0.3,\n",
       "        0.3,  0. ,  0.3, 30. ,  0. ,  0.3,  0.3,  0. ,  0.3,  0. , 30. ,\n",
       "        0. ,  0. ,  0.3,  0.3,  0.3,  0. ,  3. ,  0. ,  0.3,  0. ,  0. ,\n",
       "        0. ,  0. ,  0.3,  0.3, 30. , 30. ,  0. ,  0.3,  0. ,  3. ,  3. ,\n",
       "        0. ,  0. ,  0.3,  0. ,  0. ,  3. , 30. , 30. ,  0. , 30. ,  0. ,\n",
       "        0.3, 30. ,  0. ,  0. ,  0. , 30. ,  0. ,  0. ,  0. ,  0.3,  0. ,\n",
       "        3. ,  0. ,  0.3,  0.3,  0. , 30. , 30. ,  0.3,  3. ,  0.3,  0. ,\n",
       "        0. ,  0.3,  0. ,  0.3,  3. ,  3. ,  0. ,  3. ,  0. ,  0.3,  0.3,\n",
       "        0.3,  0. ,  0. ,  3. ,  3. ,  0. ,  0. ,  0. ,  0. ,  0. , 30. ,\n",
       "        0. ])"
      ]
     },
     "execution_count": 108,
     "metadata": {},
     "output_type": "execute_result"
    }
   ],
   "source": [
    "sample[:100]"
   ]
  },
  {
   "cell_type": "code",
   "execution_count": 109,
   "metadata": {
    "scrolled": false
   },
   "outputs": [
    {
     "data": {
      "text/plain": [
       "array([1.0000e+00, 1.0000e+00, 0.0000e+00, 0.0000e+00, 5.0000e+00,\n",
       "       8.8000e+01, 5.0000e+00, 5.2000e+01, 1.0000e+00, 0.0000e+00,\n",
       "       1.0000e+00, 4.0000e+00, 0.0000e+00, 0.0000e+00, 4.0800e+02,\n",
       "       0.0000e+00, 6.0000e+00, 2.6000e+02, 0.0000e+00, 1.0000e+00,\n",
       "       0.0000e+00, 6.7261e+04, 0.0000e+00, 0.0000e+00, 0.0000e+00,\n",
       "       0.0000e+00, 1.0000e+00, 0.0000e+00, 2.9000e+01, 0.0000e+00,\n",
       "       5.4000e+01, 0.0000e+00, 0.0000e+00, 0.0000e+00, 0.0000e+00,\n",
       "       0.0000e+00, 0.0000e+00, 1.0600e+02, 1.0000e+00, 0.0000e+00,\n",
       "       2.0000e+00, 5.0000e+00, 3.2800e+02, 3.5200e+02, 0.0000e+00,\n",
       "       0.0000e+00, 0.0000e+00, 0.0000e+00, 0.0000e+00, 2.5000e+01,\n",
       "       2.4600e+02, 1.0000e+00, 0.0000e+00, 7.0000e+01, 0.0000e+00,\n",
       "       2.0000e+00, 2.8000e+01, 0.0000e+00, 0.0000e+00, 0.0000e+00,\n",
       "       4.0950e+03, 0.0000e+00, 0.0000e+00, 0.0000e+00, 0.0000e+00,\n",
       "       0.0000e+00, 1.0000e+01, 0.0000e+00, 1.0000e+00, 1.0000e+00,\n",
       "       0.0000e+00, 1.0000e+00, 2.0000e+00, 1.0000e+00, 7.0000e+00,\n",
       "       4.0000e+00, 0.0000e+00, 0.0000e+00, 0.0000e+00, 0.0000e+00,\n",
       "       0.0000e+00, 1.0000e+01, 1.7000e+01, 0.0000e+00, 1.3000e+01,\n",
       "       0.0000e+00, 1.0000e+00, 0.0000e+00, 1.0000e+00, 0.0000e+00,\n",
       "       0.0000e+00, 1.0000e+00, 6.0000e+00, 0.0000e+00, 0.0000e+00,\n",
       "       0.0000e+00, 0.0000e+00, 0.0000e+00, 1.4000e+01, 0.0000e+00])"
      ]
     },
     "execution_count": 109,
     "metadata": {},
     "output_type": "execute_result"
    }
   ],
   "source": [
    "y_val[:100]"
   ]
  },
  {
   "cell_type": "code",
   "execution_count": 110,
   "metadata": {},
   "outputs": [
    {
     "data": {
      "text/plain": [
       "30.0"
      ]
     },
     "execution_count": 110,
     "metadata": {},
     "output_type": "execute_result"
    }
   ],
   "source": [
    "sample.max()"
   ]
  },
  {
   "cell_type": "markdown",
   "metadata": {},
   "source": [
    "## deep learning"
   ]
  },
  {
   "cell_type": "code",
   "execution_count": 192,
   "metadata": {},
   "outputs": [],
   "source": [
    "def build_model_clf():\n",
    "    \n",
    "    lr_schedule = tf.keras.optimizers.schedules.ExponentialDecay(\n",
    "        initial_learning_rate=1e-2,\n",
    "        decay_steps=100000,\n",
    "        decay_rate=0.99)\n",
    "    optimizer = tf.keras.optimizers.Adam(learning_rate=lr_schedule)\n",
    "    \n",
    "    model = tf.keras.Sequential()\n",
    "    model.add(tf.keras.layers.BatchNormalization())\n",
    "    model.add(tf.keras.layers.Dense(256, activation='relu'))\n",
    "    model.add(tf.keras.layers.Dense(256, activation='relu'))\n",
    "    model.add(tf.keras.layers.Dense(256, activation='relu'))\n",
    "    model.add(tf.keras.layers.Dense(256, activation='relu'))\n",
    "    model.add(tf.keras.layers.Dense(256, activation='relu'))\n",
    "    model.add(tf.keras.layers.Dense(256, activation='relu'))\n",
    "    model.add(tf.keras.layers.Dense(256, activation='relu'))\n",
    "    model.add(tf.keras.layers.Dense(1, activation = 'sigmoid'))\n",
    "    \n",
    "    model.compile(loss=\"binary_crossentropy\", optimizer=optimizer, metrics=[tf.metrics.binary_accuracy])\n",
    "#     model.summary()\n",
    "    return model"
   ]
  },
  {
   "cell_type": "code",
   "execution_count": 189,
   "metadata": {},
   "outputs": [
    {
     "name": "stdout",
     "output_type": "stream",
     "text": [
      "positive_sample:  1040 ; negative sample:  1302\n"
     ]
    }
   ],
   "source": [
    "X_train, y_train = get_train_data(0)"
   ]
  },
  {
   "cell_type": "code",
   "execution_count": 193,
   "metadata": {
    "scrolled": true
   },
   "outputs": [
    {
     "name": "stdout",
     "output_type": "stream",
     "text": [
      "Train on 1873 samples, validate on 469 samples\n",
      "Epoch 1/30\n",
      "1873/1873 [==============================] - 1s 512us/sample - loss: 1.6230 - binary_accuracy: 0.5547 - val_loss: 0.6981 - val_binary_accuracy: 0.4435\n",
      "Epoch 2/30\n",
      "1873/1873 [==============================] - 0s 12us/sample - loss: 0.6950 - binary_accuracy: 0.4495 - val_loss: 0.6866 - val_binary_accuracy: 0.5565\n",
      "Epoch 3/30\n",
      "1873/1873 [==============================] - 0s 13us/sample - loss: 0.6751 - binary_accuracy: 0.5558 - val_loss: 1.0056 - val_binary_accuracy: 0.5565\n",
      "Epoch 4/30\n",
      "1873/1873 [==============================] - 0s 13us/sample - loss: 0.6390 - binary_accuracy: 0.6337 - val_loss: 2.1474 - val_binary_accuracy: 0.5565\n",
      "Epoch 5/30\n",
      "1873/1873 [==============================] - 0s 13us/sample - loss: 0.6057 - binary_accuracy: 0.6733 - val_loss: 0.7008 - val_binary_accuracy: 0.6098\n",
      "Epoch 6/30\n",
      "1873/1873 [==============================] - 0s 12us/sample - loss: 0.5477 - binary_accuracy: 0.7256 - val_loss: 1.6257 - val_binary_accuracy: 0.5778\n",
      "Epoch 7/30\n",
      "1873/1873 [==============================] - 0s 13us/sample - loss: 0.4990 - binary_accuracy: 0.7411 - val_loss: 2.0425 - val_binary_accuracy: 0.5906\n",
      "Epoch 8/30\n",
      "1873/1873 [==============================] - 0s 13us/sample - loss: 0.4601 - binary_accuracy: 0.7528 - val_loss: 1.3814 - val_binary_accuracy: 0.5970\n",
      "Epoch 9/30\n",
      "1873/1873 [==============================] - 0s 12us/sample - loss: 0.4364 - binary_accuracy: 0.7816 - val_loss: 2.1312 - val_binary_accuracy: 0.5970\n",
      "Epoch 10/30\n",
      "1873/1873 [==============================] - 0s 14us/sample - loss: 0.4024 - binary_accuracy: 0.7822 - val_loss: 2.7545 - val_binary_accuracy: 0.6055\n",
      "Epoch 11/30\n",
      "1873/1873 [==============================] - 0s 13us/sample - loss: 0.3757 - binary_accuracy: 0.8057 - val_loss: 3.1540 - val_binary_accuracy: 0.6098\n",
      "Epoch 12/30\n",
      "1873/1873 [==============================] - 0s 13us/sample - loss: 0.3695 - binary_accuracy: 0.8174 - val_loss: 2.8128 - val_binary_accuracy: 0.6034\n",
      "Epoch 13/30\n",
      "1873/1873 [==============================] - 0s 13us/sample - loss: 0.3397 - binary_accuracy: 0.8409 - val_loss: 3.8369 - val_binary_accuracy: 0.6269\n",
      "Epoch 14/30\n",
      "1873/1873 [==============================] - 0s 12us/sample - loss: 0.3157 - binary_accuracy: 0.8452 - val_loss: 3.4282 - val_binary_accuracy: 0.6588\n",
      "Epoch 15/30\n",
      "1873/1873 [==============================] - 0s 14us/sample - loss: 0.3563 - binary_accuracy: 0.8350 - val_loss: 3.7161 - val_binary_accuracy: 0.6290\n",
      "Epoch 16/30\n",
      "1873/1873 [==============================] - 0s 13us/sample - loss: 0.3165 - binary_accuracy: 0.8393 - val_loss: 2.6589 - val_binary_accuracy: 0.6397\n",
      "Epoch 17/30\n",
      "1873/1873 [==============================] - 0s 13us/sample - loss: 0.3096 - binary_accuracy: 0.8655 - val_loss: 2.4010 - val_binary_accuracy: 0.6695\n",
      "Epoch 18/30\n",
      "1873/1873 [==============================] - 0s 12us/sample - loss: 0.3017 - binary_accuracy: 0.8558 - val_loss: 2.0443 - val_binary_accuracy: 0.7356\n",
      "Epoch 19/30\n",
      "1873/1873 [==============================] - 0s 13us/sample - loss: 0.2878 - binary_accuracy: 0.8649 - val_loss: 2.7588 - val_binary_accuracy: 0.7164\n",
      "Epoch 20/30\n",
      "1873/1873 [==============================] - 0s 13us/sample - loss: 0.2691 - binary_accuracy: 0.8660 - val_loss: 3.2247 - val_binary_accuracy: 0.7100\n",
      "Epoch 21/30\n",
      "1873/1873 [==============================] - 0s 12us/sample - loss: 0.2757 - binary_accuracy: 0.8660 - val_loss: 2.5220 - val_binary_accuracy: 0.7292\n",
      "Epoch 22/30\n",
      "1873/1873 [==============================] - 0s 13us/sample - loss: 0.2867 - binary_accuracy: 0.8553 - val_loss: 1.6997 - val_binary_accuracy: 0.7335\n",
      "Epoch 23/30\n",
      "1873/1873 [==============================] - 0s 13us/sample - loss: 0.2675 - binary_accuracy: 0.8767 - val_loss: 2.3719 - val_binary_accuracy: 0.7271\n",
      "Epoch 24/30\n",
      "1873/1873 [==============================] - 0s 12us/sample - loss: 0.2799 - binary_accuracy: 0.8644 - val_loss: 1.5139 - val_binary_accuracy: 0.7569\n",
      "Epoch 25/30\n",
      "1873/1873 [==============================] - 0s 13us/sample - loss: 0.2803 - binary_accuracy: 0.8585 - val_loss: 1.5780 - val_binary_accuracy: 0.7633\n",
      "Epoch 26/30\n",
      "1873/1873 [==============================] - 0s 14us/sample - loss: 0.3050 - binary_accuracy: 0.8607 - val_loss: 1.3075 - val_binary_accuracy: 0.7612\n",
      "Epoch 27/30\n",
      "1873/1873 [==============================] - 0s 12us/sample - loss: 0.2704 - binary_accuracy: 0.8628 - val_loss: 1.2198 - val_binary_accuracy: 0.7569\n",
      "Epoch 28/30\n",
      "1873/1873 [==============================] - 0s 12us/sample - loss: 0.2686 - binary_accuracy: 0.8740 - val_loss: 1.1143 - val_binary_accuracy: 0.7484\n",
      "Epoch 29/30\n",
      "1873/1873 [==============================] - 0s 12us/sample - loss: 0.2556 - binary_accuracy: 0.8825 - val_loss: 1.1919 - val_binary_accuracy: 0.7548\n",
      "Epoch 30/30\n",
      "1873/1873 [==============================] - 0s 12us/sample - loss: 0.2520 - binary_accuracy: 0.9018 - val_loss: 1.2858 - val_binary_accuracy: 0.7527\n"
     ]
    },
    {
     "data": {
      "text/plain": [
       "<tensorflow.python.keras.callbacks.History at 0x21258797550>"
      ]
     },
     "execution_count": 193,
     "metadata": {},
     "output_type": "execute_result"
    }
   ],
   "source": [
    "epochs = 30\n",
    "batch_size = 1024\n",
    "model_clf = build_model_clf()\n",
    "model_clf.fit(X_train, y_train, epochs=epochs, batch_size = batch_size, validation_split=0.2, shuffle=True)"
   ]
  },
  {
   "cell_type": "code",
   "execution_count": 182,
   "metadata": {},
   "outputs": [
    {
     "name": "stdout",
     "output_type": "stream",
     "text": [
      "positive_sample:  79837 ; negative sample:  99760\n",
      "Train on 143677 samples, validate on 35920 samples\n",
      "Epoch 1/30\n",
      "143677/143677 [==============================] - 2s 16us/sample - loss: 0.5132 - binary_accuracy: 0.7439 - val_loss: 0.5085 - val_binary_accuracy: 0.7482\n",
      "Epoch 2/30\n",
      "143677/143677 [==============================] - 1s 9us/sample - loss: 0.4861 - binary_accuracy: 0.7601 - val_loss: 0.4725 - val_binary_accuracy: 0.7692\n",
      "Epoch 3/30\n",
      "143677/143677 [==============================] - 1s 9us/sample - loss: 0.4848 - binary_accuracy: 0.7613 - val_loss: 0.4737 - val_binary_accuracy: 0.7649\n",
      "Epoch 4/30\n",
      "143677/143677 [==============================] - 1s 9us/sample - loss: 0.4782 - binary_accuracy: 0.7636 - val_loss: 0.4721 - val_binary_accuracy: 0.7698\n",
      "Epoch 5/30\n",
      "143677/143677 [==============================] - 1s 9us/sample - loss: 0.4784 - binary_accuracy: 0.7626 - val_loss: 0.4690 - val_binary_accuracy: 0.7708\n",
      "Epoch 6/30\n",
      "143677/143677 [==============================] - 1s 9us/sample - loss: 0.4782 - binary_accuracy: 0.7641 - val_loss: 0.4737 - val_binary_accuracy: 0.7692\n",
      "Epoch 7/30\n",
      "143677/143677 [==============================] - 1s 9us/sample - loss: 0.4770 - binary_accuracy: 0.7647 - val_loss: 0.4706 - val_binary_accuracy: 0.7675\n",
      "Epoch 8/30\n",
      "143677/143677 [==============================] - 1s 9us/sample - loss: 0.4763 - binary_accuracy: 0.7655 - val_loss: 0.4733 - val_binary_accuracy: 0.7682\n",
      "Epoch 9/30\n",
      "143677/143677 [==============================] - 1s 9us/sample - loss: 0.4744 - binary_accuracy: 0.7662 - val_loss: 0.4661 - val_binary_accuracy: 0.7725\n",
      "Epoch 10/30\n",
      "143677/143677 [==============================] - 1s 9us/sample - loss: 0.4751 - binary_accuracy: 0.7658 - val_loss: 0.4746 - val_binary_accuracy: 0.7599\n",
      "Epoch 11/30\n",
      "143677/143677 [==============================] - 1s 9us/sample - loss: 0.4726 - binary_accuracy: 0.7660 - val_loss: 0.4750 - val_binary_accuracy: 0.7679\n",
      "Epoch 12/30\n",
      "143677/143677 [==============================] - 1s 9us/sample - loss: 0.4716 - binary_accuracy: 0.7664 - val_loss: 0.4678 - val_binary_accuracy: 0.7682\n",
      "Epoch 13/30\n",
      "143677/143677 [==============================] - 1s 9us/sample - loss: 0.4730 - binary_accuracy: 0.7652 - val_loss: 0.4649 - val_binary_accuracy: 0.7732\n",
      "Epoch 14/30\n",
      "143677/143677 [==============================] - 1s 9us/sample - loss: 0.4715 - binary_accuracy: 0.7666 - val_loss: 0.4678 - val_binary_accuracy: 0.7698\n",
      "Epoch 15/30\n",
      "143677/143677 [==============================] - 1s 9us/sample - loss: 0.4714 - binary_accuracy: 0.7673 - val_loss: 0.4646 - val_binary_accuracy: 0.7714\n",
      "Epoch 16/30\n",
      "143677/143677 [==============================] - 1s 9us/sample - loss: 0.4726 - binary_accuracy: 0.7662 - val_loss: 0.4739 - val_binary_accuracy: 0.7693\n",
      "Epoch 17/30\n",
      "143677/143677 [==============================] - 1s 9us/sample - loss: 0.4714 - binary_accuracy: 0.7660 - val_loss: 0.4636 - val_binary_accuracy: 0.7731\n",
      "Epoch 18/30\n",
      "143677/143677 [==============================] - 1s 9us/sample - loss: 0.4692 - binary_accuracy: 0.7677 - val_loss: 0.4654 - val_binary_accuracy: 0.7727\n",
      "Epoch 19/30\n",
      "143677/143677 [==============================] - 1s 9us/sample - loss: 0.4700 - binary_accuracy: 0.7675 - val_loss: 0.4676 - val_binary_accuracy: 0.7716\n",
      "Epoch 20/30\n",
      "143677/143677 [==============================] - 1s 9us/sample - loss: 0.4694 - binary_accuracy: 0.7676 - val_loss: 0.4662 - val_binary_accuracy: 0.7709\n",
      "Epoch 21/30\n",
      "143677/143677 [==============================] - 1s 9us/sample - loss: 0.4687 - binary_accuracy: 0.7678 - val_loss: 0.4663 - val_binary_accuracy: 0.7711\n",
      "Epoch 22/30\n",
      "143677/143677 [==============================] - 1s 9us/sample - loss: 0.4681 - binary_accuracy: 0.7694 - val_loss: 0.4616 - val_binary_accuracy: 0.7726\n",
      "Epoch 23/30\n",
      "143677/143677 [==============================] - 1s 9us/sample - loss: 0.4700 - binary_accuracy: 0.7672 - val_loss: 0.4695 - val_binary_accuracy: 0.7639\n",
      "Epoch 24/30\n",
      "143677/143677 [==============================] - 1s 9us/sample - loss: 0.4696 - binary_accuracy: 0.7673 - val_loss: 0.4752 - val_binary_accuracy: 0.7644\n",
      "Epoch 25/30\n",
      "143677/143677 [==============================] - 1s 9us/sample - loss: 0.4707 - binary_accuracy: 0.7671 - val_loss: 0.4659 - val_binary_accuracy: 0.7683\n",
      "Epoch 26/30\n",
      "143677/143677 [==============================] - 1s 9us/sample - loss: 0.4680 - binary_accuracy: 0.7682 - val_loss: 0.4605 - val_binary_accuracy: 0.7746\n",
      "Epoch 27/30\n",
      "143677/143677 [==============================] - 1s 9us/sample - loss: 0.4677 - binary_accuracy: 0.7687 - val_loss: 0.4610 - val_binary_accuracy: 0.7747\n",
      "Epoch 28/30\n",
      "143677/143677 [==============================] - 1s 9us/sample - loss: 0.4679 - binary_accuracy: 0.7687 - val_loss: 0.4618 - val_binary_accuracy: 0.7747\n",
      "Epoch 29/30\n",
      "143677/143677 [==============================] - 1s 9us/sample - loss: 0.4676 - binary_accuracy: 0.7704 - val_loss: 0.4627 - val_binary_accuracy: 0.7729\n",
      "Epoch 30/30\n",
      "143677/143677 [==============================] - 1s 9us/sample - loss: 0.4694 - binary_accuracy: 0.7677 - val_loss: 0.4646 - val_binary_accuracy: 0.7705\n",
      "F1 in the test set: \n",
      " 0.28159340659340665\n",
      "ACC in the test set: \n",
      " 0.8348296864425897\n",
      "CM in the test set: \n",
      " [[106719  15779]\n",
      " [  6187   4305]]\n",
      "positive_sample:  29550 ; negative sample:  36938\n",
      "Train on 53190 samples, validate on 13298 samples\n",
      "Epoch 1/30\n",
      "53190/53190 [==============================] - 1s 26us/sample - loss: 0.5681 - binary_accuracy: 0.7257 - val_loss: 0.6700 - val_binary_accuracy: 0.5957\n",
      "Epoch 2/30\n",
      "53190/53190 [==============================] - 0s 9us/sample - loss: 0.5092 - binary_accuracy: 0.7511 - val_loss: 0.5106 - val_binary_accuracy: 0.7500\n",
      "Epoch 3/30\n",
      "53190/53190 [==============================] - 0s 9us/sample - loss: 0.4994 - binary_accuracy: 0.7579 - val_loss: 0.5262 - val_binary_accuracy: 0.7177\n",
      "Epoch 4/30\n",
      "53190/53190 [==============================] - 0s 9us/sample - loss: 0.4927 - binary_accuracy: 0.7593 - val_loss: 0.5157 - val_binary_accuracy: 0.7570\n",
      "Epoch 5/30\n",
      "53190/53190 [==============================] - 0s 9us/sample - loss: 0.4935 - binary_accuracy: 0.7606 - val_loss: 0.4880 - val_binary_accuracy: 0.7698\n",
      "Epoch 6/30\n",
      "53190/53190 [==============================] - 0s 9us/sample - loss: 0.4858 - binary_accuracy: 0.7636 - val_loss: 0.4719 - val_binary_accuracy: 0.7777\n",
      "Epoch 7/30\n",
      "53190/53190 [==============================] - 0s 9us/sample - loss: 0.4864 - binary_accuracy: 0.7662 - val_loss: 0.4766 - val_binary_accuracy: 0.7731\n",
      "Epoch 8/30\n",
      "53190/53190 [==============================] - 0s 9us/sample - loss: 0.4904 - binary_accuracy: 0.7652 - val_loss: 0.4798 - val_binary_accuracy: 0.7760\n",
      "Epoch 9/30\n",
      "53190/53190 [==============================] - 0s 9us/sample - loss: 0.4877 - binary_accuracy: 0.7627 - val_loss: 0.4777 - val_binary_accuracy: 0.7730\n",
      "Epoch 10/30\n",
      "53190/53190 [==============================] - 0s 9us/sample - loss: 0.4782 - binary_accuracy: 0.7672 - val_loss: 0.4781 - val_binary_accuracy: 0.7749\n",
      "Epoch 11/30\n",
      "53190/53190 [==============================] - 0s 9us/sample - loss: 0.4813 - binary_accuracy: 0.7677 - val_loss: 0.4742 - val_binary_accuracy: 0.7671\n",
      "Epoch 12/30\n",
      "53190/53190 [==============================] - 0s 9us/sample - loss: 0.4833 - binary_accuracy: 0.7649 - val_loss: 0.5166 - val_binary_accuracy: 0.7624\n",
      "Epoch 13/30\n",
      "53190/53190 [==============================] - 0s 9us/sample - loss: 0.4792 - binary_accuracy: 0.7688 - val_loss: 0.4662 - val_binary_accuracy: 0.7739\n",
      "Epoch 14/30\n",
      "53190/53190 [==============================] - 0s 9us/sample - loss: 0.4783 - binary_accuracy: 0.7698 - val_loss: 0.4764 - val_binary_accuracy: 0.7748\n",
      "Epoch 15/30\n",
      "53190/53190 [==============================] - 0s 9us/sample - loss: 0.4788 - binary_accuracy: 0.7670 - val_loss: 0.4617 - val_binary_accuracy: 0.7796\n",
      "Epoch 16/30\n",
      "53190/53190 [==============================] - 0s 9us/sample - loss: 0.4788 - binary_accuracy: 0.7688 - val_loss: 0.4690 - val_binary_accuracy: 0.7710\n",
      "Epoch 17/30\n",
      "53190/53190 [==============================] - 0s 9us/sample - loss: 0.4766 - binary_accuracy: 0.7706 - val_loss: 0.4659 - val_binary_accuracy: 0.7779\n",
      "Epoch 18/30\n",
      "53190/53190 [==============================] - 0s 9us/sample - loss: 0.4735 - binary_accuracy: 0.7718 - val_loss: 0.4650 - val_binary_accuracy: 0.7709\n"
     ]
    },
    {
     "name": "stdout",
     "output_type": "stream",
     "text": [
      "Epoch 19/30\n",
      "53190/53190 [==============================] - 0s 9us/sample - loss: 0.4762 - binary_accuracy: 0.7685 - val_loss: 0.4642 - val_binary_accuracy: 0.7770\n",
      "Epoch 20/30\n",
      "53190/53190 [==============================] - 1s 9us/sample - loss: 0.4750 - binary_accuracy: 0.7705 - val_loss: 0.4749 - val_binary_accuracy: 0.7627\n",
      "Epoch 21/30\n",
      "53190/53190 [==============================] - 0s 9us/sample - loss: 0.4759 - binary_accuracy: 0.7681 - val_loss: 0.4856 - val_binary_accuracy: 0.7736\n",
      "Epoch 22/30\n",
      "53190/53190 [==============================] - 0s 9us/sample - loss: 0.4799 - binary_accuracy: 0.7676 - val_loss: 0.4683 - val_binary_accuracy: 0.7752\n",
      "Epoch 23/30\n",
      "53190/53190 [==============================] - 0s 9us/sample - loss: 0.4733 - binary_accuracy: 0.7705 - val_loss: 0.4643 - val_binary_accuracy: 0.7757\n",
      "Epoch 24/30\n",
      "53190/53190 [==============================] - 0s 9us/sample - loss: 0.4705 - binary_accuracy: 0.7743 - val_loss: 0.4692 - val_binary_accuracy: 0.7753\n",
      "Epoch 25/30\n",
      "53190/53190 [==============================] - 0s 9us/sample - loss: 0.4705 - binary_accuracy: 0.7723 - val_loss: 0.4704 - val_binary_accuracy: 0.7708\n",
      "Epoch 26/30\n",
      "53190/53190 [==============================] - 0s 9us/sample - loss: 0.4718 - binary_accuracy: 0.7718 - val_loss: 0.4735 - val_binary_accuracy: 0.7704\n",
      "Epoch 27/30\n",
      "53190/53190 [==============================] - 0s 9us/sample - loss: 0.4706 - binary_accuracy: 0.7744 - val_loss: 0.4636 - val_binary_accuracy: 0.7768\n",
      "Epoch 28/30\n",
      "53190/53190 [==============================] - 0s 9us/sample - loss: 0.4693 - binary_accuracy: 0.7726 - val_loss: 0.4647 - val_binary_accuracy: 0.7748\n",
      "Epoch 29/30\n",
      "53190/53190 [==============================] - 0s 9us/sample - loss: 0.4717 - binary_accuracy: 0.7726 - val_loss: 0.4712 - val_binary_accuracy: 0.7736\n",
      "Epoch 30/30\n",
      "53190/53190 [==============================] - 0s 9us/sample - loss: 0.4759 - binary_accuracy: 0.7708 - val_loss: 0.4646 - val_binary_accuracy: 0.7710\n",
      "F1 in the test set: \n",
      " 0.2606477373558119\n",
      "ACC in the test set: \n",
      " 0.8997518610421836\n",
      "CM in the test set: \n",
      " [[117308   5190]\n",
      " [  8142   2350]]\n",
      "positive_sample:  8114 ; negative sample:  10144\n",
      "Train on 14606 samples, validate on 3652 samples\n",
      "Epoch 1/30\n",
      "14606/14606 [==============================] - 1s 71us/sample - loss: 0.7705 - binary_accuracy: 0.6670 - val_loss: 0.6627 - val_binary_accuracy: 0.6914\n",
      "Epoch 2/30\n",
      "14606/14606 [==============================] - 0s 10us/sample - loss: 0.5116 - binary_accuracy: 0.7499 - val_loss: 0.5717 - val_binary_accuracy: 0.7084\n",
      "Epoch 3/30\n",
      "14606/14606 [==============================] - 0s 10us/sample - loss: 0.4916 - binary_accuracy: 0.7585 - val_loss: 0.5369 - val_binary_accuracy: 0.7234\n",
      "Epoch 4/30\n",
      "14606/14606 [==============================] - 0s 10us/sample - loss: 0.4856 - binary_accuracy: 0.7588 - val_loss: 0.5581 - val_binary_accuracy: 0.7223\n",
      "Epoch 5/30\n",
      "14606/14606 [==============================] - 0s 10us/sample - loss: 0.4831 - binary_accuracy: 0.7628 - val_loss: 0.5148 - val_binary_accuracy: 0.7390\n",
      "Epoch 6/30\n",
      "14606/14606 [==============================] - 0s 10us/sample - loss: 0.4871 - binary_accuracy: 0.7627 - val_loss: 0.5299 - val_binary_accuracy: 0.7327\n",
      "Epoch 7/30\n",
      "14606/14606 [==============================] - 0s 10us/sample - loss: 0.4735 - binary_accuracy: 0.7641 - val_loss: 0.5143 - val_binary_accuracy: 0.7341\n",
      "Epoch 8/30\n",
      "14606/14606 [==============================] - 0s 10us/sample - loss: 0.4838 - binary_accuracy: 0.7669 - val_loss: 0.5393 - val_binary_accuracy: 0.7106\n",
      "Epoch 9/30\n",
      "14606/14606 [==============================] - 0s 10us/sample - loss: 0.4693 - binary_accuracy: 0.7723 - val_loss: 0.5110 - val_binary_accuracy: 0.7467\n",
      "Epoch 10/30\n",
      "14606/14606 [==============================] - 0s 10us/sample - loss: 0.4679 - binary_accuracy: 0.7694 - val_loss: 0.4929 - val_binary_accuracy: 0.7577\n",
      "Epoch 11/30\n",
      "14606/14606 [==============================] - 0s 10us/sample - loss: 0.4799 - binary_accuracy: 0.7624 - val_loss: 0.4867 - val_binary_accuracy: 0.7694\n",
      "Epoch 12/30\n",
      "14606/14606 [==============================] - 0s 10us/sample - loss: 0.4813 - binary_accuracy: 0.7719 - val_loss: 0.5121 - val_binary_accuracy: 0.7500\n",
      "Epoch 13/30\n",
      "14606/14606 [==============================] - 0s 10us/sample - loss: 0.4685 - binary_accuracy: 0.7700 - val_loss: 0.4950 - val_binary_accuracy: 0.7585\n",
      "Epoch 14/30\n",
      "14606/14606 [==============================] - 0s 10us/sample - loss: 0.4754 - binary_accuracy: 0.7727 - val_loss: 0.4734 - val_binary_accuracy: 0.7620\n",
      "Epoch 15/30\n",
      "14606/14606 [==============================] - 0s 10us/sample - loss: 0.4674 - binary_accuracy: 0.7704 - val_loss: 0.4844 - val_binary_accuracy: 0.7601\n",
      "Epoch 16/30\n",
      "14606/14606 [==============================] - 0s 10us/sample - loss: 0.4655 - binary_accuracy: 0.7741 - val_loss: 0.4784 - val_binary_accuracy: 0.7673\n",
      "Epoch 17/30\n",
      "14606/14606 [==============================] - 0s 10us/sample - loss: 0.4669 - binary_accuracy: 0.7757 - val_loss: 0.4724 - val_binary_accuracy: 0.7634\n",
      "Epoch 18/30\n",
      "14606/14606 [==============================] - 0s 10us/sample - loss: 0.4679 - binary_accuracy: 0.7715 - val_loss: 0.4870 - val_binary_accuracy: 0.7681\n",
      "Epoch 19/30\n",
      "14606/14606 [==============================] - 0s 10us/sample - loss: 0.4659 - binary_accuracy: 0.7739 - val_loss: 0.4819 - val_binary_accuracy: 0.7508\n",
      "Epoch 20/30\n",
      "14606/14606 [==============================] - 0s 10us/sample - loss: 0.4654 - binary_accuracy: 0.7739 - val_loss: 0.4753 - val_binary_accuracy: 0.7675\n",
      "Epoch 21/30\n",
      "14606/14606 [==============================] - 0s 10us/sample - loss: 0.4687 - binary_accuracy: 0.7773 - val_loss: 0.5010 - val_binary_accuracy: 0.7577\n",
      "Epoch 22/30\n",
      "14606/14606 [==============================] - 0s 10us/sample - loss: 0.4741 - binary_accuracy: 0.7695 - val_loss: 0.4834 - val_binary_accuracy: 0.7659\n",
      "Epoch 23/30\n",
      "14606/14606 [==============================] - 0s 10us/sample - loss: 0.4565 - binary_accuracy: 0.7828 - val_loss: 0.4772 - val_binary_accuracy: 0.7741\n",
      "Epoch 24/30\n",
      "14606/14606 [==============================] - 0s 10us/sample - loss: 0.4631 - binary_accuracy: 0.7761 - val_loss: 0.4812 - val_binary_accuracy: 0.7752\n",
      "Epoch 25/30\n",
      "14606/14606 [==============================] - 0s 10us/sample - loss: 0.4734 - binary_accuracy: 0.7729 - val_loss: 0.4779 - val_binary_accuracy: 0.7656\n",
      "Epoch 26/30\n",
      "14606/14606 [==============================] - 0s 10us/sample - loss: 0.4590 - binary_accuracy: 0.7794 - val_loss: 0.4723 - val_binary_accuracy: 0.7634\n",
      "Epoch 27/30\n",
      "14606/14606 [==============================] - 0s 10us/sample - loss: 0.4574 - binary_accuracy: 0.7814 - val_loss: 0.4944 - val_binary_accuracy: 0.7700\n",
      "Epoch 28/30\n",
      "14606/14606 [==============================] - 0s 10us/sample - loss: 0.4561 - binary_accuracy: 0.7858 - val_loss: 0.4757 - val_binary_accuracy: 0.7637\n",
      "Epoch 29/30\n",
      "14606/14606 [==============================] - 0s 10us/sample - loss: 0.4680 - binary_accuracy: 0.7724 - val_loss: 0.4720 - val_binary_accuracy: 0.7716\n",
      "Epoch 30/30\n",
      "14606/14606 [==============================] - 0s 10us/sample - loss: 0.4614 - binary_accuracy: 0.7767 - val_loss: 0.4835 - val_binary_accuracy: 0.7678\n",
      "F1 in the test set: \n",
      " 0.1287120787641079\n",
      "ACC in the test set: \n",
      " 0.9181517407323859\n",
      "CM in the test set: \n",
      " [[121301   1197]\n",
      " [  9688    804]]\n",
      "positive_sample:  1365 ; negative sample:  1708\n",
      "Train on 2458 samples, validate on 615 samples\n",
      "Epoch 1/30\n",
      "2458/2458 [==============================] - 1s 379us/sample - loss: 1.2307 - binary_accuracy: 0.4967 - val_loss: 0.6845 - val_binary_accuracy: 0.5561\n",
      "Epoch 2/30\n",
      "2458/2458 [==============================] - 0s 16us/sample - loss: 0.6763 - binary_accuracy: 0.5700 - val_loss: 0.8636 - val_binary_accuracy: 0.6065\n",
      "Epoch 3/30\n",
      "2458/2458 [==============================] - 0s 16us/sample - loss: 0.7843 - binary_accuracy: 0.6310 - val_loss: 1.4290 - val_binary_accuracy: 0.5967\n",
      "Epoch 4/30\n",
      "2458/2458 [==============================] - 0s 17us/sample - loss: 0.6134 - binary_accuracy: 0.6876 - val_loss: 0.6251 - val_binary_accuracy: 0.6130\n",
      "Epoch 5/30\n",
      "2458/2458 [==============================] - 0s 16us/sample - loss: 0.5616 - binary_accuracy: 0.7160 - val_loss: 1.5332 - val_binary_accuracy: 0.6179\n",
      "Epoch 6/30\n",
      "2458/2458 [==============================] - 0s 16us/sample - loss: 0.5565 - binary_accuracy: 0.7189 - val_loss: 0.6006 - val_binary_accuracy: 0.6504\n",
      "Epoch 7/30\n",
      "2458/2458 [==============================] - 0s 16us/sample - loss: 0.5550 - binary_accuracy: 0.7201 - val_loss: 0.5885 - val_binary_accuracy: 0.6407\n",
      "Epoch 8/30\n",
      "2458/2458 [==============================] - 0s 16us/sample - loss: 0.5325 - binary_accuracy: 0.7144 - val_loss: 0.9114 - val_binary_accuracy: 0.6341\n",
      "Epoch 9/30\n",
      "2458/2458 [==============================] - 0s 16us/sample - loss: 0.5235 - binary_accuracy: 0.7295 - val_loss: 0.6785 - val_binary_accuracy: 0.6439\n",
      "Epoch 10/30\n",
      "2458/2458 [==============================] - 0s 15us/sample - loss: 0.5140 - binary_accuracy: 0.7315 - val_loss: 0.7397 - val_binary_accuracy: 0.6520\n",
      "Epoch 11/30\n",
      "2458/2458 [==============================] - 0s 16us/sample - loss: 0.5110 - binary_accuracy: 0.7295 - val_loss: 0.6303 - val_binary_accuracy: 0.6894\n",
      "Epoch 12/30\n",
      "2458/2458 [==============================] - 0s 16us/sample - loss: 0.5167 - binary_accuracy: 0.7266 - val_loss: 0.5441 - val_binary_accuracy: 0.7220\n",
      "Epoch 13/30\n",
      "2458/2458 [==============================] - 0s 15us/sample - loss: 0.5130 - binary_accuracy: 0.7290 - val_loss: 0.5632 - val_binary_accuracy: 0.7122\n",
      "Epoch 14/30\n",
      "2458/2458 [==============================] - 0s 16us/sample - loss: 0.5232 - binary_accuracy: 0.7234 - val_loss: 0.5854 - val_binary_accuracy: 0.6976\n",
      "Epoch 15/30\n",
      "2458/2458 [==============================] - 0s 17us/sample - loss: 0.5233 - binary_accuracy: 0.7213 - val_loss: 0.5392 - val_binary_accuracy: 0.7268\n",
      "Epoch 16/30\n",
      "2458/2458 [==============================] - 0s 17us/sample - loss: 0.5020 - binary_accuracy: 0.7368 - val_loss: 0.5415 - val_binary_accuracy: 0.7317\n",
      "Epoch 17/30\n",
      "2458/2458 [==============================] - 0s 15us/sample - loss: 0.5024 - binary_accuracy: 0.7376 - val_loss: 0.5083 - val_binary_accuracy: 0.7252\n",
      "Epoch 18/30\n",
      "2458/2458 [==============================] - 0s 17us/sample - loss: 0.5066 - binary_accuracy: 0.7254 - val_loss: 0.5035 - val_binary_accuracy: 0.7285\n",
      "Epoch 19/30\n",
      "2458/2458 [==============================] - 0s 15us/sample - loss: 0.5062 - binary_accuracy: 0.7286 - val_loss: 0.5240 - val_binary_accuracy: 0.7285\n",
      "Epoch 20/30\n",
      "2458/2458 [==============================] - 0s 16us/sample - loss: 0.4984 - binary_accuracy: 0.7396 - val_loss: 0.5156 - val_binary_accuracy: 0.7285\n",
      "Epoch 21/30\n",
      "2458/2458 [==============================] - 0s 16us/sample - loss: 0.4930 - binary_accuracy: 0.7429 - val_loss: 0.5111 - val_binary_accuracy: 0.7431\n",
      "Epoch 22/30\n",
      "2458/2458 [==============================] - 0s 16us/sample - loss: 0.4997 - binary_accuracy: 0.7453 - val_loss: 0.5310 - val_binary_accuracy: 0.7220\n",
      "Epoch 23/30\n",
      "2458/2458 [==============================] - 0s 15us/sample - loss: 0.4955 - binary_accuracy: 0.7400 - val_loss: 0.5079 - val_binary_accuracy: 0.7333\n",
      "Epoch 24/30\n",
      "2458/2458 [==============================] - 0s 16us/sample - loss: 0.4911 - binary_accuracy: 0.7486 - val_loss: 0.5087 - val_binary_accuracy: 0.7366\n",
      "Epoch 25/30\n",
      "2458/2458 [==============================] - 0s 16us/sample - loss: 0.4837 - binary_accuracy: 0.7474 - val_loss: 0.5021 - val_binary_accuracy: 0.7415\n",
      "Epoch 26/30\n",
      "2458/2458 [==============================] - 0s 15us/sample - loss: 0.4801 - binary_accuracy: 0.7555 - val_loss: 0.4985 - val_binary_accuracy: 0.7561\n",
      "Epoch 27/30\n",
      "2458/2458 [==============================] - 0s 15us/sample - loss: 0.4852 - binary_accuracy: 0.7461 - val_loss: 0.4990 - val_binary_accuracy: 0.7431\n",
      "Epoch 28/30\n",
      "2458/2458 [==============================] - 0s 16us/sample - loss: 0.5053 - binary_accuracy: 0.7396 - val_loss: 0.5230 - val_binary_accuracy: 0.7171\n",
      "Epoch 29/30\n",
      "2458/2458 [==============================] - 0s 16us/sample - loss: 0.5019 - binary_accuracy: 0.7404 - val_loss: 0.4882 - val_binary_accuracy: 0.7480\n",
      "Epoch 30/30\n",
      "2458/2458 [==============================] - 0s 16us/sample - loss: 0.4957 - binary_accuracy: 0.7535 - val_loss: 0.5334 - val_binary_accuracy: 0.7073\n",
      "F1 in the test set: \n",
      " 0.032177990254665806\n",
      "ACC in the test set: \n",
      " 0.9208436724565757\n",
      "CM in the test set: \n",
      " [[122288    210]\n",
      " [ 10317    175]]\n",
      "positive_sample:  1040 ; negative sample:  1302\n",
      "Train on 1873 samples, validate on 469 samples\n",
      "Epoch 1/30\n",
      "1873/1873 [==============================] - 1s 491us/sample - loss: 1.6791 - binary_accuracy: 0.5670 - val_loss: 0.6920 - val_binary_accuracy: 0.4435\n",
      "Epoch 2/30\n",
      "1873/1873 [==============================] - 0s 16us/sample - loss: 0.6661 - binary_accuracy: 0.5307 - val_loss: 2.7903 - val_binary_accuracy: 0.5714\n",
      "Epoch 3/30\n",
      "1873/1873 [==============================] - 0s 17us/sample - loss: 0.5940 - binary_accuracy: 0.6978 - val_loss: 0.6958 - val_binary_accuracy: 0.6226\n",
      "Epoch 4/30\n",
      "1873/1873 [==============================] - 0s 17us/sample - loss: 0.5238 - binary_accuracy: 0.7480 - val_loss: 2.3063 - val_binary_accuracy: 0.6034\n",
      "Epoch 5/30\n",
      "1873/1873 [==============================] - 0s 17us/sample - loss: 0.4773 - binary_accuracy: 0.7640 - val_loss: 1.2188 - val_binary_accuracy: 0.6141\n",
      "Epoch 6/30\n",
      "1873/1873 [==============================] - 0s 17us/sample - loss: 0.4295 - binary_accuracy: 0.7795 - val_loss: 1.7045 - val_binary_accuracy: 0.6098\n",
      "Epoch 7/30\n",
      "1873/1873 [==============================] - 0s 17us/sample - loss: 0.3885 - binary_accuracy: 0.8019 - val_loss: 2.9159 - val_binary_accuracy: 0.6141\n",
      "Epoch 8/30\n",
      "1873/1873 [==============================] - 0s 17us/sample - loss: 0.3752 - binary_accuracy: 0.8345 - val_loss: 1.2618 - val_binary_accuracy: 0.6930\n",
      "Epoch 9/30\n",
      "1873/1873 [==============================] - 0s 16us/sample - loss: 0.3760 - binary_accuracy: 0.8302 - val_loss: 1.1799 - val_binary_accuracy: 0.6802\n",
      "Epoch 10/30\n",
      "1873/1873 [==============================] - 0s 17us/sample - loss: 0.3989 - binary_accuracy: 0.8281 - val_loss: 0.7661 - val_binary_accuracy: 0.6631\n",
      "Epoch 11/30\n",
      "1873/1873 [==============================] - 0s 17us/sample - loss: 0.3742 - binary_accuracy: 0.8377 - val_loss: 1.1007 - val_binary_accuracy: 0.6631\n",
      "Epoch 12/30\n",
      "1873/1873 [==============================] - 0s 17us/sample - loss: 0.3210 - binary_accuracy: 0.8430 - val_loss: 1.6116 - val_binary_accuracy: 0.6695\n",
      "Epoch 13/30\n",
      "1873/1873 [==============================] - 0s 16us/sample - loss: 0.3425 - binary_accuracy: 0.8452 - val_loss: 0.4625 - val_binary_accuracy: 0.7420\n",
      "Epoch 14/30\n",
      "1873/1873 [==============================] - 0s 17us/sample - loss: 0.3873 - binary_accuracy: 0.7907 - val_loss: 0.4514 - val_binary_accuracy: 0.7505\n",
      "Epoch 15/30\n",
      "1873/1873 [==============================] - 0s 17us/sample - loss: 0.3601 - binary_accuracy: 0.8243 - val_loss: 0.8249 - val_binary_accuracy: 0.6972\n",
      "Epoch 16/30\n",
      "1873/1873 [==============================] - 0s 18us/sample - loss: 0.3269 - binary_accuracy: 0.8510 - val_loss: 0.6735 - val_binary_accuracy: 0.7164\n",
      "Epoch 17/30\n",
      "1873/1873 [==============================] - 0s 18us/sample - loss: 0.2920 - binary_accuracy: 0.8719 - val_loss: 0.5713 - val_binary_accuracy: 0.7164\n",
      "Epoch 18/30\n",
      "1873/1873 [==============================] - 0s 17us/sample - loss: 0.2931 - binary_accuracy: 0.8703 - val_loss: 0.5584 - val_binary_accuracy: 0.7143\n",
      "Epoch 19/30\n",
      "1873/1873 [==============================] - 0s 17us/sample - loss: 0.3014 - binary_accuracy: 0.8425 - val_loss: 0.5164 - val_binary_accuracy: 0.7633\n",
      "Epoch 20/30\n",
      "1873/1873 [==============================] - 0s 16us/sample - loss: 0.3205 - binary_accuracy: 0.8430 - val_loss: 0.4749 - val_binary_accuracy: 0.7228\n",
      "Epoch 21/30\n",
      "1873/1873 [==============================] - 0s 16us/sample - loss: 0.3437 - binary_accuracy: 0.8409 - val_loss: 0.4752 - val_binary_accuracy: 0.7484\n",
      "Epoch 22/30\n",
      "1873/1873 [==============================] - 0s 17us/sample - loss: 0.3382 - binary_accuracy: 0.8430 - val_loss: 0.5181 - val_binary_accuracy: 0.7420\n",
      "Epoch 23/30\n",
      "1873/1873 [==============================] - 0s 17us/sample - loss: 0.2715 - binary_accuracy: 0.8671 - val_loss: 0.5832 - val_binary_accuracy: 0.7783\n",
      "Epoch 24/30\n",
      "1873/1873 [==============================] - 0s 17us/sample - loss: 0.2600 - binary_accuracy: 0.8825 - val_loss: 0.5180 - val_binary_accuracy: 0.7484\n",
      "Epoch 25/30\n"
     ]
    },
    {
     "name": "stdout",
     "output_type": "stream",
     "text": [
      "1873/1873 [==============================] - 0s 18us/sample - loss: 0.2686 - binary_accuracy: 0.8927 - val_loss: 0.4426 - val_binary_accuracy: 0.7868\n",
      "Epoch 26/30\n",
      "1873/1873 [==============================] - 0s 17us/sample - loss: 0.3335 - binary_accuracy: 0.8548 - val_loss: 0.5467 - val_binary_accuracy: 0.7228\n",
      "Epoch 27/30\n",
      "1873/1873 [==============================] - 0s 17us/sample - loss: 0.3863 - binary_accuracy: 0.8441 - val_loss: 0.4766 - val_binary_accuracy: 0.7292\n",
      "Epoch 28/30\n",
      "1873/1873 [==============================] - 0s 18us/sample - loss: 0.3163 - binary_accuracy: 0.8681 - val_loss: 0.4936 - val_binary_accuracy: 0.7761\n",
      "Epoch 29/30\n",
      "1873/1873 [==============================] - 0s 17us/sample - loss: 0.2765 - binary_accuracy: 0.8783 - val_loss: 0.4501 - val_binary_accuracy: 0.7783\n",
      "Epoch 30/30\n",
      "1873/1873 [==============================] - 0s 16us/sample - loss: 0.2764 - binary_accuracy: 0.8729 - val_loss: 0.5044 - val_binary_accuracy: 0.7420\n",
      "F1 in the test set: \n",
      " 0.0011419870574800152\n",
      "ACC in the test set: \n",
      " 0.9210767726896759\n",
      "CM in the test set: \n",
      " [[122488     10]\n",
      " [ 10486      6]]\n"
     ]
    }
   ],
   "source": [
    "for i in range(5):\n",
    "    X_train, y_train = get_train_data(i)\n",
    "    model_clf = build_model_clf()\n",
    "    model_clf.fit(X_train, y_train, epochs=epochs, batch_size = batch_size, validation_split=0.2, shuffle=True)\n",
    "    model_zoo[ \">10**%d\"%i] = model_clf \n",
    "    y_test_ = (y_test_log > i)\n",
    "    \n",
    "    print( \"F1 in the test set: \\n\", f1_score( clf.predict(X_test), y_test_))\n",
    "    print( \"ACC in the test set: \\n\", accuracy_score( clf.predict(X_test), y_test_))\n",
    "    print( \"CM in the test set: \\n\", confusion_matrix( clf.predict(X_test), y_test_))"
   ]
  },
  {
   "cell_type": "markdown",
   "metadata": {},
   "source": [
    "### Generally worse than Random Forest"
   ]
  },
  {
   "cell_type": "markdown",
   "metadata": {},
   "source": [
    "# Regression Model"
   ]
  },
  {
   "cell_type": "code",
   "execution_count": 112,
   "metadata": {},
   "outputs": [],
   "source": [
    "from sklearn.linear_model import LinearRegression"
   ]
  },
  {
   "cell_type": "code",
   "execution_count": 113,
   "metadata": {},
   "outputs": [],
   "source": [
    "scaler = StandardScaler().fit(X)"
   ]
  },
  {
   "cell_type": "code",
   "execution_count": 114,
   "metadata": {},
   "outputs": [
    {
     "data": {
      "text/plain": [
       "array([[0.00000e+00, 1.94620e+04, 2.86000e+02, ..., 0.00000e+00,\n",
       "        0.00000e+00, 0.00000e+00],\n",
       "       [0.00000e+00, 6.18800e+03, 2.98700e+03, ..., 0.00000e+00,\n",
       "        0.00000e+00, 0.00000e+00],\n",
       "       [0.00000e+00, 3.30000e+02, 1.13000e+02, ..., 0.00000e+00,\n",
       "        0.00000e+00, 0.00000e+00],\n",
       "       ...,\n",
       "       [0.00000e+00, 6.14500e+03, 4.28600e+03, ..., 0.00000e+00,\n",
       "        0.00000e+00, 0.00000e+00],\n",
       "       [1.00000e+00, 1.01836e+05, 2.48189e+05, ..., 0.00000e+00,\n",
       "        0.00000e+00, 0.00000e+00],\n",
       "       [0.00000e+00, 2.87200e+03, 3.37800e+03, ..., 0.00000e+00,\n",
       "        0.00000e+00, 0.00000e+00]])"
      ]
     },
     "execution_count": 114,
     "metadata": {},
     "output_type": "execute_result"
    }
   ],
   "source": [
    "X_train_1"
   ]
  },
  {
   "cell_type": "code",
   "execution_count": 118,
   "metadata": {},
   "outputs": [],
   "source": [
    "def get_train_data_regr(i):\n",
    "    \"\"\"\n",
    "    i in [0, 1,2,3]\n",
    "    i = 0 ==> y in [0, 10]\n",
    "    i = 1 ==> y in [10, 100]\n",
    "    i = 2 ==> y in [100, inf]\n",
    "    \"\"\"\n",
    "    \n",
    "    X = []\n",
    "    Y = []\n",
    "    if i < 2:\n",
    "        for x, y in zip(X_train_1, y_train_1):\n",
    "            y_log =  int(np.log10(y)) if y > 0 else 0\n",
    "            if y_log == i:\n",
    "                X.append(x)\n",
    "                Y.append(y)\n",
    "    else:\n",
    "        for x, y in zip(X_train_1, y_train_1):\n",
    "            y_log =  int(np.log10(y)) if y > 0 else 0\n",
    "            if y_log >= 2:\n",
    "                X.append(x)\n",
    "                Y.append(y)\n",
    "        \n",
    "    \n",
    "    print(\"number of samples \", len(Y))\n",
    "    return np.array(X), np.array(Y)"
   ]
  },
  {
   "cell_type": "code",
   "execution_count": 122,
   "metadata": {},
   "outputs": [
    {
     "name": "stdout",
     "output_type": "stream",
     "text": [
      "number of samples  50436\n"
     ]
    }
   ],
   "source": [
    "X_, y_ = get_train_data_regr(1)"
   ]
  },
  {
   "cell_type": "code",
   "execution_count": 123,
   "metadata": {},
   "outputs": [
    {
     "data": {
      "text/plain": [
       "array([12., 37., 56., ..., 44., 38., 41.])"
      ]
     },
     "execution_count": 123,
     "metadata": {},
     "output_type": "execute_result"
    }
   ],
   "source": [
    "y_"
   ]
  },
  {
   "cell_type": "markdown",
   "metadata": {},
   "source": [
    "## Linear Regression"
   ]
  },
  {
   "cell_type": "code",
   "execution_count": 162,
   "metadata": {},
   "outputs": [],
   "source": [
    "from sklearn.ensemble import AdaBoostRegressor\n",
    "\n",
    "from sklearn.linear_model import Ridge"
   ]
  },
  {
   "cell_type": "code",
   "execution_count": 164,
   "metadata": {},
   "outputs": [
    {
     "name": "stdout",
     "output_type": "stream",
     "text": [
      "number of samples  185174\n",
      "mae on validation set:  1.268971786591297\n",
      "number of samples  50436\n",
      "mae on validation set:  18.494831651203626\n",
      "number of samples  29899\n",
      "mae on validation set:  3398.4941853853757\n"
     ]
    }
   ],
   "source": [
    "regr_zoo = {}\n",
    "\n",
    "for i in range(3):\n",
    "    X_r, y_r = get_train_data_regr(i)\n",
    "    X_train, X_val, y_train, y_val = train_test_split(X_r, y_r, test_size=0.2, random_state=42)\n",
    "    regr = LinearRegression(normalize=True).fit(X_train, y_train)\n",
    "    regr_zoo[i] = regr\n",
    "    \n",
    "    print(\"mae on validation set: \", np.abs(regr.predict(X_val) - y_val).mean())"
   ]
  },
  {
   "cell_type": "code",
   "execution_count": 165,
   "metadata": {},
   "outputs": [
    {
     "name": "stdout",
     "output_type": "stream",
     "text": [
      "mae on validation set:  530.2997174124213\n"
     ]
    }
   ],
   "source": [
    "# Base regressor \n",
    "\n",
    "regr = LinearRegression().fit(X_train_1, y_train_1)\n",
    "print(\"mae on validation set: \", np.abs(regr.predict(X_train_1) - y_train_1).mean())\n",
    "regr_zoo[2] = regr"
   ]
  },
  {
   "cell_type": "markdown",
   "metadata": {},
   "source": [
    "Very bad score"
   ]
  },
  {
   "cell_type": "markdown",
   "metadata": {},
   "source": [
    "### Test on Test Data"
   ]
  },
  {
   "cell_type": "code",
   "execution_count": 238,
   "metadata": {},
   "outputs": [],
   "source": [
    "def validate_regression(X_val, y_val, threshold):\n",
    "    y_predict = np.zeros(y_val.shape[0])\n",
    "    \n",
    "    count = 0\n",
    "    for (i, x) in enumerate(X_val):\n",
    "        if (i % 2000 == 0):\n",
    "            print(\"processed: \", i)\n",
    "        p = get_classes_pos(x)\n",
    "#         print(p)\n",
    "        if p[0] > 0:\n",
    "            y_predict[i] = 0\n",
    "        else:\n",
    "            largest_class = 0\n",
    "            for j in range(2):\n",
    "                if p[j+1] >= threshold[j]:\n",
    "                    largest_class = j+1\n",
    "            if largest_class == 2:\n",
    "                count+= 1\n",
    "            y_predict[i] = max( regr_zoo[largest_class].predict(np.array([x])).squeeze(), 0)\n",
    "\n",
    "            \n",
    "#             y_predict[i] = max( regr.predict([x])[0], 0)\n",
    "            \n",
    "    cost = np.abs(y_val - y_predict).mean()\n",
    "    print(\"cost at \", threshold, \": \", cost)\n",
    "    print(count)\n",
    "    return cost, y_predict"
   ]
  },
  {
   "cell_type": "code",
   "execution_count": 230,
   "metadata": {},
   "outputs": [],
   "source": [
    "X_train, X_test, y_train, y_test = train_test_split(X, y, test_size=0.2, random_state=42)\n",
    "\n",
    "X_val = X_test[:10000]\n",
    "y_val = y_test[:10000]"
   ]
  },
  {
   "cell_type": "code",
   "execution_count": 231,
   "metadata": {
    "scrolled": true
   },
   "outputs": [
    {
     "name": "stdout",
     "output_type": "stream",
     "text": [
      "processed:  0\n"
     ]
    },
    {
     "ename": "IndexError",
     "evalue": "too many indices for array",
     "output_type": "error",
     "traceback": [
      "\u001b[1;31m---------------------------------------------------------------------------\u001b[0m",
      "\u001b[1;31mIndexError\u001b[0m                                Traceback (most recent call last)",
      "\u001b[1;32m<ipython-input-231-0201b99bd3fd>\u001b[0m in \u001b[0;36m<module>\u001b[1;34m\u001b[0m\n\u001b[1;32m----> 1\u001b[1;33m \u001b[0mvalidate_regression\u001b[0m\u001b[1;33m(\u001b[0m\u001b[0mX_val\u001b[0m\u001b[1;33m,\u001b[0m \u001b[0my_val\u001b[0m\u001b[1;33m,\u001b[0m \u001b[0mthreshold\u001b[0m\u001b[1;33m)\u001b[0m\u001b[1;33m\u001b[0m\u001b[1;33m\u001b[0m\u001b[0m\n\u001b[0m",
      "\u001b[1;32m<ipython-input-229-04d97e3dc628>\u001b[0m in \u001b[0;36mvalidate_regression\u001b[1;34m(X_val, y_val, threshold)\u001b[0m\n\u001b[0;32m     17\u001b[0m             \u001b[1;32mif\u001b[0m \u001b[0mlargest_class\u001b[0m \u001b[1;33m==\u001b[0m \u001b[1;36m2\u001b[0m\u001b[1;33m:\u001b[0m\u001b[1;33m\u001b[0m\u001b[1;33m\u001b[0m\u001b[0m\n\u001b[0;32m     18\u001b[0m                 \u001b[0mcount\u001b[0m\u001b[1;33m+=\u001b[0m \u001b[1;36m1\u001b[0m\u001b[1;33m\u001b[0m\u001b[1;33m\u001b[0m\u001b[0m\n\u001b[1;32m---> 19\u001b[1;33m             \u001b[0my_predict\u001b[0m\u001b[1;33m[\u001b[0m\u001b[0mi\u001b[0m\u001b[1;33m]\u001b[0m \u001b[1;33m=\u001b[0m \u001b[0mmax\u001b[0m\u001b[1;33m(\u001b[0m \u001b[0mregr_zoo\u001b[0m\u001b[1;33m[\u001b[0m\u001b[0mlargest_class\u001b[0m\u001b[1;33m]\u001b[0m\u001b[1;33m.\u001b[0m\u001b[0mpredict\u001b[0m\u001b[1;33m(\u001b[0m\u001b[0mnp\u001b[0m\u001b[1;33m.\u001b[0m\u001b[0marray\u001b[0m\u001b[1;33m(\u001b[0m\u001b[1;33m[\u001b[0m\u001b[0mx\u001b[0m\u001b[1;33m]\u001b[0m\u001b[1;33m)\u001b[0m\u001b[1;33m)\u001b[0m\u001b[1;33m.\u001b[0m\u001b[0msqueeze\u001b[0m\u001b[1;33m(\u001b[0m\u001b[1;33m)\u001b[0m\u001b[1;33m[\u001b[0m\u001b[1;36m0\u001b[0m\u001b[1;33m]\u001b[0m\u001b[1;33m,\u001b[0m \u001b[1;36m0\u001b[0m\u001b[1;33m)\u001b[0m\u001b[1;33m\u001b[0m\u001b[1;33m\u001b[0m\u001b[0m\n\u001b[0m\u001b[0;32m     20\u001b[0m \u001b[1;33m\u001b[0m\u001b[0m\n\u001b[0;32m     21\u001b[0m \u001b[1;33m\u001b[0m\u001b[0m\n",
      "\u001b[1;31mIndexError\u001b[0m: too many indices for array"
     ]
    }
   ],
   "source": [
    "validate_regression(X_val, y_val, threshold)"
   ]
  },
  {
   "cell_type": "code",
   "execution_count": 148,
   "metadata": {},
   "outputs": [
    {
     "data": {
      "text/plain": [
       "151.6632"
      ]
     },
     "execution_count": 148,
     "metadata": {},
     "output_type": "execute_result"
    }
   ],
   "source": [
    "y_val.mean()"
   ]
  },
  {
   "cell_type": "code",
   "execution_count": 237,
   "metadata": {},
   "outputs": [
    {
     "data": {
      "text/plain": [
       "array(2.9161904, dtype=float32)"
      ]
     },
     "execution_count": 237,
     "metadata": {},
     "output_type": "execute_result"
    }
   ],
   "source": [
    "x = X_test[0]\n",
    "max( model.predict(np.array([x])).squeeze(), 0)"
   ]
  },
  {
   "cell_type": "markdown",
   "metadata": {},
   "source": [
    "## Random Forest Regressor"
   ]
  },
  {
   "cell_type": "code",
   "execution_count": 152,
   "metadata": {},
   "outputs": [],
   "source": [
    "from sklearn.ensemble import RandomForestRegressor"
   ]
  },
  {
   "cell_type": "code",
   "execution_count": 166,
   "metadata": {},
   "outputs": [
    {
     "name": "stdout",
     "output_type": "stream",
     "text": [
      "number of samples  185174\n",
      "mae on validation set:  1.1469037126523167\n",
      "number of samples  50436\n",
      "mae on validation set:  17.901787452334045\n",
      "number of samples  29899\n",
      "mae on validation set:  3057.763769526023\n"
     ]
    }
   ],
   "source": [
    "regr_zoo = {}\n",
    "\n",
    "for i in range(3):\n",
    "    X_r, y_r = get_train_data_regr(i)\n",
    "    X_train, X_val, y_train, y_val = train_test_split(X_r, y_r, test_size=0.2, random_state=42)\n",
    "    regr = RandomForestRegressor(max_depth=10).fit(X_train, y_train)\n",
    "    regr_zoo[i] = regr\n",
    "    \n",
    "    print(\"mae on validation set: \", np.abs(regr.predict(X_val) - y_val).mean())"
   ]
  },
  {
   "cell_type": "code",
   "execution_count": 167,
   "metadata": {},
   "outputs": [
    {
     "name": "stdout",
     "output_type": "stream",
     "text": [
      "mae on validation set:  407.005306585776\n"
     ]
    }
   ],
   "source": [
    "# Base regressor \n",
    "\n",
    "regr = RandomForestRegressor(max_depth=10).fit(X_train_1, y_train_1)\n",
    "print(\"mae on validation set: \", np.abs(regr.predict(X_train_1) - y_train_1).mean())\n",
    "regr_zoo[2] = regr"
   ]
  },
  {
   "cell_type": "code",
   "execution_count": 239,
   "metadata": {},
   "outputs": [
    {
     "name": "stdout",
     "output_type": "stream",
     "text": [
      "processed:  0\n",
      "processed:  2000\n",
      "processed:  4000\n",
      "processed:  6000\n",
      "processed:  8000\n",
      "cost at  [0.47092152, 0.55543368, 1, 1, 1] :  148.3667994320345\n",
      "1019\n"
     ]
    },
    {
     "data": {
      "text/plain": [
       "(148.3667994320345,\n",
       " array([3.35947172, 0.1352271 , 0.        , ..., 0.29737144, 7.69349575,\n",
       "        0.        ]))"
      ]
     },
     "execution_count": 239,
     "metadata": {},
     "output_type": "execute_result"
    }
   ],
   "source": [
    "X_train, X_test, y_train, y_test = train_test_split(X, y, test_size=0.2, random_state=42)\n",
    "\n",
    "X_val = X_test[:10000]\n",
    "y_val = y_test[:10000]\n",
    "\n",
    "validate_regression(X_val, y_val, threshold)"
   ]
  },
  {
   "cell_type": "code",
   "execution_count": 240,
   "metadata": {
    "scrolled": true
   },
   "outputs": [
    {
     "data": {
      "text/plain": [
       "151.6632"
      ]
     },
     "execution_count": 240,
     "metadata": {},
     "output_type": "execute_result"
    }
   ],
   "source": [
    "y_val.mean()"
   ]
  },
  {
   "cell_type": "markdown",
   "metadata": {},
   "source": [
    "**Slightly better than before, still worse than all-0 prediction**"
   ]
  },
  {
   "cell_type": "code",
   "execution_count": 212,
   "metadata": {},
   "outputs": [],
   "source": [
    "def build_model():\n",
    "    \n",
    "    lr_schedule = tf.keras.optimizers.schedules.ExponentialDecay(\n",
    "        initial_learning_rate=1e-2,\n",
    "        decay_steps=10000,\n",
    "        decay_rate=0.95)\n",
    "    optimizer = tf.keras.optimizers.Adam(learning_rate=lr_schedule)\n",
    "    \n",
    "    model = tf.keras.Sequential()\n",
    "    model.add(tf.keras.layers.BatchNormalization())\n",
    "    model.add(tf.keras.layers.Dense(256, activation='relu'))\n",
    "    model.add(tf.keras.layers.Dense(256, activation='relu'))\n",
    "    model.add(tf.keras.layers.Dense(256, activation='relu'))\n",
    "    model.add(tf.keras.layers.Dense(256, activation='relu'))\n",
    "    model.add(tf.keras.layers.Dense(256, activation='relu'))\n",
    "    model.add(tf.keras.layers.Dense(256, activation='relu'))\n",
    "    model.add(tf.keras.layers.Dense(1, 'relu'))\n",
    "    \n",
    "    model.compile(loss=\"mae\", optimizer=optimizer, metrics=[\"mae\"])\n",
    "#     model.summary()\n",
    "    return model"
   ]
  },
  {
   "cell_type": "code",
   "execution_count": 213,
   "metadata": {
    "scrolled": true
   },
   "outputs": [
    {
     "name": "stdout",
     "output_type": "stream",
     "text": [
      "Train on 212407 samples, validate on 53102 samples\n",
      "Epoch 1/20\n",
      "212407/212407 [==============================] - 3s 16us/sample - loss: 290.5693 - mae: 290.5695 - val_loss: 299.7439 - val_mae: 299.7440\n",
      "Epoch 2/20\n",
      "212407/212407 [==============================] - 2s 11us/sample - loss: 289.1437 - mae: 289.1438 - val_loss: 301.6049 - val_mae: 301.6050\n",
      "Epoch 3/20\n",
      "212407/212407 [==============================] - 2s 11us/sample - loss: 287.7208 - mae: 287.7209 - val_loss: 299.9454 - val_mae: 299.9454\n",
      "Epoch 4/20\n",
      "212407/212407 [==============================] - 2s 11us/sample - loss: 288.9651 - mae: 288.9652 - val_loss: 301.6699 - val_mae: 301.6699\n",
      "Epoch 5/20\n",
      "212407/212407 [==============================] - 2s 11us/sample - loss: 286.7534 - mae: 286.7534 - val_loss: 298.2968 - val_mae: 298.2969\n",
      "Epoch 6/20\n",
      "212407/212407 [==============================] - 2s 11us/sample - loss: 286.6750 - mae: 286.6748 - val_loss: 298.3681 - val_mae: 298.3681\n",
      "Epoch 7/20\n",
      "212407/212407 [==============================] - 2s 11us/sample - loss: 285.6258 - mae: 285.6257 - val_loss: 299.6596 - val_mae: 299.6596\n",
      "Epoch 8/20\n",
      "212407/212407 [==============================] - 2s 11us/sample - loss: 285.4480 - mae: 285.4480 - val_loss: 297.2235 - val_mae: 297.2234\n",
      "Epoch 9/20\n",
      "212407/212407 [==============================] - 2s 11us/sample - loss: 285.7381 - mae: 285.7380 - val_loss: 298.0248 - val_mae: 298.0247\n",
      "Epoch 10/20\n",
      "212407/212407 [==============================] - 2s 11us/sample - loss: 285.2696 - mae: 285.2695 - val_loss: 297.4819 - val_mae: 297.4819\n",
      "Epoch 11/20\n",
      "212407/212407 [==============================] - 2s 11us/sample - loss: 284.7723 - mae: 284.7722 - val_loss: 297.9348 - val_mae: 297.9348\n",
      "Epoch 12/20\n",
      "212407/212407 [==============================] - 2s 11us/sample - loss: 285.1966 - mae: 285.1968 - val_loss: 298.4316 - val_mae: 298.4315\n",
      "Epoch 13/20\n",
      "212407/212407 [==============================] - 2s 11us/sample - loss: 285.2226 - mae: 285.2226 - val_loss: 300.0488 - val_mae: 300.0488\n",
      "Epoch 14/20\n",
      "212407/212407 [==============================] - 2s 11us/sample - loss: 286.4543 - mae: 286.4545 - val_loss: 310.4978 - val_mae: 310.4978\n",
      "Epoch 15/20\n",
      " 84480/212407 [==========>...................] - ETA: 1s - loss: 283.8849 - mae: 283.8849"
     ]
    },
    {
     "ename": "KeyboardInterrupt",
     "evalue": "",
     "output_type": "error",
     "traceback": [
      "\u001b[1;31m---------------------------------------------------------------------------\u001b[0m",
      "\u001b[1;31mKeyboardInterrupt\u001b[0m                         Traceback (most recent call last)",
      "\u001b[1;32m<ipython-input-213-57ff264837e1>\u001b[0m in \u001b[0;36m<module>\u001b[1;34m\u001b[0m\n\u001b[0;32m      2\u001b[0m \u001b[0mbatch_size\u001b[0m \u001b[1;33m=\u001b[0m \u001b[1;36m512\u001b[0m\u001b[1;33m\u001b[0m\u001b[1;33m\u001b[0m\u001b[0m\n\u001b[0;32m      3\u001b[0m \u001b[0mmodel\u001b[0m \u001b[1;33m=\u001b[0m \u001b[0mbuild_model\u001b[0m\u001b[1;33m(\u001b[0m\u001b[1;33m)\u001b[0m\u001b[1;33m\u001b[0m\u001b[1;33m\u001b[0m\u001b[0m\n\u001b[1;32m----> 4\u001b[1;33m \u001b[0mmodel\u001b[0m\u001b[1;33m.\u001b[0m\u001b[0mfit\u001b[0m\u001b[1;33m(\u001b[0m\u001b[0mX_train_1\u001b[0m\u001b[1;33m,\u001b[0m \u001b[0my_train_1\u001b[0m\u001b[1;33m,\u001b[0m \u001b[0mepochs\u001b[0m\u001b[1;33m=\u001b[0m\u001b[0mepochs\u001b[0m\u001b[1;33m,\u001b[0m \u001b[0mbatch_size\u001b[0m \u001b[1;33m=\u001b[0m \u001b[0mbatch_size\u001b[0m\u001b[1;33m,\u001b[0m \u001b[0mvalidation_split\u001b[0m\u001b[1;33m=\u001b[0m\u001b[1;36m0.2\u001b[0m\u001b[1;33m,\u001b[0m \u001b[0mshuffle\u001b[0m\u001b[1;33m=\u001b[0m\u001b[1;32mTrue\u001b[0m\u001b[1;33m)\u001b[0m\u001b[1;33m\u001b[0m\u001b[1;33m\u001b[0m\u001b[0m\n\u001b[0m",
      "\u001b[1;32m~\\AppData\\Local\\Continuum\\anaconda3\\envs\\tensorflow\\lib\\site-packages\\tensorflow_core\\python\\keras\\engine\\training.py\u001b[0m in \u001b[0;36mfit\u001b[1;34m(self, x, y, batch_size, epochs, verbose, callbacks, validation_split, validation_data, shuffle, class_weight, sample_weight, initial_epoch, steps_per_epoch, validation_steps, validation_freq, max_queue_size, workers, use_multiprocessing, **kwargs)\u001b[0m\n\u001b[0;32m    817\u001b[0m         \u001b[0mmax_queue_size\u001b[0m\u001b[1;33m=\u001b[0m\u001b[0mmax_queue_size\u001b[0m\u001b[1;33m,\u001b[0m\u001b[1;33m\u001b[0m\u001b[1;33m\u001b[0m\u001b[0m\n\u001b[0;32m    818\u001b[0m         \u001b[0mworkers\u001b[0m\u001b[1;33m=\u001b[0m\u001b[0mworkers\u001b[0m\u001b[1;33m,\u001b[0m\u001b[1;33m\u001b[0m\u001b[1;33m\u001b[0m\u001b[0m\n\u001b[1;32m--> 819\u001b[1;33m         use_multiprocessing=use_multiprocessing)\n\u001b[0m\u001b[0;32m    820\u001b[0m \u001b[1;33m\u001b[0m\u001b[0m\n\u001b[0;32m    821\u001b[0m   def evaluate(self,\n",
      "\u001b[1;32m~\\AppData\\Local\\Continuum\\anaconda3\\envs\\tensorflow\\lib\\site-packages\\tensorflow_core\\python\\keras\\engine\\training_v2.py\u001b[0m in \u001b[0;36mfit\u001b[1;34m(self, model, x, y, batch_size, epochs, verbose, callbacks, validation_split, validation_data, shuffle, class_weight, sample_weight, initial_epoch, steps_per_epoch, validation_steps, validation_freq, max_queue_size, workers, use_multiprocessing, **kwargs)\u001b[0m\n\u001b[0;32m    340\u001b[0m                 \u001b[0mmode\u001b[0m\u001b[1;33m=\u001b[0m\u001b[0mModeKeys\u001b[0m\u001b[1;33m.\u001b[0m\u001b[0mTRAIN\u001b[0m\u001b[1;33m,\u001b[0m\u001b[1;33m\u001b[0m\u001b[1;33m\u001b[0m\u001b[0m\n\u001b[0;32m    341\u001b[0m                 \u001b[0mtraining_context\u001b[0m\u001b[1;33m=\u001b[0m\u001b[0mtraining_context\u001b[0m\u001b[1;33m,\u001b[0m\u001b[1;33m\u001b[0m\u001b[1;33m\u001b[0m\u001b[0m\n\u001b[1;32m--> 342\u001b[1;33m                 total_epochs=epochs)\n\u001b[0m\u001b[0;32m    343\u001b[0m             \u001b[0mcbks\u001b[0m\u001b[1;33m.\u001b[0m\u001b[0mmake_logs\u001b[0m\u001b[1;33m(\u001b[0m\u001b[0mmodel\u001b[0m\u001b[1;33m,\u001b[0m \u001b[0mepoch_logs\u001b[0m\u001b[1;33m,\u001b[0m \u001b[0mtraining_result\u001b[0m\u001b[1;33m,\u001b[0m \u001b[0mModeKeys\u001b[0m\u001b[1;33m.\u001b[0m\u001b[0mTRAIN\u001b[0m\u001b[1;33m)\u001b[0m\u001b[1;33m\u001b[0m\u001b[1;33m\u001b[0m\u001b[0m\n\u001b[0;32m    344\u001b[0m \u001b[1;33m\u001b[0m\u001b[0m\n",
      "\u001b[1;32m~\\AppData\\Local\\Continuum\\anaconda3\\envs\\tensorflow\\lib\\site-packages\\tensorflow_core\\python\\keras\\engine\\training_v2.py\u001b[0m in \u001b[0;36mrun_one_epoch\u001b[1;34m(model, iterator, execution_function, dataset_size, batch_size, strategy, steps_per_epoch, num_samples, mode, training_context, total_epochs)\u001b[0m\n\u001b[0;32m    126\u001b[0m         step=step, mode=mode, size=current_batch_size) as batch_logs:\n\u001b[0;32m    127\u001b[0m       \u001b[1;32mtry\u001b[0m\u001b[1;33m:\u001b[0m\u001b[1;33m\u001b[0m\u001b[1;33m\u001b[0m\u001b[0m\n\u001b[1;32m--> 128\u001b[1;33m         \u001b[0mbatch_outs\u001b[0m \u001b[1;33m=\u001b[0m \u001b[0mexecution_function\u001b[0m\u001b[1;33m(\u001b[0m\u001b[0miterator\u001b[0m\u001b[1;33m)\u001b[0m\u001b[1;33m\u001b[0m\u001b[1;33m\u001b[0m\u001b[0m\n\u001b[0m\u001b[0;32m    129\u001b[0m       \u001b[1;32mexcept\u001b[0m \u001b[1;33m(\u001b[0m\u001b[0mStopIteration\u001b[0m\u001b[1;33m,\u001b[0m \u001b[0merrors\u001b[0m\u001b[1;33m.\u001b[0m\u001b[0mOutOfRangeError\u001b[0m\u001b[1;33m)\u001b[0m\u001b[1;33m:\u001b[0m\u001b[1;33m\u001b[0m\u001b[1;33m\u001b[0m\u001b[0m\n\u001b[0;32m    130\u001b[0m         \u001b[1;31m# TODO(kaftan): File bug about tf function and errors.OutOfRangeError?\u001b[0m\u001b[1;33m\u001b[0m\u001b[1;33m\u001b[0m\u001b[1;33m\u001b[0m\u001b[0m\n",
      "\u001b[1;32m~\\AppData\\Local\\Continuum\\anaconda3\\envs\\tensorflow\\lib\\site-packages\\tensorflow_core\\python\\keras\\engine\\training_v2_utils.py\u001b[0m in \u001b[0;36mexecution_function\u001b[1;34m(input_fn)\u001b[0m\n\u001b[0;32m     96\u001b[0m     \u001b[1;31m# `numpy` translates Tensors to values in Eager mode.\u001b[0m\u001b[1;33m\u001b[0m\u001b[1;33m\u001b[0m\u001b[1;33m\u001b[0m\u001b[0m\n\u001b[0;32m     97\u001b[0m     return nest.map_structure(_non_none_constant_value,\n\u001b[1;32m---> 98\u001b[1;33m                               distributed_function(input_fn))\n\u001b[0m\u001b[0;32m     99\u001b[0m \u001b[1;33m\u001b[0m\u001b[0m\n\u001b[0;32m    100\u001b[0m   \u001b[1;32mreturn\u001b[0m \u001b[0mexecution_function\u001b[0m\u001b[1;33m\u001b[0m\u001b[1;33m\u001b[0m\u001b[0m\n",
      "\u001b[1;32m~\\AppData\\Local\\Continuum\\anaconda3\\envs\\tensorflow\\lib\\site-packages\\tensorflow_core\\python\\eager\\def_function.py\u001b[0m in \u001b[0;36m__call__\u001b[1;34m(self, *args, **kwds)\u001b[0m\n\u001b[0;32m    566\u001b[0m         \u001b[0mxla_context\u001b[0m\u001b[1;33m.\u001b[0m\u001b[0mExit\u001b[0m\u001b[1;33m(\u001b[0m\u001b[1;33m)\u001b[0m\u001b[1;33m\u001b[0m\u001b[1;33m\u001b[0m\u001b[0m\n\u001b[0;32m    567\u001b[0m     \u001b[1;32melse\u001b[0m\u001b[1;33m:\u001b[0m\u001b[1;33m\u001b[0m\u001b[1;33m\u001b[0m\u001b[0m\n\u001b[1;32m--> 568\u001b[1;33m       \u001b[0mresult\u001b[0m \u001b[1;33m=\u001b[0m \u001b[0mself\u001b[0m\u001b[1;33m.\u001b[0m\u001b[0m_call\u001b[0m\u001b[1;33m(\u001b[0m\u001b[1;33m*\u001b[0m\u001b[0margs\u001b[0m\u001b[1;33m,\u001b[0m \u001b[1;33m**\u001b[0m\u001b[0mkwds\u001b[0m\u001b[1;33m)\u001b[0m\u001b[1;33m\u001b[0m\u001b[1;33m\u001b[0m\u001b[0m\n\u001b[0m\u001b[0;32m    569\u001b[0m \u001b[1;33m\u001b[0m\u001b[0m\n\u001b[0;32m    570\u001b[0m     \u001b[1;32mif\u001b[0m \u001b[0mtracing_count\u001b[0m \u001b[1;33m==\u001b[0m \u001b[0mself\u001b[0m\u001b[1;33m.\u001b[0m\u001b[0m_get_tracing_count\u001b[0m\u001b[1;33m(\u001b[0m\u001b[1;33m)\u001b[0m\u001b[1;33m:\u001b[0m\u001b[1;33m\u001b[0m\u001b[1;33m\u001b[0m\u001b[0m\n",
      "\u001b[1;32m~\\AppData\\Local\\Continuum\\anaconda3\\envs\\tensorflow\\lib\\site-packages\\tensorflow_core\\python\\eager\\def_function.py\u001b[0m in \u001b[0;36m_call\u001b[1;34m(self, *args, **kwds)\u001b[0m\n\u001b[0;32m    597\u001b[0m       \u001b[1;31m# In this case we have created variables on the first call, so we run the\u001b[0m\u001b[1;33m\u001b[0m\u001b[1;33m\u001b[0m\u001b[1;33m\u001b[0m\u001b[0m\n\u001b[0;32m    598\u001b[0m       \u001b[1;31m# defunned version which is guaranteed to never create variables.\u001b[0m\u001b[1;33m\u001b[0m\u001b[1;33m\u001b[0m\u001b[1;33m\u001b[0m\u001b[0m\n\u001b[1;32m--> 599\u001b[1;33m       \u001b[1;32mreturn\u001b[0m \u001b[0mself\u001b[0m\u001b[1;33m.\u001b[0m\u001b[0m_stateless_fn\u001b[0m\u001b[1;33m(\u001b[0m\u001b[1;33m*\u001b[0m\u001b[0margs\u001b[0m\u001b[1;33m,\u001b[0m \u001b[1;33m**\u001b[0m\u001b[0mkwds\u001b[0m\u001b[1;33m)\u001b[0m  \u001b[1;31m# pylint: disable=not-callable\u001b[0m\u001b[1;33m\u001b[0m\u001b[1;33m\u001b[0m\u001b[0m\n\u001b[0m\u001b[0;32m    600\u001b[0m     \u001b[1;32melif\u001b[0m \u001b[0mself\u001b[0m\u001b[1;33m.\u001b[0m\u001b[0m_stateful_fn\u001b[0m \u001b[1;32mis\u001b[0m \u001b[1;32mnot\u001b[0m \u001b[1;32mNone\u001b[0m\u001b[1;33m:\u001b[0m\u001b[1;33m\u001b[0m\u001b[1;33m\u001b[0m\u001b[0m\n\u001b[0;32m    601\u001b[0m       \u001b[1;31m# Release the lock early so that multiple threads can perform the call\u001b[0m\u001b[1;33m\u001b[0m\u001b[1;33m\u001b[0m\u001b[1;33m\u001b[0m\u001b[0m\n",
      "\u001b[1;32m~\\AppData\\Local\\Continuum\\anaconda3\\envs\\tensorflow\\lib\\site-packages\\tensorflow_core\\python\\eager\\function.py\u001b[0m in \u001b[0;36m__call__\u001b[1;34m(self, *args, **kwargs)\u001b[0m\n\u001b[0;32m   2361\u001b[0m     \u001b[1;32mwith\u001b[0m \u001b[0mself\u001b[0m\u001b[1;33m.\u001b[0m\u001b[0m_lock\u001b[0m\u001b[1;33m:\u001b[0m\u001b[1;33m\u001b[0m\u001b[1;33m\u001b[0m\u001b[0m\n\u001b[0;32m   2362\u001b[0m       \u001b[0mgraph_function\u001b[0m\u001b[1;33m,\u001b[0m \u001b[0margs\u001b[0m\u001b[1;33m,\u001b[0m \u001b[0mkwargs\u001b[0m \u001b[1;33m=\u001b[0m \u001b[0mself\u001b[0m\u001b[1;33m.\u001b[0m\u001b[0m_maybe_define_function\u001b[0m\u001b[1;33m(\u001b[0m\u001b[0margs\u001b[0m\u001b[1;33m,\u001b[0m \u001b[0mkwargs\u001b[0m\u001b[1;33m)\u001b[0m\u001b[1;33m\u001b[0m\u001b[1;33m\u001b[0m\u001b[0m\n\u001b[1;32m-> 2363\u001b[1;33m     \u001b[1;32mreturn\u001b[0m \u001b[0mgraph_function\u001b[0m\u001b[1;33m.\u001b[0m\u001b[0m_filtered_call\u001b[0m\u001b[1;33m(\u001b[0m\u001b[0margs\u001b[0m\u001b[1;33m,\u001b[0m \u001b[0mkwargs\u001b[0m\u001b[1;33m)\u001b[0m  \u001b[1;31m# pylint: disable=protected-access\u001b[0m\u001b[1;33m\u001b[0m\u001b[1;33m\u001b[0m\u001b[0m\n\u001b[0m\u001b[0;32m   2364\u001b[0m \u001b[1;33m\u001b[0m\u001b[0m\n\u001b[0;32m   2365\u001b[0m   \u001b[1;33m@\u001b[0m\u001b[0mproperty\u001b[0m\u001b[1;33m\u001b[0m\u001b[1;33m\u001b[0m\u001b[0m\n",
      "\u001b[1;32m~\\AppData\\Local\\Continuum\\anaconda3\\envs\\tensorflow\\lib\\site-packages\\tensorflow_core\\python\\eager\\function.py\u001b[0m in \u001b[0;36m_filtered_call\u001b[1;34m(self, args, kwargs)\u001b[0m\n\u001b[0;32m   1609\u001b[0m          if isinstance(t, (ops.Tensor,\n\u001b[0;32m   1610\u001b[0m                            resource_variable_ops.BaseResourceVariable))),\n\u001b[1;32m-> 1611\u001b[1;33m         self.captured_inputs)\n\u001b[0m\u001b[0;32m   1612\u001b[0m \u001b[1;33m\u001b[0m\u001b[0m\n\u001b[0;32m   1613\u001b[0m   \u001b[1;32mdef\u001b[0m \u001b[0m_call_flat\u001b[0m\u001b[1;33m(\u001b[0m\u001b[0mself\u001b[0m\u001b[1;33m,\u001b[0m \u001b[0margs\u001b[0m\u001b[1;33m,\u001b[0m \u001b[0mcaptured_inputs\u001b[0m\u001b[1;33m,\u001b[0m \u001b[0mcancellation_manager\u001b[0m\u001b[1;33m=\u001b[0m\u001b[1;32mNone\u001b[0m\u001b[1;33m)\u001b[0m\u001b[1;33m:\u001b[0m\u001b[1;33m\u001b[0m\u001b[1;33m\u001b[0m\u001b[0m\n",
      "\u001b[1;32m~\\AppData\\Local\\Continuum\\anaconda3\\envs\\tensorflow\\lib\\site-packages\\tensorflow_core\\python\\eager\\function.py\u001b[0m in \u001b[0;36m_call_flat\u001b[1;34m(self, args, captured_inputs, cancellation_manager)\u001b[0m\n\u001b[0;32m   1690\u001b[0m       \u001b[1;31m# No tape is watching; skip to running the function.\u001b[0m\u001b[1;33m\u001b[0m\u001b[1;33m\u001b[0m\u001b[1;33m\u001b[0m\u001b[0m\n\u001b[0;32m   1691\u001b[0m       return self._build_call_outputs(self._inference_function.call(\n\u001b[1;32m-> 1692\u001b[1;33m           ctx, args, cancellation_manager=cancellation_manager))\n\u001b[0m\u001b[0;32m   1693\u001b[0m     forward_backward = self._select_forward_and_backward_functions(\n\u001b[0;32m   1694\u001b[0m         \u001b[0margs\u001b[0m\u001b[1;33m,\u001b[0m\u001b[1;33m\u001b[0m\u001b[1;33m\u001b[0m\u001b[0m\n",
      "\u001b[1;32m~\\AppData\\Local\\Continuum\\anaconda3\\envs\\tensorflow\\lib\\site-packages\\tensorflow_core\\python\\eager\\function.py\u001b[0m in \u001b[0;36mcall\u001b[1;34m(self, ctx, args, cancellation_manager)\u001b[0m\n\u001b[0;32m    543\u001b[0m               \u001b[0minputs\u001b[0m\u001b[1;33m=\u001b[0m\u001b[0margs\u001b[0m\u001b[1;33m,\u001b[0m\u001b[1;33m\u001b[0m\u001b[1;33m\u001b[0m\u001b[0m\n\u001b[0;32m    544\u001b[0m               \u001b[0mattrs\u001b[0m\u001b[1;33m=\u001b[0m\u001b[1;33m(\u001b[0m\u001b[1;34m\"executor_type\"\u001b[0m\u001b[1;33m,\u001b[0m \u001b[0mexecutor_type\u001b[0m\u001b[1;33m,\u001b[0m \u001b[1;34m\"config_proto\"\u001b[0m\u001b[1;33m,\u001b[0m \u001b[0mconfig\u001b[0m\u001b[1;33m)\u001b[0m\u001b[1;33m,\u001b[0m\u001b[1;33m\u001b[0m\u001b[1;33m\u001b[0m\u001b[0m\n\u001b[1;32m--> 545\u001b[1;33m               ctx=ctx)\n\u001b[0m\u001b[0;32m    546\u001b[0m         \u001b[1;32melse\u001b[0m\u001b[1;33m:\u001b[0m\u001b[1;33m\u001b[0m\u001b[1;33m\u001b[0m\u001b[0m\n\u001b[0;32m    547\u001b[0m           outputs = execute.execute_with_cancellation(\n",
      "\u001b[1;32m~\\AppData\\Local\\Continuum\\anaconda3\\envs\\tensorflow\\lib\\site-packages\\tensorflow_core\\python\\eager\\execute.py\u001b[0m in \u001b[0;36mquick_execute\u001b[1;34m(op_name, num_outputs, inputs, attrs, ctx, name)\u001b[0m\n\u001b[0;32m     59\u001b[0m     tensors = pywrap_tensorflow.TFE_Py_Execute(ctx._handle, device_name,\n\u001b[0;32m     60\u001b[0m                                                \u001b[0mop_name\u001b[0m\u001b[1;33m,\u001b[0m \u001b[0minputs\u001b[0m\u001b[1;33m,\u001b[0m \u001b[0mattrs\u001b[0m\u001b[1;33m,\u001b[0m\u001b[1;33m\u001b[0m\u001b[1;33m\u001b[0m\u001b[0m\n\u001b[1;32m---> 61\u001b[1;33m                                                num_outputs)\n\u001b[0m\u001b[0;32m     62\u001b[0m   \u001b[1;32mexcept\u001b[0m \u001b[0mcore\u001b[0m\u001b[1;33m.\u001b[0m\u001b[0m_NotOkStatusException\u001b[0m \u001b[1;32mas\u001b[0m \u001b[0me\u001b[0m\u001b[1;33m:\u001b[0m\u001b[1;33m\u001b[0m\u001b[1;33m\u001b[0m\u001b[0m\n\u001b[0;32m     63\u001b[0m     \u001b[1;32mif\u001b[0m \u001b[0mname\u001b[0m \u001b[1;32mis\u001b[0m \u001b[1;32mnot\u001b[0m \u001b[1;32mNone\u001b[0m\u001b[1;33m:\u001b[0m\u001b[1;33m\u001b[0m\u001b[1;33m\u001b[0m\u001b[0m\n",
      "\u001b[1;31mKeyboardInterrupt\u001b[0m: "
     ]
    }
   ],
   "source": [
    "epochs = 20\n",
    "batch_size = 512\n",
    "model = build_model()\n",
    "model.fit(X_train_1, y_train_1, epochs=epochs, batch_size = batch_size, validation_split=0.2, shuffle=True)"
   ]
  },
  {
   "cell_type": "code",
   "execution_count": 218,
   "metadata": {
    "scrolled": true
   },
   "outputs": [
    {
     "data": {
      "text/plain": [
       "140.11541178951703"
      ]
     },
     "execution_count": 218,
     "metadata": {},
     "output_type": "execute_result"
    }
   ],
   "source": [
    "np.abs( model.predict(X_test).squeeze() - y_test ).mean()"
   ]
  },
  {
   "cell_type": "markdown",
   "metadata": {},
   "source": [
    "## Reinforced Random Forest"
   ]
  },
  {
   "cell_type": "code",
   "execution_count": 241,
   "metadata": {},
   "outputs": [],
   "source": [
    "def get_secondary_y(X, y, regr):\n",
    "    \"\"\"\n",
    "        get the difference between the predict of the regr on X and y\n",
    "    \"\"\"\n",
    "    return y - np.clip(regr.predict(X).squeeze(), 0, 10**7)"
   ]
  },
  {
   "cell_type": "code",
   "execution_count": 249,
   "metadata": {},
   "outputs": [
    {
     "data": {
      "text/plain": [
       "(665777, 21)"
      ]
     },
     "execution_count": 249,
     "metadata": {},
     "output_type": "execute_result"
    }
   ],
   "source": [
    "X.shape"
   ]
  },
  {
   "cell_type": "code",
   "execution_count": 182,
   "metadata": {},
   "outputs": [
    {
     "data": {
      "text/plain": [
       "(265509, 21)"
      ]
     },
     "execution_count": 182,
     "metadata": {},
     "output_type": "execute_result"
    }
   ],
   "source": [
    "X_train_1.shape"
   ]
  },
  {
   "cell_type": "code",
   "execution_count": 242,
   "metadata": {},
   "outputs": [],
   "source": [
    "y_secondary = get_secondary_y(X_train_1, y_train_1, regr_zoo[2])"
   ]
  },
  {
   "cell_type": "code",
   "execution_count": 250,
   "metadata": {},
   "outputs": [
    {
     "data": {
      "text/plain": [
       "(array([   249.,    390.,    606.,   1322.,  74961., 135033.,  11345.,\n",
       "          5964.,   3940.,   2862.]),\n",
       " array([-9.99849854e+01, -7.99890877e+01, -5.99931900e+01, -3.99972923e+01,\n",
       "        -2.00013947e+01, -5.49697876e-03,  1.99904007e+01,  3.99862984e+01,\n",
       "         5.99821960e+01,  7.99780937e+01,  9.99739914e+01]),\n",
       " <a list of 10 Patch objects>)"
      ]
     },
     "execution_count": 250,
     "metadata": {},
     "output_type": "execute_result"
    },
    {
     "data": {
      "image/png": "[encoded data removed]",
      "text/plain": [
       "<Figure size 432x288 with 1 Axes>"
      ]
     },
     "metadata": {
      "needs_background": "light"
     },
     "output_type": "display_data"
    }
   ],
   "source": [
    "plt.hist(y_secondary[ np.abs(y_secondary) < 100])"
   ]
  },
  {
   "cell_type": "code",
   "execution_count": 253,
   "metadata": {
    "scrolled": true
   },
   "outputs": [
    {
     "data": {
      "text/plain": [
       "(257572,)"
      ]
     },
     "execution_count": 253,
     "metadata": {},
     "output_type": "execute_result"
    }
   ],
   "source": [
    "y_secondary[ np.abs(y_secondary) < 1000].shape"
   ]
  },
  {
   "cell_type": "code",
   "execution_count": 254,
   "metadata": {},
   "outputs": [
    {
     "data": {
      "text/plain": [
       "(655525,)"
      ]
     },
     "execution_count": 254,
     "metadata": {},
     "output_type": "execute_result"
    }
   ],
   "source": [
    "y[y<1000].shape"
   ]
  },
  {
   "cell_type": "code",
   "execution_count": 255,
   "metadata": {},
   "outputs": [
    {
     "data": {
      "text/plain": [
       "(665777,)"
      ]
     },
     "execution_count": 255,
     "metadata": {},
     "output_type": "execute_result"
    }
   ],
   "source": [
    "y.shape"
   ]
  },
  {
   "cell_type": "code",
   "execution_count": 252,
   "metadata": {},
   "outputs": [
    {
     "data": {
      "text/plain": [
       "(265509,)"
      ]
     },
     "execution_count": 252,
     "metadata": {},
     "output_type": "execute_result"
    }
   ],
   "source": [
    "y_secondary.shape"
   ]
  },
  {
   "cell_type": "markdown",
   "metadata": {},
   "source": [
    "96 % examples' absolute values are below 1000. Good"
   ]
  },
  {
   "cell_type": "code",
   "execution_count": 228,
   "metadata": {},
   "outputs": [],
   "source": [
    "regr_zoo[2] = model"
   ]
  },
  {
   "cell_type": "markdown",
   "metadata": {},
   "source": [
    "### Secondary regressor: linear Regression"
   ]
  },
  {
   "cell_type": "code",
   "execution_count": 203,
   "metadata": {},
   "outputs": [
    {
     "data": {
      "text/plain": [
       "407.005306585776"
      ]
     },
     "execution_count": 203,
     "metadata": {},
     "output_type": "execute_result"
    }
   ],
   "source": [
    "np.abs(y_secondary).mean()"
   ]
  },
  {
   "cell_type": "code",
   "execution_count": 201,
   "metadata": {},
   "outputs": [
    {
     "data": {
      "text/plain": [
       "432.19795526993767"
      ]
     },
     "execution_count": 201,
     "metadata": {},
     "output_type": "execute_result"
    }
   ],
   "source": [
    "np.abs(regr.predict(X_train_1) - y_secondary).mean()"
   ]
  },
  {
   "cell_type": "code",
   "execution_count": 196,
   "metadata": {},
   "outputs": [],
   "source": [
    "regr = LinearRegression().fit(X_train_1, y_secondary)"
   ]
  },
  {
   "cell_type": "markdown",
   "metadata": {},
   "source": [
    "Worse than we don't have it"
   ]
  },
  {
   "cell_type": "markdown",
   "metadata": {},
   "source": [
    "### Secondary regressor: Deep Learning"
   ]
  },
  {
   "cell_type": "code",
   "execution_count": null,
   "metadata": {},
   "outputs": [],
   "source": []
  },
  {
   "cell_type": "code",
   "execution_count": null,
   "metadata": {},
   "outputs": [],
   "source": []
  },
  {
   "cell_type": "markdown",
   "metadata": {},
   "source": [
    "## Observe the prediction"
   ]
  },
  {
   "cell_type": "code",
   "execution_count": 149,
   "metadata": {},
   "outputs": [
    {
     "data": {
      "text/plain": [
       "30.0"
      ]
     },
     "execution_count": 149,
     "metadata": {},
     "output_type": "execute_result"
    }
   ],
   "source": [
    "y_predict.max()"
   ]
  },
  {
   "cell_type": "code",
   "execution_count": 150,
   "metadata": {},
   "outputs": [
    {
     "data": {
      "text/plain": [
       "0.0"
      ]
     },
     "execution_count": 150,
     "metadata": {},
     "output_type": "execute_result"
    }
   ],
   "source": [
    "y_predict.min()"
   ]
  },
  {
   "cell_type": "code",
   "execution_count": 151,
   "metadata": {},
   "outputs": [
    {
     "ename": "ValueError",
     "evalue": "operands could not be broadcast together with shapes (10000,) (665777,) ",
     "output_type": "error",
     "traceback": [
      "\u001b[1;31m---------------------------------------------------------------------------\u001b[0m",
      "\u001b[1;31mValueError\u001b[0m                                Traceback (most recent call last)",
      "\u001b[1;32m<ipython-input-151-5c3780856bf9>\u001b[0m in \u001b[0;36m<module>\u001b[1;34m\u001b[0m\n\u001b[1;32m----> 1\u001b[1;33m \u001b[0mnp\u001b[0m\u001b[1;33m.\u001b[0m\u001b[0mabs\u001b[0m\u001b[1;33m(\u001b[0m\u001b[0my_predict\u001b[0m \u001b[1;33m-\u001b[0m \u001b[0my\u001b[0m\u001b[1;33m)\u001b[0m\u001b[1;33m.\u001b[0m\u001b[0mmean\u001b[0m\u001b[1;33m(\u001b[0m\u001b[1;33m)\u001b[0m\u001b[1;33m\u001b[0m\u001b[1;33m\u001b[0m\u001b[0m\n\u001b[0m",
      "\u001b[1;31mValueError\u001b[0m: operands could not be broadcast together with shapes (10000,) (665777,) "
     ]
    }
   ],
   "source": [
    "np.abs(y_predict - y).mean()"
   ]
  },
  {
   "cell_type": "code",
   "execution_count": 180,
   "metadata": {},
   "outputs": [
    {
     "data": {
      "text/plain": [
       "160.45703709220447"
      ]
     },
     "execution_count": 180,
     "metadata": {},
     "output_type": "execute_result"
    }
   ],
   "source": [
    "y_predict.mean()"
   ]
  },
  {
   "cell_type": "code",
   "execution_count": 182,
   "metadata": {
    "scrolled": true
   },
   "outputs": [
    {
     "data": {
      "text/plain": [
       "(array([6.22521e+05, 3.40450e+04, 2.99500e+03, 1.66900e+03, 9.17000e+02,\n",
       "        4.84000e+02, 5.71000e+02, 3.02000e+02, 2.10000e+02, 1.45000e+02,\n",
       "        1.25000e+02, 5.40000e+01, 1.10000e+01, 4.80000e+01, 3.60000e+01,\n",
       "        8.00000e+00, 8.00000e+00, 1.99000e+02, 2.56000e+02, 6.00000e+00,\n",
       "        7.00000e+00, 2.10000e+01, 9.30000e+01, 6.00000e+00, 5.00000e+00,\n",
       "        5.00000e+00, 0.00000e+00, 3.00000e+00, 9.00000e+00, 4.00000e+00,\n",
       "        1.07000e+02, 4.10000e+01, 9.00000e+00, 2.00000e+00, 0.00000e+00,\n",
       "        0.00000e+00, 1.00000e+00, 1.00000e+00, 0.00000e+00, 0.00000e+00,\n",
       "        0.00000e+00, 1.00000e+00, 3.00000e+00, 0.00000e+00, 5.00000e+00,\n",
       "        0.00000e+00, 0.00000e+00, 0.00000e+00, 1.60000e+01]),\n",
       " array([    0.        ,   422.94720774,   845.89441549,  1268.84162323,\n",
       "         1691.78883097,  2114.73603872,  2537.68324646,  2960.6304542 ,\n",
       "         3383.57766195,  3806.52486969,  4229.47207743,  4652.41928518,\n",
       "         5075.36649292,  5498.31370067,  5921.26090841,  6344.20811615,\n",
       "         6767.1553239 ,  7190.10253164,  7613.04973938,  8035.99694713,\n",
       "         8458.94415487,  8881.89136261,  9304.83857036,  9727.7857781 ,\n",
       "        10150.73298584, 10573.68019359, 10996.62740133, 11419.57460907,\n",
       "        11842.52181682, 12265.46902456, 12688.4162323 , 13111.36344005,\n",
       "        13534.31064779, 13957.25785553, 14380.20506328, 14803.15227102,\n",
       "        15226.09947877, 15649.04668651, 16071.99389425, 16494.941102  ,\n",
       "        16917.88830974, 17340.83551748, 17763.78272523, 18186.72993297,\n",
       "        18609.67714071, 19032.62434846, 19455.5715562 , 19878.51876394,\n",
       "        20301.46597169, 20724.41317943]),\n",
       " <a list of 49 Patch objects>)"
      ]
     },
     "execution_count": 182,
     "metadata": {},
     "output_type": "execute_result"
    },
    {
     "data": {
      "image/png": "[encoded data removed]",
      "text/plain": [
       "<Figure size 432x288 with 1 Axes>"
      ]
     },
     "metadata": {
      "needs_background": "light"
     },
     "output_type": "display_data"
    }
   ],
   "source": [
    "plt.hist(y_predict, bins=49)"
   ]
  },
  {
   "cell_type": "code",
   "execution_count": 183,
   "metadata": {},
   "outputs": [
    {
     "data": {
      "text/plain": [
       "array([ 91.34859026, -94.75043562, 388.61893765,  44.04919105,\n",
       "       -16.71411529, 262.77630995, 264.12108715,   7.51192508,\n",
       "       -16.21918482, -29.82701817, -18.83204253, -24.85805737,\n",
       "        83.52954733, -56.04407642,  -6.5297966 ,  -4.91947558])"
      ]
     },
     "execution_count": 183,
     "metadata": {},
     "output_type": "execute_result"
    }
   ],
   "source": [
    "regr.coef_"
   ]
  },
  {
   "cell_type": "code",
   "execution_count": 395,
   "metadata": {},
   "outputs": [],
   "source": [
    "def build_model():\n",
    "    \n",
    "    lr_schedule = tf.keras.optimizers.schedules.ExponentialDecay(\n",
    "        initial_learning_rate=1e-3,\n",
    "        decay_steps=10000,\n",
    "        decay_rate=0.95)\n",
    "    optimizer = tf.keras.optimizers.RMSprop(learning_rate=lr_schedule)\n",
    "    \n",
    "    model = tf.keras.Sequential()\n",
    "    model.add(tf.keras.layers.BatchNormalization())\n",
    "    model.add(tf.keras.layers.Dense(256, activation='relu'))\n",
    "    model.add(tf.keras.layers.Dense(256, activation='relu'))\n",
    "    model.add(tf.keras.layers.Dense(256, activation='relu'))\n",
    "    model.add(tf.keras.layers.Dense(256, activation='relu'))\n",
    "    model.add(tf.keras.layers.Dense(256, activation='relu'))\n",
    "    model.add(tf.keras.layers.Dense(256, activation='relu'))\n",
    "    model.add(tf.keras.layers.Dense(1, 'relu'))\n",
    "    \n",
    "    model.compile(loss=\"mse\", optimizer=optimizer, metrics=[\"mae\"])\n",
    "#     model.summary()\n",
    "    return model"
   ]
  },
  {
   "cell_type": "code",
   "execution_count": 388,
   "metadata": {},
   "outputs": [
    {
     "data": {
      "text/plain": [
       "(8114,)"
      ]
     },
     "execution_count": 388,
     "metadata": {},
     "output_type": "execute_result"
    }
   ],
   "source": [
    "y_train.shape"
   ]
  },
  {
   "cell_type": "code",
   "execution_count": 398,
   "metadata": {},
   "outputs": [
    {
     "data": {
      "text/plain": [
       "array([ 1647.,  1767.,  8581.,  4273.,  1014.,  5650.,  9704.,  1342.,\n",
       "        1263.,  4873.,  6107.,  2340., 35745.,  5011.,  2288.,  1121.,\n",
       "        5846.,  4910., 16964.,  4822.,  1938.,  5387.,  3279.,  2789.,\n",
       "        4917.,  3407.,  2457.,  1555.,  2545.,  7901., 12308.,  4434.,\n",
       "        1670.,  1481.,  2500.,  1778.,  3020.,  1589.,  1474.,  7122.,\n",
       "       13509., 30635.,  1084., 17341.,  2762.,  1063.,  2384.,  1034.,\n",
       "        1026., 11042.,  1454.,  1259.,  4647.,  6878.,  1293.,  1595.,\n",
       "        4191.,  1221.,  2608.,  1049.,  1784.,  3286.,  1887.,  2433.,\n",
       "        8245.,  1956.,  2333.,  7230., 14286.,  4724.,  4123., 18770.,\n",
       "       16629.,  1696.,  1086.,  2140.,  4399.,  3035., 10708.,  1865.,\n",
       "        3868.,  8027.,  9972.,  7223.,  2163.,  1212.,  3116., 13196.,\n",
       "        1173.,  3088.,  3339.,  2958.,  1913.,  1662.,  1060.,  1128.,\n",
       "        7320.,  4499.,  3405.,  1497.])"
      ]
     },
     "execution_count": 398,
     "metadata": {},
     "output_type": "execute_result"
    }
   ],
   "source": [
    "y_train[:100]"
   ]
  },
  {
   "cell_type": "code",
   "execution_count": 397,
   "metadata": {
    "scrolled": true
   },
   "outputs": [
    {
     "name": "stdout",
     "output_type": "stream",
     "text": [
      "number of samples  8114\n",
      "Train on 6491 samples, validate on 1623 samples\n",
      "Epoch 1/20\n",
      "6491/6491 [==============================] - 1s 206us/sample - loss: 532852645.7729 - mae: 8097.6880 - val_loss: 549426300.6285 - val_mae: 11397.0547\n",
      "Epoch 2/20\n",
      "6491/6491 [==============================] - 0s 26us/sample - loss: 503712518.3793 - mae: 8191.8618 - val_loss: 526856371.8546 - val_mae: 8933.3994\n",
      "Epoch 3/20\n",
      "6491/6491 [==============================] - 0s 26us/sample - loss: 501788697.7255 - mae: 8176.4209 - val_loss: 525298414.1762 - val_mae: 8482.9307\n",
      "Epoch 4/20\n",
      "6491/6491 [==============================] - 0s 26us/sample - loss: 501514196.7648 - mae: 8024.3525 - val_loss: 549978972.6087 - val_mae: 11903.4883\n",
      "Epoch 5/20\n",
      "6491/6491 [==============================] - 0s 25us/sample - loss: 499303160.0333 - mae: 8132.1084 - val_loss: 522806920.5767 - val_mae: 8620.9727\n",
      "Epoch 6/20\n",
      "5120/6491 [======================>.......] - ETA: 0s - loss: 542327694.7368 - mae: 8026.1812"
     ]
    },
    {
     "ename": "KeyboardInterrupt",
     "evalue": "",
     "output_type": "error",
     "traceback": [
      "\u001b[1;31m---------------------------------------------------------------------------\u001b[0m",
      "\u001b[1;31mKeyboardInterrupt\u001b[0m                         Traceback (most recent call last)",
      "\u001b[1;32m<ipython-input-397-d441d2148e8c>\u001b[0m in \u001b[0;36m<module>\u001b[1;34m\u001b[0m\n\u001b[0;32m      3\u001b[0m \u001b[0mmodel\u001b[0m \u001b[1;33m=\u001b[0m \u001b[0mbuild_model\u001b[0m\u001b[1;33m(\u001b[0m\u001b[1;33m)\u001b[0m\u001b[1;33m\u001b[0m\u001b[1;33m\u001b[0m\u001b[0m\n\u001b[0;32m      4\u001b[0m \u001b[0mX_train\u001b[0m\u001b[1;33m,\u001b[0m \u001b[0my_train\u001b[0m \u001b[1;33m=\u001b[0m \u001b[0mget_train_data_regr\u001b[0m\u001b[1;33m(\u001b[0m\u001b[1;36m2\u001b[0m\u001b[1;33m)\u001b[0m\u001b[1;33m\u001b[0m\u001b[1;33m\u001b[0m\u001b[0m\n\u001b[1;32m----> 5\u001b[1;33m \u001b[0mmodel\u001b[0m\u001b[1;33m.\u001b[0m\u001b[0mfit\u001b[0m\u001b[1;33m(\u001b[0m\u001b[0mX_train\u001b[0m\u001b[1;33m,\u001b[0m \u001b[0my_train\u001b[0m\u001b[1;33m,\u001b[0m \u001b[0mepochs\u001b[0m\u001b[1;33m=\u001b[0m\u001b[0mepochs\u001b[0m\u001b[1;33m,\u001b[0m \u001b[0mbatch_size\u001b[0m \u001b[1;33m=\u001b[0m \u001b[0mbatch_size\u001b[0m\u001b[1;33m,\u001b[0m \u001b[0mvalidation_split\u001b[0m\u001b[1;33m=\u001b[0m\u001b[1;36m0.2\u001b[0m\u001b[1;33m,\u001b[0m \u001b[0mshuffle\u001b[0m\u001b[1;33m=\u001b[0m\u001b[1;32mTrue\u001b[0m\u001b[1;33m)\u001b[0m\u001b[1;33m\u001b[0m\u001b[1;33m\u001b[0m\u001b[0m\n\u001b[0m",
      "\u001b[1;32m~\\AppData\\Local\\Continuum\\anaconda3\\envs\\tensorflow\\lib\\site-packages\\tensorflow_core\\python\\keras\\engine\\training.py\u001b[0m in \u001b[0;36mfit\u001b[1;34m(self, x, y, batch_size, epochs, verbose, callbacks, validation_split, validation_data, shuffle, class_weight, sample_weight, initial_epoch, steps_per_epoch, validation_steps, validation_freq, max_queue_size, workers, use_multiprocessing, **kwargs)\u001b[0m\n\u001b[0;32m    817\u001b[0m         \u001b[0mmax_queue_size\u001b[0m\u001b[1;33m=\u001b[0m\u001b[0mmax_queue_size\u001b[0m\u001b[1;33m,\u001b[0m\u001b[1;33m\u001b[0m\u001b[1;33m\u001b[0m\u001b[0m\n\u001b[0;32m    818\u001b[0m         \u001b[0mworkers\u001b[0m\u001b[1;33m=\u001b[0m\u001b[0mworkers\u001b[0m\u001b[1;33m,\u001b[0m\u001b[1;33m\u001b[0m\u001b[1;33m\u001b[0m\u001b[0m\n\u001b[1;32m--> 819\u001b[1;33m         use_multiprocessing=use_multiprocessing)\n\u001b[0m\u001b[0;32m    820\u001b[0m \u001b[1;33m\u001b[0m\u001b[0m\n\u001b[0;32m    821\u001b[0m   def evaluate(self,\n",
      "\u001b[1;32m~\\AppData\\Local\\Continuum\\anaconda3\\envs\\tensorflow\\lib\\site-packages\\tensorflow_core\\python\\keras\\engine\\training_v2.py\u001b[0m in \u001b[0;36mfit\u001b[1;34m(self, model, x, y, batch_size, epochs, verbose, callbacks, validation_split, validation_data, shuffle, class_weight, sample_weight, initial_epoch, steps_per_epoch, validation_steps, validation_freq, max_queue_size, workers, use_multiprocessing, **kwargs)\u001b[0m\n\u001b[0;32m    340\u001b[0m                 \u001b[0mmode\u001b[0m\u001b[1;33m=\u001b[0m\u001b[0mModeKeys\u001b[0m\u001b[1;33m.\u001b[0m\u001b[0mTRAIN\u001b[0m\u001b[1;33m,\u001b[0m\u001b[1;33m\u001b[0m\u001b[1;33m\u001b[0m\u001b[0m\n\u001b[0;32m    341\u001b[0m                 \u001b[0mtraining_context\u001b[0m\u001b[1;33m=\u001b[0m\u001b[0mtraining_context\u001b[0m\u001b[1;33m,\u001b[0m\u001b[1;33m\u001b[0m\u001b[1;33m\u001b[0m\u001b[0m\n\u001b[1;32m--> 342\u001b[1;33m                 total_epochs=epochs)\n\u001b[0m\u001b[0;32m    343\u001b[0m             \u001b[0mcbks\u001b[0m\u001b[1;33m.\u001b[0m\u001b[0mmake_logs\u001b[0m\u001b[1;33m(\u001b[0m\u001b[0mmodel\u001b[0m\u001b[1;33m,\u001b[0m \u001b[0mepoch_logs\u001b[0m\u001b[1;33m,\u001b[0m \u001b[0mtraining_result\u001b[0m\u001b[1;33m,\u001b[0m \u001b[0mModeKeys\u001b[0m\u001b[1;33m.\u001b[0m\u001b[0mTRAIN\u001b[0m\u001b[1;33m)\u001b[0m\u001b[1;33m\u001b[0m\u001b[1;33m\u001b[0m\u001b[0m\n\u001b[0;32m    344\u001b[0m \u001b[1;33m\u001b[0m\u001b[0m\n",
      "\u001b[1;32m~\\AppData\\Local\\Continuum\\anaconda3\\envs\\tensorflow\\lib\\site-packages\\tensorflow_core\\python\\keras\\engine\\training_v2.py\u001b[0m in \u001b[0;36mrun_one_epoch\u001b[1;34m(model, iterator, execution_function, dataset_size, batch_size, strategy, steps_per_epoch, num_samples, mode, training_context, total_epochs)\u001b[0m\n\u001b[0;32m    126\u001b[0m         step=step, mode=mode, size=current_batch_size) as batch_logs:\n\u001b[0;32m    127\u001b[0m       \u001b[1;32mtry\u001b[0m\u001b[1;33m:\u001b[0m\u001b[1;33m\u001b[0m\u001b[1;33m\u001b[0m\u001b[0m\n\u001b[1;32m--> 128\u001b[1;33m         \u001b[0mbatch_outs\u001b[0m \u001b[1;33m=\u001b[0m \u001b[0mexecution_function\u001b[0m\u001b[1;33m(\u001b[0m\u001b[0miterator\u001b[0m\u001b[1;33m)\u001b[0m\u001b[1;33m\u001b[0m\u001b[1;33m\u001b[0m\u001b[0m\n\u001b[0m\u001b[0;32m    129\u001b[0m       \u001b[1;32mexcept\u001b[0m \u001b[1;33m(\u001b[0m\u001b[0mStopIteration\u001b[0m\u001b[1;33m,\u001b[0m \u001b[0merrors\u001b[0m\u001b[1;33m.\u001b[0m\u001b[0mOutOfRangeError\u001b[0m\u001b[1;33m)\u001b[0m\u001b[1;33m:\u001b[0m\u001b[1;33m\u001b[0m\u001b[1;33m\u001b[0m\u001b[0m\n\u001b[0;32m    130\u001b[0m         \u001b[1;31m# TODO(kaftan): File bug about tf function and errors.OutOfRangeError?\u001b[0m\u001b[1;33m\u001b[0m\u001b[1;33m\u001b[0m\u001b[1;33m\u001b[0m\u001b[0m\n",
      "\u001b[1;32m~\\AppData\\Local\\Continuum\\anaconda3\\envs\\tensorflow\\lib\\site-packages\\tensorflow_core\\python\\keras\\engine\\training_v2_utils.py\u001b[0m in \u001b[0;36mexecution_function\u001b[1;34m(input_fn)\u001b[0m\n\u001b[0;32m     96\u001b[0m     \u001b[1;31m# `numpy` translates Tensors to values in Eager mode.\u001b[0m\u001b[1;33m\u001b[0m\u001b[1;33m\u001b[0m\u001b[1;33m\u001b[0m\u001b[0m\n\u001b[0;32m     97\u001b[0m     return nest.map_structure(_non_none_constant_value,\n\u001b[1;32m---> 98\u001b[1;33m                               distributed_function(input_fn))\n\u001b[0m\u001b[0;32m     99\u001b[0m \u001b[1;33m\u001b[0m\u001b[0m\n\u001b[0;32m    100\u001b[0m   \u001b[1;32mreturn\u001b[0m \u001b[0mexecution_function\u001b[0m\u001b[1;33m\u001b[0m\u001b[1;33m\u001b[0m\u001b[0m\n",
      "\u001b[1;32m~\\AppData\\Local\\Continuum\\anaconda3\\envs\\tensorflow\\lib\\site-packages\\tensorflow_core\\python\\eager\\def_function.py\u001b[0m in \u001b[0;36m__call__\u001b[1;34m(self, *args, **kwds)\u001b[0m\n\u001b[0;32m    566\u001b[0m         \u001b[0mxla_context\u001b[0m\u001b[1;33m.\u001b[0m\u001b[0mExit\u001b[0m\u001b[1;33m(\u001b[0m\u001b[1;33m)\u001b[0m\u001b[1;33m\u001b[0m\u001b[1;33m\u001b[0m\u001b[0m\n\u001b[0;32m    567\u001b[0m     \u001b[1;32melse\u001b[0m\u001b[1;33m:\u001b[0m\u001b[1;33m\u001b[0m\u001b[1;33m\u001b[0m\u001b[0m\n\u001b[1;32m--> 568\u001b[1;33m       \u001b[0mresult\u001b[0m \u001b[1;33m=\u001b[0m \u001b[0mself\u001b[0m\u001b[1;33m.\u001b[0m\u001b[0m_call\u001b[0m\u001b[1;33m(\u001b[0m\u001b[1;33m*\u001b[0m\u001b[0margs\u001b[0m\u001b[1;33m,\u001b[0m \u001b[1;33m**\u001b[0m\u001b[0mkwds\u001b[0m\u001b[1;33m)\u001b[0m\u001b[1;33m\u001b[0m\u001b[1;33m\u001b[0m\u001b[0m\n\u001b[0m\u001b[0;32m    569\u001b[0m \u001b[1;33m\u001b[0m\u001b[0m\n\u001b[0;32m    570\u001b[0m     \u001b[1;32mif\u001b[0m \u001b[0mtracing_count\u001b[0m \u001b[1;33m==\u001b[0m \u001b[0mself\u001b[0m\u001b[1;33m.\u001b[0m\u001b[0m_get_tracing_count\u001b[0m\u001b[1;33m(\u001b[0m\u001b[1;33m)\u001b[0m\u001b[1;33m:\u001b[0m\u001b[1;33m\u001b[0m\u001b[1;33m\u001b[0m\u001b[0m\n",
      "\u001b[1;32m~\\AppData\\Local\\Continuum\\anaconda3\\envs\\tensorflow\\lib\\site-packages\\tensorflow_core\\python\\eager\\def_function.py\u001b[0m in \u001b[0;36m_call\u001b[1;34m(self, *args, **kwds)\u001b[0m\n\u001b[0;32m    597\u001b[0m       \u001b[1;31m# In this case we have created variables on the first call, so we run the\u001b[0m\u001b[1;33m\u001b[0m\u001b[1;33m\u001b[0m\u001b[1;33m\u001b[0m\u001b[0m\n\u001b[0;32m    598\u001b[0m       \u001b[1;31m# defunned version which is guaranteed to never create variables.\u001b[0m\u001b[1;33m\u001b[0m\u001b[1;33m\u001b[0m\u001b[1;33m\u001b[0m\u001b[0m\n\u001b[1;32m--> 599\u001b[1;33m       \u001b[1;32mreturn\u001b[0m \u001b[0mself\u001b[0m\u001b[1;33m.\u001b[0m\u001b[0m_stateless_fn\u001b[0m\u001b[1;33m(\u001b[0m\u001b[1;33m*\u001b[0m\u001b[0margs\u001b[0m\u001b[1;33m,\u001b[0m \u001b[1;33m**\u001b[0m\u001b[0mkwds\u001b[0m\u001b[1;33m)\u001b[0m  \u001b[1;31m# pylint: disable=not-callable\u001b[0m\u001b[1;33m\u001b[0m\u001b[1;33m\u001b[0m\u001b[0m\n\u001b[0m\u001b[0;32m    600\u001b[0m     \u001b[1;32melif\u001b[0m \u001b[0mself\u001b[0m\u001b[1;33m.\u001b[0m\u001b[0m_stateful_fn\u001b[0m \u001b[1;32mis\u001b[0m \u001b[1;32mnot\u001b[0m \u001b[1;32mNone\u001b[0m\u001b[1;33m:\u001b[0m\u001b[1;33m\u001b[0m\u001b[1;33m\u001b[0m\u001b[0m\n\u001b[0;32m    601\u001b[0m       \u001b[1;31m# Release the lock early so that multiple threads can perform the call\u001b[0m\u001b[1;33m\u001b[0m\u001b[1;33m\u001b[0m\u001b[1;33m\u001b[0m\u001b[0m\n",
      "\u001b[1;32m~\\AppData\\Local\\Continuum\\anaconda3\\envs\\tensorflow\\lib\\site-packages\\tensorflow_core\\python\\eager\\function.py\u001b[0m in \u001b[0;36m__call__\u001b[1;34m(self, *args, **kwargs)\u001b[0m\n\u001b[0;32m   2361\u001b[0m     \u001b[1;32mwith\u001b[0m \u001b[0mself\u001b[0m\u001b[1;33m.\u001b[0m\u001b[0m_lock\u001b[0m\u001b[1;33m:\u001b[0m\u001b[1;33m\u001b[0m\u001b[1;33m\u001b[0m\u001b[0m\n\u001b[0;32m   2362\u001b[0m       \u001b[0mgraph_function\u001b[0m\u001b[1;33m,\u001b[0m \u001b[0margs\u001b[0m\u001b[1;33m,\u001b[0m \u001b[0mkwargs\u001b[0m \u001b[1;33m=\u001b[0m \u001b[0mself\u001b[0m\u001b[1;33m.\u001b[0m\u001b[0m_maybe_define_function\u001b[0m\u001b[1;33m(\u001b[0m\u001b[0margs\u001b[0m\u001b[1;33m,\u001b[0m \u001b[0mkwargs\u001b[0m\u001b[1;33m)\u001b[0m\u001b[1;33m\u001b[0m\u001b[1;33m\u001b[0m\u001b[0m\n\u001b[1;32m-> 2363\u001b[1;33m     \u001b[1;32mreturn\u001b[0m \u001b[0mgraph_function\u001b[0m\u001b[1;33m.\u001b[0m\u001b[0m_filtered_call\u001b[0m\u001b[1;33m(\u001b[0m\u001b[0margs\u001b[0m\u001b[1;33m,\u001b[0m \u001b[0mkwargs\u001b[0m\u001b[1;33m)\u001b[0m  \u001b[1;31m# pylint: disable=protected-access\u001b[0m\u001b[1;33m\u001b[0m\u001b[1;33m\u001b[0m\u001b[0m\n\u001b[0m\u001b[0;32m   2364\u001b[0m \u001b[1;33m\u001b[0m\u001b[0m\n\u001b[0;32m   2365\u001b[0m   \u001b[1;33m@\u001b[0m\u001b[0mproperty\u001b[0m\u001b[1;33m\u001b[0m\u001b[1;33m\u001b[0m\u001b[0m\n",
      "\u001b[1;32m~\\AppData\\Local\\Continuum\\anaconda3\\envs\\tensorflow\\lib\\site-packages\\tensorflow_core\\python\\eager\\function.py\u001b[0m in \u001b[0;36m_filtered_call\u001b[1;34m(self, args, kwargs)\u001b[0m\n\u001b[0;32m   1609\u001b[0m          if isinstance(t, (ops.Tensor,\n\u001b[0;32m   1610\u001b[0m                            resource_variable_ops.BaseResourceVariable))),\n\u001b[1;32m-> 1611\u001b[1;33m         self.captured_inputs)\n\u001b[0m\u001b[0;32m   1612\u001b[0m \u001b[1;33m\u001b[0m\u001b[0m\n\u001b[0;32m   1613\u001b[0m   \u001b[1;32mdef\u001b[0m \u001b[0m_call_flat\u001b[0m\u001b[1;33m(\u001b[0m\u001b[0mself\u001b[0m\u001b[1;33m,\u001b[0m \u001b[0margs\u001b[0m\u001b[1;33m,\u001b[0m \u001b[0mcaptured_inputs\u001b[0m\u001b[1;33m,\u001b[0m \u001b[0mcancellation_manager\u001b[0m\u001b[1;33m=\u001b[0m\u001b[1;32mNone\u001b[0m\u001b[1;33m)\u001b[0m\u001b[1;33m:\u001b[0m\u001b[1;33m\u001b[0m\u001b[1;33m\u001b[0m\u001b[0m\n",
      "\u001b[1;32m~\\AppData\\Local\\Continuum\\anaconda3\\envs\\tensorflow\\lib\\site-packages\\tensorflow_core\\python\\eager\\function.py\u001b[0m in \u001b[0;36m_call_flat\u001b[1;34m(self, args, captured_inputs, cancellation_manager)\u001b[0m\n\u001b[0;32m   1690\u001b[0m       \u001b[1;31m# No tape is watching; skip to running the function.\u001b[0m\u001b[1;33m\u001b[0m\u001b[1;33m\u001b[0m\u001b[1;33m\u001b[0m\u001b[0m\n\u001b[0;32m   1691\u001b[0m       return self._build_call_outputs(self._inference_function.call(\n\u001b[1;32m-> 1692\u001b[1;33m           ctx, args, cancellation_manager=cancellation_manager))\n\u001b[0m\u001b[0;32m   1693\u001b[0m     forward_backward = self._select_forward_and_backward_functions(\n\u001b[0;32m   1694\u001b[0m         \u001b[0margs\u001b[0m\u001b[1;33m,\u001b[0m\u001b[1;33m\u001b[0m\u001b[1;33m\u001b[0m\u001b[0m\n",
      "\u001b[1;32m~\\AppData\\Local\\Continuum\\anaconda3\\envs\\tensorflow\\lib\\site-packages\\tensorflow_core\\python\\eager\\function.py\u001b[0m in \u001b[0;36mcall\u001b[1;34m(self, ctx, args, cancellation_manager)\u001b[0m\n\u001b[0;32m    543\u001b[0m               \u001b[0minputs\u001b[0m\u001b[1;33m=\u001b[0m\u001b[0margs\u001b[0m\u001b[1;33m,\u001b[0m\u001b[1;33m\u001b[0m\u001b[1;33m\u001b[0m\u001b[0m\n\u001b[0;32m    544\u001b[0m               \u001b[0mattrs\u001b[0m\u001b[1;33m=\u001b[0m\u001b[1;33m(\u001b[0m\u001b[1;34m\"executor_type\"\u001b[0m\u001b[1;33m,\u001b[0m \u001b[0mexecutor_type\u001b[0m\u001b[1;33m,\u001b[0m \u001b[1;34m\"config_proto\"\u001b[0m\u001b[1;33m,\u001b[0m \u001b[0mconfig\u001b[0m\u001b[1;33m)\u001b[0m\u001b[1;33m,\u001b[0m\u001b[1;33m\u001b[0m\u001b[1;33m\u001b[0m\u001b[0m\n\u001b[1;32m--> 545\u001b[1;33m               ctx=ctx)\n\u001b[0m\u001b[0;32m    546\u001b[0m         \u001b[1;32melse\u001b[0m\u001b[1;33m:\u001b[0m\u001b[1;33m\u001b[0m\u001b[1;33m\u001b[0m\u001b[0m\n\u001b[0;32m    547\u001b[0m           outputs = execute.execute_with_cancellation(\n",
      "\u001b[1;32m~\\AppData\\Local\\Continuum\\anaconda3\\envs\\tensorflow\\lib\\site-packages\\tensorflow_core\\python\\eager\\execute.py\u001b[0m in \u001b[0;36mquick_execute\u001b[1;34m(op_name, num_outputs, inputs, attrs, ctx, name)\u001b[0m\n\u001b[0;32m     59\u001b[0m     tensors = pywrap_tensorflow.TFE_Py_Execute(ctx._handle, device_name,\n\u001b[0;32m     60\u001b[0m                                                \u001b[0mop_name\u001b[0m\u001b[1;33m,\u001b[0m \u001b[0minputs\u001b[0m\u001b[1;33m,\u001b[0m \u001b[0mattrs\u001b[0m\u001b[1;33m,\u001b[0m\u001b[1;33m\u001b[0m\u001b[1;33m\u001b[0m\u001b[0m\n\u001b[1;32m---> 61\u001b[1;33m                                                num_outputs)\n\u001b[0m\u001b[0;32m     62\u001b[0m   \u001b[1;32mexcept\u001b[0m \u001b[0mcore\u001b[0m\u001b[1;33m.\u001b[0m\u001b[0m_NotOkStatusException\u001b[0m \u001b[1;32mas\u001b[0m \u001b[0me\u001b[0m\u001b[1;33m:\u001b[0m\u001b[1;33m\u001b[0m\u001b[1;33m\u001b[0m\u001b[0m\n\u001b[0;32m     63\u001b[0m     \u001b[1;32mif\u001b[0m \u001b[0mname\u001b[0m \u001b[1;32mis\u001b[0m \u001b[1;32mnot\u001b[0m \u001b[1;32mNone\u001b[0m\u001b[1;33m:\u001b[0m\u001b[1;33m\u001b[0m\u001b[1;33m\u001b[0m\u001b[0m\n",
      "\u001b[1;31mKeyboardInterrupt\u001b[0m: "
     ]
    }
   ],
   "source": [
    "epochs = 20\n",
    "batch_size = 256\n",
    "model = build_model()\n",
    "X_train, y_train = get_train_data_regr(2)\n",
    "model.fit(X_train, y_train, epochs=epochs, batch_size = batch_size, validation_split=0.2, shuffle=True)"
   ]
  },
  {
   "cell_type": "code",
   "execution_count": 195,
   "metadata": {},
   "outputs": [],
   "source": [
    "y_pred = model.predict(X_test_2).squeeze()"
   ]
  },
  {
   "cell_type": "code",
   "execution_count": 196,
   "metadata": {},
   "outputs": [
    {
     "data": {
      "text/plain": [
       "17948044.0"
      ]
     },
     "execution_count": 196,
     "metadata": {},
     "output_type": "execute_result"
    }
   ],
   "source": [
    "y_pred.sum()"
   ]
  },
  {
   "cell_type": "code",
   "execution_count": 197,
   "metadata": {
    "scrolled": true
   },
   "outputs": [
    {
     "data": {
      "text/plain": [
       "192.7855864041011"
      ]
     },
     "execution_count": 197,
     "metadata": {},
     "output_type": "execute_result"
    }
   ],
   "source": [
    "(np.abs((y_pred - y_test_2))).mean()"
   ]
  },
  {
   "cell_type": "code",
   "execution_count": 198,
   "metadata": {},
   "outputs": [
    {
     "data": {
      "text/plain": [
       "array([334.72394,   0.     ,   0.     , ...,   0.     , 205.2121 ,\n",
       "         0.     ], dtype=float32)"
      ]
     },
     "execution_count": 198,
     "metadata": {},
     "output_type": "execute_result"
    }
   ],
   "source": [
    "y_pred"
   ]
  },
  {
   "cell_type": "code",
   "execution_count": 199,
   "metadata": {},
   "outputs": [
    {
     "data": {
      "text/plain": [
       "array([  1., 192.,   0., ...,  10.,  41.,   0.])"
      ]
     },
     "execution_count": 199,
     "metadata": {},
     "output_type": "execute_result"
    }
   ],
   "source": [
    "y_test_2"
   ]
  }
 ],
 "metadata": {
  "kernelspec": {
   "display_name": "Python (Tensorflow)",
   "language": "python",
   "name": "tensorflow"
  },
  "language_info": {
   "codemirror_mode": {
    "name": "ipython",
    "version": 3
   },
   "file_extension": ".py",
   "mimetype": "text/x-python",
   "name": "python",
   "nbconvert_exporter": "python",
   "pygments_lexer": "ipython3",
   "version": "3.6.8"
  }
 },
 "nbformat": 4,
 "nbformat_minor": 2
}
