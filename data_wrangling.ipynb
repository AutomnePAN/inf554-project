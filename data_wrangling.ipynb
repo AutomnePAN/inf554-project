{
 "cells": [
  {
   "cell_type": "code",
   "execution_count": 43,
   "metadata": {},
   "outputs": [],
   "source": [
    "import pandas as pd\n",
    "import numpy as np\n",
    "import re"
   ]
  },
  {
   "cell_type": "code",
   "execution_count": 44,
   "metadata": {},
   "outputs": [],
   "source": [
    "df = pd.read_csv(\"data/train.csv\")"
   ]
  },
  {
   "cell_type": "code",
   "execution_count": 45,
   "metadata": {},
   "outputs": [
    {
     "data": {
      "text/html": [
       "<div>\n",
       "<style scoped>\n",
       "    .dataframe tbody tr th:only-of-type {\n",
       "        vertical-align: middle;\n",
       "    }\n",
       "\n",
       "    .dataframe tbody tr th {\n",
       "        vertical-align: top;\n",
       "    }\n",
       "\n",
       "    .dataframe thead th {\n",
       "        text-align: right;\n",
       "    }\n",
       "</style>\n",
       "<table border=\"1\" class=\"dataframe\">\n",
       "  <thead>\n",
       "    <tr style=\"text-align: right;\">\n",
       "      <th></th>\n",
       "      <th>id</th>\n",
       "      <th>timestamp</th>\n",
       "      <th>retweet_count</th>\n",
       "      <th>user_verified</th>\n",
       "      <th>user_statuses_count</th>\n",
       "      <th>user_followers_count</th>\n",
       "      <th>user_friends_count</th>\n",
       "      <th>user_mentions</th>\n",
       "      <th>urls</th>\n",
       "      <th>hashtags</th>\n",
       "      <th>text</th>\n",
       "    </tr>\n",
       "  </thead>\n",
       "  <tbody>\n",
       "    <tr>\n",
       "      <th>0</th>\n",
       "      <td>0</td>\n",
       "      <td>1588696955143</td>\n",
       "      <td>0</td>\n",
       "      <td>False</td>\n",
       "      <td>68460</td>\n",
       "      <td>1101</td>\n",
       "      <td>1226</td>\n",
       "      <td>NaN</td>\n",
       "      <td>NaN</td>\n",
       "      <td>NaN</td>\n",
       "      <td>Smh I give up</td>\n",
       "    </tr>\n",
       "    <tr>\n",
       "      <th>1</th>\n",
       "      <td>1</td>\n",
       "      <td>1588464948124</td>\n",
       "      <td>0</td>\n",
       "      <td>False</td>\n",
       "      <td>309</td>\n",
       "      <td>51</td>\n",
       "      <td>202</td>\n",
       "      <td>NaN</td>\n",
       "      <td>NaN</td>\n",
       "      <td>NaN</td>\n",
       "      <td>Most of us are Human Beings, but I think you m...</td>\n",
       "    </tr>\n",
       "    <tr>\n",
       "      <th>2</th>\n",
       "      <td>2</td>\n",
       "      <td>1588634673360</td>\n",
       "      <td>0</td>\n",
       "      <td>False</td>\n",
       "      <td>3241</td>\n",
       "      <td>1675</td>\n",
       "      <td>2325</td>\n",
       "      <td>NaN</td>\n",
       "      <td>NaN</td>\n",
       "      <td>NaN</td>\n",
       "      <td>Old dirty tricks Trump, at it again...like we ...</td>\n",
       "    </tr>\n",
       "    <tr>\n",
       "      <th>3</th>\n",
       "      <td>3</td>\n",
       "      <td>1588433158672</td>\n",
       "      <td>0</td>\n",
       "      <td>False</td>\n",
       "      <td>32327</td>\n",
       "      <td>667</td>\n",
       "      <td>304</td>\n",
       "      <td>NaN</td>\n",
       "      <td>NaN</td>\n",
       "      <td>NaN</td>\n",
       "      <td>Seriously..... I worked 86 hours my last check...</td>\n",
       "    </tr>\n",
       "    <tr>\n",
       "      <th>4</th>\n",
       "      <td>4</td>\n",
       "      <td>1588582751599</td>\n",
       "      <td>0</td>\n",
       "      <td>False</td>\n",
       "      <td>581</td>\n",
       "      <td>42</td>\n",
       "      <td>127</td>\n",
       "      <td>NaN</td>\n",
       "      <td>NaN</td>\n",
       "      <td>NaN</td>\n",
       "      <td>May ALMIGHTY ALLAH have mercy on us all. Only ...</td>\n",
       "    </tr>\n",
       "    <tr>\n",
       "      <th>5</th>\n",
       "      <td>5</td>\n",
       "      <td>1588434563287</td>\n",
       "      <td>0</td>\n",
       "      <td>False</td>\n",
       "      <td>7214</td>\n",
       "      <td>503</td>\n",
       "      <td>1126</td>\n",
       "      <td>NaN</td>\n",
       "      <td>NaN</td>\n",
       "      <td>NaN</td>\n",
       "      <td>They couldn’t care less.</td>\n",
       "    </tr>\n",
       "    <tr>\n",
       "      <th>6</th>\n",
       "      <td>6</td>\n",
       "      <td>1588692966869</td>\n",
       "      <td>2</td>\n",
       "      <td>False</td>\n",
       "      <td>372</td>\n",
       "      <td>738</td>\n",
       "      <td>472</td>\n",
       "      <td>NaN</td>\n",
       "      <td>twitter.com/i/web/status/1…</td>\n",
       "      <td>Ethiopia</td>\n",
       "      <td>Extremely valid points being made here 👇🏾 #Eth...</td>\n",
       "    </tr>\n",
       "    <tr>\n",
       "      <th>7</th>\n",
       "      <td>7</td>\n",
       "      <td>1588316892450</td>\n",
       "      <td>1</td>\n",
       "      <td>False</td>\n",
       "      <td>2085</td>\n",
       "      <td>3808</td>\n",
       "      <td>153</td>\n",
       "      <td>NaN</td>\n",
       "      <td>twitter.com/i/web/status/1…</td>\n",
       "      <td>NaN</td>\n",
       "      <td>COVID-19 dominated the discussion Tuesday at a...</td>\n",
       "    </tr>\n",
       "    <tr>\n",
       "      <th>8</th>\n",
       "      <td>8</td>\n",
       "      <td>1588625905286</td>\n",
       "      <td>0</td>\n",
       "      <td>False</td>\n",
       "      <td>17765</td>\n",
       "      <td>11666</td>\n",
       "      <td>40</td>\n",
       "      <td>NaN</td>\n",
       "      <td>NaN</td>\n",
       "      <td>NaN</td>\n",
       "      <td>BC now has 112 patients on ventilators.  17 of...</td>\n",
       "    </tr>\n",
       "    <tr>\n",
       "      <th>9</th>\n",
       "      <td>9</td>\n",
       "      <td>1588604315931</td>\n",
       "      <td>0</td>\n",
       "      <td>False</td>\n",
       "      <td>3086</td>\n",
       "      <td>66</td>\n",
       "      <td>241</td>\n",
       "      <td>NaN</td>\n",
       "      <td>NaN</td>\n",
       "      <td>NaN</td>\n",
       "      <td>a COVID-19 vaccine would be pretty lit ngl</td>\n",
       "    </tr>\n",
       "  </tbody>\n",
       "</table>\n",
       "</div>"
      ],
      "text/plain": [
       "   id      timestamp  retweet_count  user_verified  user_statuses_count  \\\n",
       "0   0  1588696955143              0          False                68460   \n",
       "1   1  1588464948124              0          False                  309   \n",
       "2   2  1588634673360              0          False                 3241   \n",
       "3   3  1588433158672              0          False                32327   \n",
       "4   4  1588582751599              0          False                  581   \n",
       "5   5  1588434563287              0          False                 7214   \n",
       "6   6  1588692966869              2          False                  372   \n",
       "7   7  1588316892450              1          False                 2085   \n",
       "8   8  1588625905286              0          False                17765   \n",
       "9   9  1588604315931              0          False                 3086   \n",
       "\n",
       "   user_followers_count  user_friends_count user_mentions  \\\n",
       "0                  1101                1226           NaN   \n",
       "1                    51                 202           NaN   \n",
       "2                  1675                2325           NaN   \n",
       "3                   667                 304           NaN   \n",
       "4                    42                 127           NaN   \n",
       "5                   503                1126           NaN   \n",
       "6                   738                 472           NaN   \n",
       "7                  3808                 153           NaN   \n",
       "8                 11666                  40           NaN   \n",
       "9                    66                 241           NaN   \n",
       "\n",
       "                          urls  hashtags  \\\n",
       "0                          NaN       NaN   \n",
       "1                          NaN       NaN   \n",
       "2                          NaN       NaN   \n",
       "3                          NaN       NaN   \n",
       "4                          NaN       NaN   \n",
       "5                          NaN       NaN   \n",
       "6  twitter.com/i/web/status/1…  Ethiopia   \n",
       "7  twitter.com/i/web/status/1…       NaN   \n",
       "8                          NaN       NaN   \n",
       "9                          NaN       NaN   \n",
       "\n",
       "                                                text  \n",
       "0                                      Smh I give up  \n",
       "1  Most of us are Human Beings, but I think you m...  \n",
       "2  Old dirty tricks Trump, at it again...like we ...  \n",
       "3  Seriously..... I worked 86 hours my last check...  \n",
       "4  May ALMIGHTY ALLAH have mercy on us all. Only ...  \n",
       "5                           They couldn’t care less.  \n",
       "6  Extremely valid points being made here 👇🏾 #Eth...  \n",
       "7  COVID-19 dominated the discussion Tuesday at a...  \n",
       "8  BC now has 112 patients on ventilators.  17 of...  \n",
       "9         a COVID-19 vaccine would be pretty lit ngl  "
      ]
     },
     "execution_count": 45,
     "metadata": {},
     "output_type": "execute_result"
    }
   ],
   "source": [
    "df.head(10)"
   ]
  },
  {
   "cell_type": "code",
   "execution_count": 21,
   "metadata": {},
   "outputs": [
    {
     "data": {
      "text/plain": [
       "0"
      ]
     },
     "execution_count": 21,
     "metadata": {},
     "output_type": "execute_result"
    }
   ],
   "source": [
    "df[\"month\"].isna().sum()"
   ]
  },
  {
   "cell_type": "code",
   "execution_count": 46,
   "metadata": {},
   "outputs": [],
   "source": [
    "# Just convert False to 0 and True to 1.\n",
    "\n",
    "df[\"user_verified\"] = df[\"user_verified\"].astype(int)"
   ]
  },
  {
   "cell_type": "code",
   "execution_count": 47,
   "metadata": {},
   "outputs": [],
   "source": [
    "# I don't know why I am supposed to take the modulo, but it works...\n",
    "# If I don't do that, I get a wrong date in 1970\n",
    "\n",
    "df['date']  =(df['timestamp']).astype(np.int64) // 10**3"
   ]
  },
  {
   "cell_type": "code",
   "execution_count": 48,
   "metadata": {},
   "outputs": [],
   "source": [
    "# unit = 's' puts the date in unix format. Necessary to get the good format.\n",
    "\n",
    "df['date']= pd.to_datetime(df['date'], unit='s')"
   ]
  },
  {
   "cell_type": "code",
   "execution_count": 49,
   "metadata": {},
   "outputs": [],
   "source": [
    "df[\"hour\"] = df[\"date\"].dt.hour\n",
    "df[\"day\"] = df[\"date\"].dt.day\n",
    "df[\"month\"] = df[\"date\"].dt.month\n",
    "\n",
    "# 0 for Monday\n",
    "df[\"weekday\"] = df[\"date\"].dt.weekday\n",
    "\n",
    "# If the day is a weekend or not\n",
    "df[\"weekend\"] = np.where(np.logical_or(df[\"weekday\"] == 5, df[\"weekday\"] == 6), 1, 0)"
   ]
  },
  {
   "cell_type": "code",
   "execution_count": 50,
   "metadata": {},
   "outputs": [],
   "source": [
    "df[\"friends_followers_ratio\"] = df[\"user_friends_count\"]/df[\"user_followers_count\"]"
   ]
  },
  {
   "cell_type": "code",
   "execution_count": 51,
   "metadata": {},
   "outputs": [],
   "source": [
    "df[\"has_hashtags\"] = np.where(pd.notnull(df[\"hashtags\"]), 1, 0)\n",
    "df[\"has_mentions\"] = np.where(pd.notnull(df[\"user_mentions\"]), 1, 0)\n",
    "df[\"has_urls\"] = np.where(pd.notnull(df[\"urls\"]), 1, 0)"
   ]
  },
  {
   "cell_type": "code",
   "execution_count": 52,
   "metadata": {},
   "outputs": [],
   "source": [
    "# Stupid to use this fonction\n",
    "\n",
    "def counter(word):\n",
    "    if pd.isna(word):\n",
    "        return 0\n",
    "    number = 1\n",
    "    for s in word:\n",
    "        if s == ',':\n",
    "            number += 1\n",
    "    return number"
   ]
  },
  {
   "cell_type": "code",
   "execution_count": 53,
   "metadata": {},
   "outputs": [],
   "source": [
    "df[\"number_of_urls\"] = df[\"urls\"].apply(counter)\n",
    "df[\"number_of_mentions\"] = df[\"user_mentions\"].apply(counter)\n",
    "df[\"number_of_hashtags\"] = df[\"hashtags\"].apply(counter)"
   ]
  },
  {
   "cell_type": "code",
   "execution_count": 35,
   "metadata": {},
   "outputs": [],
   "source": [
    "# An auxiliary function that, given a text, separates it\n",
    "# with commas (ie useful to get a list of hashtags, urls, mentions)\n",
    "\n",
    "def word_cut(word):\n",
    "    if pd.isna(word):\n",
    "        return []\n",
    "    word_array = np.array([])\n",
    "    l = 0\n",
    "    for i,s in enumerate(word):\n",
    "        if s == ',':\n",
    "            word_array = np.append(word_array, word[l:i])\n",
    "            l = i+1\n",
    "    word_array = np.append(word_array, word[l::])\n",
    "    return word_array\n",
    "    "
   ]
  },
  {
   "cell_type": "code",
   "execution_count": 36,
   "metadata": {},
   "outputs": [],
   "source": [
    "df[\"urls_list\"] = df[\"urls\"].apply(word_cut)\n",
    "df[\"hashtags_list\"] = df[\"hashtags\"].apply(word_cut)\n",
    "df[\"mentions_list\"] = df[\"user_mentions\"].apply(word_cut)"
   ]
  },
  {
   "cell_type": "code",
   "execution_count": 272,
   "metadata": {},
   "outputs": [],
   "source": [
    "# A dataframe with only non_empty Hashtags\n",
    "\n",
    "#df_bis = df[df['hashtags_list'].map(lambda d: len(d)) > 0]"
   ]
  },
  {
   "cell_type": "code",
   "execution_count": 274,
   "metadata": {},
   "outputs": [
    {
     "name": "stderr",
     "output_type": "stream",
     "text": [
      "<ipython-input-274-9c7f81c7d868>:4: FutureWarning: elementwise comparison failed; returning scalar instead, but in the future will perform elementwise comparison\n",
      "  df[\"hashtag_popularity\"] = df[\"hashtags_list\"].head(100).apply(lambda x : 0 if x == [] else [df_bis[\"hashtags_list\"].apply(lambda x : 1 if word in x else 0).sum() for word in x])\n"
     ]
    }
   ],
   "source": [
    "# Seems simple but takes too long time... I don't know if there is an optimal solution.\n",
    "\n",
    "# I added .head(100) to see if it works for just a few tweets.\n",
    "#df[\"hashtag_popularity\"] = df[\"hashtags_list\"].head(100).apply(lambda x : 0 if x == [] else [df_bis[\"hashtags_list\"].apply(lambda x : 1 if word in x else 0).sum() for word in x])"
   ]
  },
  {
   "cell_type": "code",
   "execution_count": 59,
   "metadata": {},
   "outputs": [],
   "source": [
    "df.to_csv('data/partially_treated_train_data.csv', index = False)"
   ]
  }
 ],
 "metadata": {
  "kernelspec": {
   "display_name": "Python 3",
   "language": "python",
   "name": "python3"
  },
  "language_info": {
   "codemirror_mode": {
    "name": "ipython",
    "version": 3
   },
   "file_extension": ".py",
   "mimetype": "text/x-python",
   "name": "python",
   "nbconvert_exporter": "python",
   "pygments_lexer": "ipython3",
   "version": "3.6.9"
  }
 },
 "nbformat": 4,
 "nbformat_minor": 4
}
